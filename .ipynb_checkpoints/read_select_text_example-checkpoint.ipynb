{
 "cells": [
  {
   "cell_type": "code",
   "execution_count": 1,
   "metadata": {
    "nbpresent": {
     "id": "27360bf3-2cc6-48c0-92fc-546aa5030b82"
    }
   },
   "outputs": [],
   "source": [
    "import csv"
   ]
  },
  {
   "cell_type": "markdown",
   "metadata": {},
   "source": [
    "**open the pipe-delimited text file, select the rows with FEATURE_CLASS \"Falls\" and append FEATURE_NAME, STATE_ALPHA, and COUNTY_NAME to the variable gnisList, then print it**"
   ]
  },
  {
   "cell_type": "code",
   "execution_count": 6,
   "metadata": {
    "nbpresent": {
     "id": "1b29fda0-a047-4d9a-84a6-75f7c1de6631"
    }
   },
   "outputs": [
    {
     "name": "stdout",
     "output_type": "stream",
     "text": [
      "['Ash Creek Falls', 'AZ', 'Graham', 'Beaver Falls', 'AZ', 'Coconino', 'Big Flow', 'AZ', 'Apache', 'Cheyava Falls', 'AZ', 'Coconino', 'Columbine Falls', 'AZ', 'Mohave', 'Deer Creek Falls', 'AZ', 'Coconino', 'Glynns Falls', 'AZ', 'Yuma', 'Grand Falls', 'AZ', 'Coconino', 'Mooney Falls', 'AZ', 'Coconino', 'Navajo Falls', 'AZ', 'Coconino', 'Ribbon Falls', 'AZ', 'Coconino', 'Fiftyfoot Falls', 'AZ', 'Coconino', 'Travertine Falls', 'AZ', 'Mohave', 'Two Hundred and Fivemile Rapids', 'AZ', 'Coconino', 'Whitmore Rapids', 'AZ', 'Mohave', 'Winn Falls', 'AZ', 'Cochise', 'Chitty Falls', 'AZ', 'Greenlee', 'Chiva Falls', 'AZ', 'Pima', 'Minnehaha Waters', 'AZ', 'Yavapai', 'Sardine Falls', 'AZ', 'Greenlee', 'Seven Cataracts', 'AZ', 'Pima', 'The Falls', 'AZ', 'Yavapai', 'Tanque Verde Falls', 'AZ', 'Pima', 'Black Falls', 'AZ', 'Coconino', 'Workman Creek Falls', 'AZ', 'Gila', 'Havasu Falls', 'AZ', 'Coconino', 'Bailey Falls', 'AR', 'Independence', 'Bear Pen Falls', 'AR', 'Stone', 'Bridal Veil Falls', 'AR', 'Cleburne', 'Cedar Falls', 'AR', 'Conway', 'Cottonwood Falls', 'AR', 'Fulton', 'Lay Falls', 'AR', 'Marion', 'Saddler Falls', 'AR', 'Fulton', 'Spainhour Falls', 'AR', 'Johnson', 'Marble Falls', 'AR', 'Newton', 'Sausmann Falls', 'AR', 'Perry', 'Falling Water Falls', 'AR', 'Pope', 'Eden Falls', 'AR', 'Newton', 'Cedar Creek Falls', 'AL', 'Mobile', 'Davis Falls', 'AL', 'Shelby', 'High Falls', 'AL', 'Jackson', 'High Shoals Falls', 'AL', 'Randolph', 'Little Falls', 'AL', 'Jackson', 'Peavine Falls', 'AL', 'Shelby', 'Piney Branch Falls', 'AL', 'Marshall', 'Ragsdale Falls', 'AL', 'Marshall', 'Seven Falls', 'AL', 'Morgan', 'Short Creek Falls', 'AL', 'Marshall', 'The Fall Off', 'AL', 'Lawrence', 'Thompson Falls', 'AL', 'Marshall', 'Weaver Falls', 'AL', 'Shelby', 'Welcome Falls', 'AL', 'Morgan', 'Rock Falls', 'AL', 'Houston', 'Great Falls', 'AL', 'Lee', 'Village Falls', 'AL', 'Jefferson', 'The Falls', 'AL', 'Lauderdale', 'Rendalia Water Falls', 'AL', 'Talladega', 'University Falls (historical)', 'AL', 'Tuscaloosa', 'De Soto Falls', 'AL', 'DeKalb', 'Griffin Falls', 'AL', 'DeKalb', 'High Falls', 'AL', 'DeKalb', 'Little Falls', 'AL', 'DeKalb', 'Swindell Falls', 'AL', 'DeKalb', 'Little River Falls', 'AL', 'DeKalb', 'Tallapoosa Falls (historical)', 'AL', 'Elmore', 'Wetumpka Falls', 'AL', 'Elmore', 'Ditto Falls', 'AL', 'Morgan', 'Noccalula Falls', 'AL', 'Etowah', 'Butler Falls', 'AL', 'Franklin', 'Great Falls', 'AL', 'Talladega', 'Salt Creek Falls', 'AL', 'Talladega', 'Big Creek Falls', 'CO', 'Jackson', 'Lower Disaster Falls', 'CO', 'Moffat', 'Upper Disaster Falls', 'CO', 'Moffat', 'Triplet Falls', 'CO', 'Moffat', 'Morgan Creek Falls', 'CO', 'Routt', 'West Fork Falls', 'CO', 'Garfield', 'East Fork Falls', 'CO', 'Garfield', 'East Middle Fork Falls', 'CO', 'Garfield', 'Fish Creek Falls', 'CO', 'Routt', 'Bessies Falls', 'CO', 'Garfield', 'South Fork Falls', 'CO', 'Garfield', 'Rifle Falls', 'CO', 'Garfield', 'Bridal Veil Falls', 'CO', 'Garfield', 'Whitnach Falls', 'CO', 'Eagle', 'Hayes Creek Falls', 'CO', 'Pitkin', 'Eagle Falls', 'CO', 'Dolores', 'Poudre Falls', 'CO', 'Larimer', 'Bridal Veil Falls', 'CO', 'Larimer', 'Thousand Falls', 'CO', 'Larimer', 'Horseshoe Falls', 'CO', 'Larimer', 'Granite Falls', 'CO', 'Grand', 'Cascade Falls', 'CO', 'Grand', 'Marguerite Falls', 'CO', 'Larimer', 'Grace Falls', 'CO', 'Larimer', 'Alberta Falls', 'CO', 'Larimer', 'Glacier Falls', 'CO', 'Larimer', 'Timberline Falls', 'CO', 'Larimer', 'War Dance Falls', 'CO', 'Grand', 'Columbine Falls', 'CO', 'Larimer', 'Trio Falls', 'CO', 'Boulder', 'Fan Falls', 'CO', 'Boulder', 'Thunder Falls', 'CO', 'Boulder', 'Mertensia Falls', 'CO', 'Boulder', 'Calypso Cascades', 'CO', 'Boulder', 'Ouzel Falls', 'CO', 'Boulder', 'Copeland Falls', 'CO', 'Boulder', 'Lyric Falls', 'CO', 'Boulder', 'Boulder Falls', 'CO', 'Boulder', 'McElmo Falls', 'CO', 'Montezuma', 'Snyder Falls', 'CO', 'Lake', 'Missouri Falls', 'CO', 'Gilpin', 'Snake River Falls', 'CO', 'Summit', 'Elk Falls', 'CO', 'Park', 'Piedra Falls', 'CO', 'Mineral', 'North Clear Creek Falls', 'CO', 'Hinsdale', 'South Clear Creek Falls', 'CO', 'Hinsdale', 'Cornel Falls', 'CO', 'San Miguel', 'Ingram Falls', 'CO', 'San Miguel', 'Bridal Veil Falls', 'CO', 'San Miguel', 'Gray Copper Falls', 'CO', 'Ouray', 'Bear Creek Falls', 'CO', 'Ouray', 'Argenta Falls', 'CO', 'Hinsdale', 'Cascade Falls', 'CO', 'Ouray', 'Treasure Falls', 'CO', 'Hinsdale', 'Crooke Falls', 'CO', 'Hinsdale', 'Judd Falls', 'CO', 'Gunnison', 'Bedrock Falls', 'CO', 'Chaffee', 'Silver Falls', 'CO', 'Mineral', 'Treasure Falls', 'CO', 'Mineral', 'Venable Falls', 'CO', 'Custer', 'Macey Falls', 'CO', 'Custer', 'Crystal Falls', 'CO', 'Custer', 'Zapata Falls', 'CO', 'Alamosa', 'Saint Marys Falls', 'CO', 'El Paso', 'Seven Falls', 'CO', 'El Paso', 'Silver Cascade Falls', 'CO', 'El Paso', 'Helen Hunt Falls', 'CO', 'El Paso', 'Apache Falls', 'CO', 'Huerfano', 'Trinchera Falls', 'CO', 'Las Animas', 'Red Falls', 'CO', 'Archuleta', 'Agnes Vaille Falls', 'CO', 'Chaffee', 'Timberline Falls', 'CO', 'Boulder', 'Lost Falls', 'CO', 'Larimer', 'Chasm Falls', 'CO', 'Larimer', 'Fern Falls', 'CO', 'Larimer', 'Ribbon Falls', 'CO', 'Larimer', 'Adams Falls', 'CO', 'Grand', 'Buttermilk Falls', 'CT', 'Litchfield', 'Chapman Falls', 'CT', 'Middlesex', 'Great Falls', 'CT', 'Litchfield', 'Silver Falls', 'CT', 'New London', 'Wadsworth Falls', 'CT', 'Middlesex', 'Westfield Falls', 'CT', 'Middlesex', 'Bear Creek Falls', 'CA', 'Shasta', 'Berry Creek Falls', 'CA', 'Santa Cruz', 'Blue Canyon Falls', 'CA', 'Fresno', 'Butano Falls', 'CA', 'San Mateo', 'Castle Rock Falls', 'CA', 'Santa Cruz', 'Green Valley Falls', 'CA', 'Solano', 'Hackmans Falls', 'CA', 'Sierra', 'Haraszthy Falls', 'CA', 'Sonoma', 'Linda Falls', 'CA', 'Napa', 'Llewellyn Falls', 'CA', 'Alpine', 'Lower Yosemite Fall', 'CA', 'Mariposa', 'Mill Creek Falls', 'CA', 'Mendocino', 'Mill Creek Falls', 'CA', 'Modoc', 'Mist Falls', 'CA', 'Fresno', 'Pepperwood Falls', 'CA', 'Humboldt', 'Roaring River Falls', 'CA', 'Fresno', 'Silver Spray Falls', 'CA', 'Fresno', 'Alamere Falls', 'CA', 'Marin', 'Tehan Falls', 'CA', 'Alameda', 'The Falls', 'CA', 'Sutter', 'Upper Yosemite Falls', 'CA', 'Mariposa', 'Bear Canyon Falls', 'CA', 'Imperial', 'Carrizo Falls', 'CA', 'Imperial', 'Cedar Creek Falls', 'CA', 'San Diego', 'Darwin Falls', 'CA', 'Inyo', 'Hidden Falls', 'CA', 'Riverside', 'Maidenhair Falls', 'CA', 'San Diego', 'Mildred Falls', 'CA', 'San Diego', 'Nojoqui Falls', 'CA', 'Santa Barbara', 'Pine Falls', 'CA', 'Monterey', 'Red Rock Falls', 'CA', 'San Bernardino', 'Silverwood Falls', 'CA', 'San Bernardino', 'Sturtevant Falls', 'CA', 'Los Angeles', 'Lehamite Falls', 'CA', 'Mariposa', 'Horsetail Falls', 'CA', 'Siskiyou', 'Wilderness Falls', 'CA', 'Siskiyou', 'Yosemite Falls', 'CA', 'Mariposa', 'Cascade Falls', 'CA', 'Mono', 'Horsetail Falls', 'CA', 'Mono', 'Preston Falls', 'CA', 'Tuolumne', 'Silver Apron', 'CA', 'Mariposa', 'Camino Falls', 'CA', 'Madera', 'Whisky Falls', 'CA', 'Madera', 'Corlieu Falls', 'CA', 'Madera', 'Red Rock Falls', 'CA', 'Madera', 'Angle Falls', 'CA', 'Madera', 'Lower Deer Creek Falls', 'CA', 'Tehama', 'Pywiack Cascade', 'CA', 'Mariposa', 'Sentinel Fall', 'CA', 'Mariposa', 'Snow Creek Falls', 'CA', 'Mariposa', 'Staircase Falls', 'CA', 'Mariposa', 'Bunnell Cascade', 'CA', 'Mariposa', 'California Falls', 'CA', 'Tuolumne', 'Illilouette Falls', 'CA', 'Mariposa', 'Ishi Pishi Falls', 'CA', 'Siskiyou', 'Kings Creek Falls', 'CA', 'Shasta', 'Le Conte Falls', 'CA', 'Tuolumne', 'Nevada Fall', 'CA', 'Mariposa', 'Rancheria Falls', 'CA', 'Tuolumne', 'Royal Arch Cascade', 'CA', 'Mariposa', 'Tuolumne Falls', 'CA', 'Tuolumne', 'Vernal Fall', 'CA', 'Mariposa', 'Waterwheel Falls', 'CA', 'Tuolumne', 'White Cascade', 'CA', 'Tuolumne', 'Bassi Falls', 'CA', 'El Dorado', 'Bluff Falls', 'CA', 'Tehama', 'Bridalveil Fall', 'CA', 'Mariposa', 'Burney Falls', 'CA', 'Shasta', 'Burnt Ranch Falls', 'CA', 'Trinity', 'Canyon Creek Falls', 'CA', 'Trinity', 'Chinquapin Falls', 'CA', 'Mariposa', 'Codfish Falls', 'CA', 'Placer', 'Coquette Falls', 'CA', 'Siskiyou', 'Deadhorse Falls', 'CA', 'Tehama', 'Deer Creek Falls', 'CA', 'Tehama', 'Eagle Falls', 'CA', 'El Dorado', 'Feather Falls', 'CA', 'Butte', 'First Falls', 'CA', 'Inyo', 'Foresta Falls', 'CA', 'Mariposa', 'Frazier Falls', 'CA', 'Sierra', 'Garlic Falls', 'CA', 'Fresno', 'Horsetail Falls', 'CA', 'Mono', 'Horsetail Falls', 'CA', 'El Dorado', 'Jawbone Falls', 'CA', 'Tuolumne', 'Kinner Falls', 'CA', 'Shasta', 'Leavitt Falls', 'CA', 'Mono', 'Little Nellie Falls', 'CA', 'Mariposa', 'Loves Falls', 'CA', 'Sierra', 'Lower Falls', 'CA', 'Siskiyou', 'Lower Rainbow Falls', 'CA', 'Madera', 'Maple Falls', 'CA', 'Siskiyou', 'Marble Falls', 'CA', 'Tulare', 'Middle Falls', 'CA', 'Siskiyou', 'Minaret Falls', 'CA', 'Madera', 'Mossbrae Falls', 'CA', 'Siskiyou', 'Pit River Falls', 'CA', 'Shasta', 'Potem Falls', 'CA', 'Shasta', 'Rainbow Falls', 'CA', 'Madera', 'Ribbon Fall', 'CA', 'Mariposa', 'Sardine Falls', 'CA', 'Mono', 'Silver Falls', 'CA', 'Mono', 'Silver Strand Falls', 'CA', 'Mariposa', 'The Cascades', 'CA', 'Mariposa', 'Tokopah Falls', 'CA', 'Tulare', 'Triple Falls', 'CA', 'Fresno', 'Tueeulala Falls', 'CA', 'Tuolumne', 'Upper Falls', 'CA', 'Siskiyou', 'Wapama Falls', 'CA', 'Tuolumne', 'Whitney Falls', 'CA', 'Siskiyou', 'Wildcat Falls', 'CA', 'Mariposa', 'Young Falls', 'CA', 'Lassen', 'Andreas Falls', 'CA', 'Riverside', 'Big Falls', 'CA', 'San Bernardino', 'Bonita Falls', 'CA', 'San Bernardino', 'Chagoopa Falls', 'CA', 'Tulare', 'Green Valley Falls', 'CA', 'San Diego', 'Middleman Falls', 'CA', 'San Bernardino', 'Monkeyface Falls', 'CA', 'San Bernardino', 'Pfeiffer Falls', 'CA', 'Monterey', 'Rose Valley Falls', 'CA', 'Ventura', 'Salmon Creek Falls', 'CA', 'Tulare', 'San Antonio Falls', 'CA', 'San Bernardino', 'Sisquoc Falls', 'CA', 'Santa Barbara', 'South Creek Falls', 'CA', 'Tulare', 'Tahquitz Falls', 'CA', 'Riverside', 'The Falls', 'CA', 'San Diego', 'Volcano Falls', 'CA', 'Tulare', 'Washtub Falls', 'CA', 'San Diego', 'Wolfskill Falls', 'CA', 'Los Angeles', 'Tufa Falls', 'CA', 'Tulare', 'Wellhouse Falls', 'CA', 'Santa Barbara', 'The Punch Bowl', 'CA', 'Ventura', 'Jackson Falls', 'CA', 'Ventura', 'Curtain Falls', 'CA', 'Butte', 'Falling Water', 'FL', 'Washington', 'Hightower Falls', 'GA', 'Polk', 'Lula Falls', 'GA', 'Walker', 'Padgett Falls', 'GA', 'Pickens', 'Rock Falls', 'GA', 'Coffee', 'Big Bend Falls', 'GA', 'Rabun', 'Black Falls', 'GA', 'Lumpkin', 'Cane Creek Falls', 'GA', 'Lumpkin', 'Cascade Falls', 'GA', 'Rabun', 'Clay Creek Falls', 'GA', 'Lumpkin', 'Dukes Creek Falls', 'GA', 'White', 'Estatoah Falls', 'GA', 'Rabun', 'Haynes Falls', 'GA', 'Union', 'Keown Falls', 'GA', 'Walker', 'Nottely Falls', 'GA', 'Union', 'Sea Creek Falls', 'GA', 'Fannin', 'Timpson Falls', 'GA', 'Rabun', 'Toccoa Falls', 'GA', 'Stephens', 'Horsetrough Falls', 'GA', 'Union', 'Helton Creek Falls', 'GA', 'Union', 'Amicalola Falls', 'GA', 'Dawson', 'Wilson Falls', 'GA', 'Habersham', 'Noontootla Falls', 'GA', 'Fannin', 'Cascade Falls', 'GA', 'Meriwether', 'Anna Ruby Falls', 'GA', 'White', 'High Falls', 'GA', 'Fannin', 'Stekoa Falls', 'GA', 'Rabun', 'Cochrans Falls', 'GA', 'Dawson', 'DeSoto Falls', 'GA', 'Lumpkin', 'Aa Falls', 'HI', 'Hawaii', 'Aimoo Falls', 'HI', 'Hawaii', 'ʻAkaka Falls', 'HI', 'Hawaii', 'ʻĀwini Falls', 'HI', 'Kauai', 'Haha Falls', 'HI', 'Maui', 'Haʻipuaʻena Falls', 'HI', 'Maui', 'Hakalaoa Falls', 'HI', 'Hawaii', 'Hāliʻi Falls', 'HI', 'Kauai', 'Hāloku Falls', 'HI', 'Maui', 'Halulu Falls', 'HI', 'Kauai', 'Hawaii Falls', 'HI', 'Hawaii', 'Hiʻilawe Falls', 'HI', 'Hawaii', 'Hikiau Falls', 'HI', 'Hawaii', 'Hina Falls', 'HI', 'Maui', 'Hinalele Falls', 'HI', 'Kauai', 'Hīpuapua Falls', 'HI', 'Maui', 'Hoʻopiʻi Falls', 'HI', 'Kauai', 'Hoʻopōuli Falls', 'HI', 'Kauai', 'Ipuu Falls', 'HI', 'Hawaii', 'Kāhili Falls', 'HI', 'Kauai', 'Kahiwa Falls', 'HI', 'Maui', 'Koholālele Falls', 'HI', 'Kauai', 'Kahūnā Falls', 'HI', 'Hawaii', 'Kaimukanaka Falls', 'HI', 'Hawaii', 'Kakeha Falls', 'HI', 'Hawaii', 'Kaluahine Falls', 'HI', 'Hawaii', 'Kanahualiʻi Falls', 'HI', 'Maui', 'Kapakaiki Falls', 'HI', 'Kauai', 'Kapaka Nui Falls', 'HI', 'Kauai', 'Kaukiuki Falls', 'HI', 'Kauai', 'Kauwehu Falls', 'HI', 'Hawaii', 'Keʻākū Falls', 'HI', 'Maui', 'Keanapakulua Falls', 'HI', 'Hawaii', 'Kekuapoʻowai Falls', 'HI', 'Maui', 'Kemole Falls', 'HI', 'Hawaii', 'Koakanini Falls', 'HI', 'Hawaii', 'Kopiliula Falls', 'HI', 'Maui', 'Kulaniapia Falls', 'HI', 'Hawaii', 'Lahomene Falls', 'HI', 'Hawaii', 'Lauiole Falls', 'HI', 'Hawaii', 'Lelekaae Falls', 'HI', 'Hawaii', 'Limahuli Falls', 'HI', 'Kauai', 'Manawaiopuna Falls', 'HI', 'Kauai', 'Mānoa Falls', 'HI', 'Honolulu', 'Moaʻula', 'HI', 'Maui', 'Moeloa Falls', 'HI', 'Kauai', 'Mōhihi Falls', 'HI', 'Kauai', 'Moʻoloa Falls', 'HI', 'Maui', 'Naalapa Falls', 'HI', 'Hawaii', 'Nanaue Falls', 'HI', 'Hawaii', 'ʻOloʻupena Falls', 'HI', 'Maui', 'Ooiki Falls', 'HI', 'Kauai', 'ʻOʻopulele Falls', 'HI', 'Kauai', 'Opae Kalaole Falls', 'HI', 'Kauai', 'ʻŌpaekaʻa Falls', 'HI', 'Kauai', 'Papala Falls', 'HI', 'Hawaii', 'Pāpalaua Falls', 'HI', 'Maui', 'Peepee Falls', 'HI', 'Hawaii', 'Poakana Falls', 'HI', 'Hawaii', 'Pukamaui Falls', 'HI', 'Hawaii', 'Puohokamoa Falls', 'HI', 'Maui', 'Puʻukaʻōkū Falls', 'HI', 'Maui', 'Pūwainui Falls', 'HI', 'Kauai', 'Rainbow Falls', 'HI', 'Hawaii', 'Sacred Falls', 'HI', 'Honolulu', 'Uhauʻiole Falls', 'HI', 'Kauai', 'Wahiloa Falls', 'HI', 'Hawaii', 'Waiokuna Falls', 'HI', 'Maui', 'Waialae Falls', 'HI', 'Hawaii', 'Waiʻalae Falls', 'HI', 'Kauai', 'Waiale Falls', 'HI', 'Hawaii', 'Waiamoa Falls', 'HI', 'Hawaii', 'Waiānuenue Falls', 'HI', 'Kauai', 'Waiemi Falls', 'HI', 'Hawaii', 'Waihiʻumalu Falls', 'HI', 'Maui', 'Waiholoa Falls', 'HI', 'Hawaii', 'Waihunehune Falls', 'HI', 'Kauai', 'Waiʻilikahi Falls', 'HI', 'Hawaii', 'Waikaka Falls', 'HI', 'Kauai', 'Waikani Falls', 'HI', 'Maui', 'Wailele Falls', 'HI', 'Maui', 'Wailoa Falls', 'HI', 'Hawaii', 'Wailua Falls', 'HI', 'Maui', 'Wailua Falls', 'HI', 'Kauai', 'Waimanu Falls', 'HI', 'Maui', 'Waimea Falls', 'HI', 'Honolulu', 'Waimoku Falls', 'HI', 'Maui', 'Waiohiwi Falls', 'HI', 'Maui', 'Waiokanalopaka Falls', 'HI', 'Hawaii', 'Waiokilo Falls', 'HI', 'Maui', 'Waiolue Falls', 'HI', 'Kauai', 'Waipoʻo Falls', 'HI', 'Kauai', 'Waipuhia Falls', 'HI', 'Honolulu', 'Auger Falls', 'ID', 'Twin Falls', 'Camel Falls', 'ID', 'Owyhee', 'Devils Washboard Falls', 'ID', 'Gooding', 'Jump Creek Falls', 'ID', 'Owyhee', 'Perrine Coulee Falls', 'ID', 'Twin Falls', 'Pillar Falls', 'ID', 'Twin Falls', 'Shoshone Falls', 'ID', 'Twin Falls', 'The Falls', 'ID', 'Owyhee', 'Twin Falls', 'ID', 'Jerome', 'Rambiker Falls', 'ID', 'Shoshone', 'Albeni Falls', 'ID', 'Bonner', 'Crane Falls (historical)', 'ID', 'Elmore', 'Deadman Falls', 'ID', 'Elmore', 'Baron Creek Falls', 'ID', 'Boise', 'Bear Creek Falls', 'ID', 'Adams', 'Big Falls', 'ID', 'Boise', 'Bridal Veil Falls', 'ID', 'Custer', 'Bull Run Creek Falls', 'ID', 'Clearwater', 'Caribou Falls', 'ID', 'Boundary', 'Copper Falls', 'ID', 'Boundary', 'Dagger Falls', 'ID', 'Valley', 'Devlin Falls', 'ID', 'Lemhi', 'Elk Creek Falls', 'ID', 'Clearwater', 'Fall Creek Falls', 'ID', 'Bonneville', 'Fern Falls', 'ID', 'Boise', 'Goat Falls', 'ID', 'Custer', 'Hazard Falls', 'ID', 'Idaho', 'Little Falls', 'ID', 'Boise', 'Lower Mesa Falls', 'ID', 'Fremont', 'Mallard Creek Falls', 'ID', 'Idaho', 'McAbee Falls', 'ID', 'Bonner', 'Mission Falls', 'ID', 'Bonner', 'Moyie Falls', 'ID', 'Boundary', 'Patsy Ann Falls', 'ID', 'Idaho', 'Salmon Falls', 'ID', 'Idaho', 'Selway Falls', 'ID', 'Idaho', 'Sheep Falls', 'ID', 'Fremont', 'Sheep Falls', 'ID', 'Fremont', 'Shoestring Falls', 'ID', 'Idaho', 'Smith Falls', 'ID', 'Boise', 'Smith Falls', 'ID', 'Boundary', 'Upper Mesa Falls', 'ID', 'Fremont', 'Upper Priest Falls', 'ID', 'Boundary', 'Wildhorse Falls', 'ID', 'Adams', 'Char Falls', 'ID', 'Bonner', 'Snow Creek Falls', 'ID', 'Boundary', 'Fern Falls', 'ID', 'Shoshone', 'Shadow Falls', 'ID', 'Shoshone', 'Rush Falls', 'ID', 'Washington', 'The Falls', 'ID', 'Caribou', 'Lost Creek Falls', 'ID', 'Adams', 'Big Drops', 'ID', 'Lincoln', 'Little Drops', 'ID', 'Lincoln', 'Lady Face Falls', 'ID', 'Custer', 'Napias Creek Falls', 'ID', 'Lemhi', 'Salmon Falls', 'ID', 'Twin Falls', 'Lower Salmon Falls', 'ID', 'Gooding', 'Torrelle Falls', 'ID', 'Bonner', 'Upper Salmon Falls', 'ID', 'Twin Falls', 'Grouse Creek Falls', 'ID', 'Bonner', 'Ross Falls', 'ID', 'Twin Falls', 'Phantom Falls', 'ID', 'Cassia', 'Homan Falls', 'IL', 'Adams', 'Burden Falls', 'IL', 'Pope', 'Cedar Falls', 'IL', 'Johnson', 'Butler Falls', 'IN', 'Jefferson', 'Chain Mill Falls', 'IN', 'Jefferson', 'Clifty Falls', 'IN', 'Jefferson', 'Crowe Falls', 'IN', 'Jefferson', 'Deadman Falls', 'IN', 'Jefferson', 'Derbyshire Falls', 'IN', 'Franklin', 'Elkhorn Falls', 'IN', 'Wayne', 'Fremont Falls', 'IN', 'Jefferson', 'Groundhog Falls', 'IN', 'Parke', 'Harts Falls', 'IN', 'Jefferson', 'Hoffman Falls', 'IN', 'Jefferson', 'Horseshoe Falls', 'IN', 'Jefferson', 'Little Clifty Falls', 'IN', 'Jefferson', 'Lower Cataract Falls', 'IN', 'Owen', 'Shanty Falls', 'IN', 'Wabash', 'Tunnel Falls', 'IN', 'Jefferson', 'Upper Cataract Falls', 'IN', 'Owen', 'Wallace Falls', 'IN', 'Jefferson', 'Hindostan Falls', 'IN', 'Martin', 'Vermillion Falls', 'IN', 'Putnam', 'Black Falls', 'IA', 'Winneshiek', 'Osro Falls', 'KS', 'Chautauqua', 'Butcher Falls', 'KS', 'Chautauqua', 'Kansas Falls', 'KS', 'Geary', 'Caney Falls', 'KY', 'Lawrence', 'Falls of the Ohio', 'KY', 'Jefferson', 'Jock Falls', 'KY', 'Wayne', 'Lick Falls', 'KY', 'Carter', 'Seventy Six Falls', 'KY', 'Clinton', 'Stacy Falls', 'KY', 'Casey', 'Amos Falls', 'KY', 'Whitley', 'Anglin Falls', 'KY', 'Rockcastle', 'Cumberland Falls', 'KY', 'McCreary', 'Eagle Falls', 'KY', 'McCreary', 'Broken Leg Falls', 'KY', 'Menifee', 'Dog Slaughter Falls', 'KY', 'Whitley', 'Little Falls', 'DC', 'District of Columbia', 'Woodriff Falls', 'LA', 'West Feliciana', 'Kisatchie Fall', 'LA', 'Natchitoches', 'Odum Falls', 'LA', 'Natchitoches', 'Abol Falls', 'ME', 'Piscataquis', 'Allagash Falls', 'ME', 'Aroostook', 'Ambajejus Falls', 'ME', 'Piscataquis', 'Attean Falls', 'ME', 'Somerset', 'Basin Falls', 'ME', 'Oxford', 'Big Ambejackmockamus Falls', 'ME', 'Piscataquis', 'Big Falls', 'ME', 'Oxford', 'Big Falls', 'ME', 'Washington', 'Big Niagara Falls', 'ME', 'Piscataquis', 'Bisco Falls', 'ME', 'Oxford', 'Boars Head Falls', 'ME', 'Aroostook', 'Bowlin Falls', 'ME', 'Penobscot', 'Caratunk Falls', 'ME', 'Somerset', 'Debsconeag Falls', 'ME', 'Piscataquis', 'Dog Falls', 'ME', 'Washington', 'Dundee Falls', 'ME', 'Cumberland', 'Ellis Falls', 'ME', 'Oxford', 'Fish River Falls', 'ME', 'Aroostook', 'Fish River Falls', 'ME', 'Aroostook', 'Gauntlet Falls', 'ME', 'Piscataquis', 'Gordon Falls', 'ME', 'Penobscot', 'Grand Falls', 'ME', 'Hancock', 'Grand Falls', 'ME', 'Washington', 'Grand Falls', 'ME', 'Somerset', 'Grand Falls', 'ME', 'Penobscot', 'Grand Falls', 'ME', 'Piscataquis', 'Great Falls', 'ME', 'Oxford', 'Great Falls', 'ME', 'Androscoggin', 'Great Falls', 'ME', 'Washington', 'Green Falls', 'ME', 'Piscataquis', 'Grindstone Falls', 'ME', 'Penobscot', 'Hatch Falls', 'ME', 'Piscataquis', 'Holeb Falls', 'ME', 'Somerset', 'Holmes Falls', 'ME', 'Washington', 'Ledge Falls', 'ME', 'Penobscot', 'Ledge Falls', 'ME', 'Aroostook', 'Ledge Falls', 'ME', 'Piscataquis', 'Ledge Falls', 'ME', 'Piscataquis', 'Little Allagash Falls', 'ME', 'Piscataquis', 'Little Ambejackmockamus Falls', 'ME', 'Piscataquis', 'Little Boy Falls', 'ME', 'Oxford', 'Little Canada Falls', 'ME', 'Somerset', 'Little Falls', 'ME', 'Washington', 'Little Falls', 'ME', 'Washington', 'Little Falls', 'ME', 'Oxford', 'Little Falls', 'ME', 'Washington', 'Little Falls', 'ME', 'Washington', 'Little Wilson Falls', 'ME', 'Piscataquis', 'Long Falls', 'ME', 'Somerset', 'Lower Falls', 'ME', 'Aroostook', 'Millinocket Falls', 'ME', 'Penobscot', 'Mother Walker Falls', 'ME', 'Oxford', 'Moxie Falls', 'ME', 'Somerset', 'Mud Gauntlet Falls', 'ME', 'Piscataquis', 'Munsungan Falls', 'ME', 'Piscataquis', 'Nesowadnehunk Falls', 'ME', 'Piscataquis', 'Norway Falls', 'ME', 'Piscataquis', 'Orin Falls', 'ME', 'Penobscot', 'Passamagamet Falls', 'ME', 'Piscataquis', 'Pockwockamus Falls', 'ME', 'Piscataquis', 'Poplar Hill Falls', 'ME', 'Somerset', 'Presumpscot Falls', 'ME', 'Cumberland', 'Red River Falls', 'ME', 'Aroostook', 'Rumford Falls', 'ME', 'Oxford', 'Sarampus Falls', 'ME', 'Franklin', 'Sawtelle Falls', 'ME', 'Penobscot', 'Screw Auger Falls', 'ME', 'Oxford', 'Screw Auger Falls', 'ME', 'Piscataquis', 'Shadagee Falls', 'ME', 'Franklin', 'Shin Falls', 'ME', 'Penobscot', 'Silver Ripple Cascade', 'ME', 'Oxford', 'Skew Falls', 'ME', 'Aroostook', 'Smalls Falls', 'ME', 'Franklin', 'Spednic Falls', 'ME', 'Washington', 'Stair Falls', 'ME', 'Piscataquis', 'Stair Falls', 'ME', 'Penobscot', 'Stair Falls', 'ME', 'Aroostook', 'Sullivan Falls', 'ME', 'Hancock', 'Swans Falls', 'ME', 'Oxford', 'The Cataracts', 'ME', 'Oxford', 'The Falls', 'ME', 'Oxford', 'Thirtyfoot Falls', 'ME', 'Piscataquis', 'Upper Falls', 'ME', 'Aroostook', 'Warren Falls', 'ME', 'Aroostook', 'Whetstone Falls', 'ME', 'Penobscot', 'Little Niagara Falls', 'ME', 'Piscataquis', 'Gilman Falls', 'ME', 'Penobscot', 'Billings Falls', 'ME', 'Piscataquis', 'Houston Brook Falls', 'ME', 'Somerset', 'Heald Stream Falls', 'ME', 'Somerset', 'The Falls', 'ME', 'Somerset', 'Mud Lake Falls', 'ME', 'Washington', 'Katahdin Falls', 'ME', 'Piscataquis', 'Buttermilk Falls', 'ME', 'Piscataquis', 'Hays Brook Falls', 'ME', 'Piscataquis', 'Cowyard Falls', 'ME', 'Piscataquis', 'Bucks Falls', 'ME', 'Piscataquis', 'Kees Falls', 'ME', 'Oxford', 'Kezar Falls', 'ME', 'Oxford', 'Mad River Falls', 'ME', 'Oxford', 'Cunningham Falls', 'MD', 'Frederick', 'Gap Falls', 'MD', 'Garrett', 'The Cascade', 'MD', 'Frederick', 'Amos Falls', 'MD', 'Cecil', 'Gilpins Falls', 'MD', 'Cecil', 'Kilgores Rocks', 'MD', 'Harford', 'Umpachene Falls', 'MA', 'Berkshire', 'Royalston Falls', 'MA', 'Worcester', 'Bash Bish Falls', 'MA', 'Berkshire', 'Bear Rock Falls', 'MA', 'Berkshire', 'Campbell Falls', 'MA', 'Berkshire', 'Lulu Cascade', 'MA', 'Berkshire', 'Race Brook Falls', 'MA', 'Berkshire', 'Tannery Falls', 'MA', 'Berkshire', 'Twin Cascade', 'MA', 'Berkshire', 'Wahconah Falls', 'MA', 'Berkshire', 'Windsor Jambs', 'MA', 'Berkshire', 'Otis Falls', 'MA', 'Berkshire', 'Glendale Falls', 'MA', 'Hampshire', 'Chapel Falls', 'MA', 'Franklin', 'The Cascades', 'MA', 'Franklin', 'Turners Falls', 'MA', 'Franklin', 'Doane Falls', 'MA', 'Worcester', 'Spirit Falls', 'MA', 'Worcester', 'The Cascade', 'MA', 'Worcester', 'Sutton Falls', 'MA', 'Worcester', 'Danforth Falls', 'MA', 'Middlesex', 'Pawtucket Falls', 'MA', 'Middlesex', 'South Hadley Falls', 'MA', 'Hampden', 'Wallamanumps Falls', 'MA', 'Hampden', 'Wicassic Falls', 'MA', 'Middlesex', 'Algonquin Falls', 'MI', 'Gogebic', 'Big Falls', 'MI', 'Baraga', 'Bonanza Falls', 'MI', 'Ontonagon', 'Chipmunk Falls', 'MI', 'Iron', 'Chipmunk Falls', 'MI', 'Alger', 'Chippewa Falls', 'MI', 'Gogebic', 'Great Conglomerate Falls', 'MI', 'Gogebic', 'Greenstone Falls', 'MI', 'Ontonagon', 'Houghton Falls', 'MI', 'Houghton', 'Letherby Falls', 'MI', 'Baraga', 'Little Trap Falls', 'MI', 'Ontonagon', 'Lower Falls', 'MI', 'Chippewa', 'Lower Falls', 'MI', 'Baraga', 'Manakiki Falls', 'MI', 'Gogebic', 'Minnewawa Falls', 'MI', 'Ontonagon', 'Nimikon Falls', 'MI', 'Ontonagon', 'Nokomis Falls', 'MI', 'Gogebic', 'Ocqueoc Falls', 'MI', 'Presque Isle', 'Pemene Falls', 'MI', 'Menominee', 'Pewabeck Falls', 'MI', 'Ontonagon', 'Pinnacle Falls', 'MI', 'Marquette', 'Potawatomi Falls', 'MI', 'Gogebic', 'Powder Horn Falls', 'MI', 'Gogebic', 'Quiver Falls', 'WI', 'Marinette', 'Rapid River Falls', 'MI', 'Ontonagon', 'Sable Falls', 'MI', 'Alger', 'Saint Marys Falls', 'MI', 'Chippewa', 'Sand Portage Falls', 'MI', 'Dickinson', 'Scott Falls', 'MI', 'Alger', 'Shining Cloud Falls', 'MI', 'Gogebic', 'Silver Falls', 'MI', 'Baraga', 'Siskiwit Falls', 'MI', 'Keweenaw', 'Caribou Falls', 'MN', 'Lake', 'Deadmans Rapids', 'MN', 'Koochiching', 'Gooseberry Falls', 'MN', 'Lake', 'Illgen Falls', 'MN', 'Lake', 'Middle Falls', 'MN', 'Cook', 'Minnehaha Falls', 'MN', 'Hennepin', 'Minnemishinona Falls', 'MN', 'Nicollet', 'Minnesota Falls', 'MN', 'Yellow Medicine', 'Minnewankon Falls', 'MN', 'Nicollet', 'Partridge Falls', 'MN', 'Cook', 'Pigeon Falls', 'MN', 'Cook', 'Saint Anthony Falls', 'MN', 'Hennepin', 'Shadow Falls', 'MN', 'Ramsey', 'Winnewissa Falls', 'MN', 'Pipestone', 'Basswood Falls', 'MN', 'Lake', 'Cascade Falls', 'MN', 'Cook', 'Hidden Falls', 'MN', 'Cook', 'Johnson Falls', 'MN', 'Cook', 'Little American Falls', 'MN', 'Koochiching', 'Little Rock Falls', 'MN', 'Cook', 'Lower Basswood Falls', 'MN', 'Lake', 'Pancake Falls', 'MN', 'Lake', 'Pipestone Falls', 'MN', 'Lake', 'Portage Falls', 'MN', 'Cook', 'Saganaga Falls', 'MN', 'Cook', 'Newton Falls', 'MN', 'Lake', 'Wheelbarrow Falls', 'MN', 'Lake', 'Glenn Avon Falls', 'MN', 'Lake', 'Beaver River Falls', 'MN', 'Lake', 'Pike River Falls', 'MN', 'St. Louis', 'Ash River Falls', 'MN', 'St. Louis', 'Chipmunk Falls', 'MN', 'St. Louis', 'Curtain Falls', 'MN', 'St. Louis', 'Devils Cascade', 'MN', 'St. Louis', 'Fiftysix Rapids', 'MN', 'St. Louis', 'Hannine Falls', 'MN', 'St. Louis', 'Loon Falls', 'MN', 'St. Louis', 'Sioux Falls', 'MN', 'St. Louis', 'Kettle Falls', 'MN', 'St. Louis', 'Koochiching Falls', 'MN', 'Koochiching', 'Last Falls', 'MN', 'Lake', 'Scutchalo Falls', 'MS', 'Copiah', 'Dunns Falls', 'MS', 'Lauderdale', 'Rocky Falls', 'MS', 'Claiborne', 'Seminary Falls', 'MS', 'Covington', 'Rochester Falls', 'MO', 'Andrew', 'Shoal Creek Falls', 'MO', 'Newton', 'Mina Sauk Falls', 'MO', 'Iron', 'Rocky Falls', 'MO', 'Shannon', 'The Falls', 'MO', 'Ozark', 'Chain of Rocks', 'MO', 'St. Louis (city)', 'Apikuni Falls', 'MT', 'Glacier', 'Atlantic Falls', 'MT', 'Glacier', 'Atsina Falls', 'MT', 'Glacier', 'Baring Falls', 'MT', 'Glacier', 'Big Falls', 'MT', 'Cascade', 'Bird Woman Falls', 'MT', 'Flathead', 'Buffalo Falls', 'MT', 'Cascade', 'Castner Falls', 'MT', 'Cascade', 'Crooked Falls', 'MT', 'Cascade', 'Dawn Mist Falls', 'MT', 'Glacier', 'Deadwood Falls', 'MT', 'Glacier', 'Florence Falls', 'MT', 'Glacier', 'Grinnell Falls', 'MT', 'Glacier', 'Gros Ventre Falls', 'MT', 'Glacier', 'Hidden Falls', 'MT', 'Glacier', 'Hole-in-the Wall Falls', 'MT', 'Flathead', 'Ipasha Falls', 'MT', 'Glacier', 'McDonald Falls', 'MT', 'Flathead', 'Miche Wabun Falls', 'MT', 'Glacier', 'Mokowanis Cascade', 'MT', 'Glacier', 'Monument Falls', 'MT', 'Flathead', 'Morning Eagle Falls', 'MT', 'Glacier', 'Mud Creek Falls', 'MT', 'Lake', 'Oberlin Falls', 'MT', 'Flathead', 'Paiota Falls', 'MT', 'Glacier', 'Piegan Falls', 'MT', 'Glacier', 'Ptarmigan Falls', 'MT', 'Glacier', 'Rainbow Falls', 'MT', 'Glacier', 'Rainbow Falls', 'MT', 'Cascade', 'Raven Quiver Falls', 'MT', 'Glacier', 'Redrock Falls', 'MT', 'Glacier', 'Rockwell Falls', 'MT', 'Glacier', 'Sacred Dancing Cascade', 'MT', 'Flathead', 'Saint Mary Falls', 'MT', 'Glacier', 'Salamander Falls', 'MT', 'Glacier', 'Siksika Falls', 'MT', 'Glacier', 'Snowshoe Falls', 'MT', 'Missoula', 'Swiftcurrent Falls', 'MT', 'Glacier', 'Thunderbird Falls', 'MT', 'Glacier', 'Twin Falls', 'MT', 'Glacier', 'Virginia Falls', 'MT', 'Glacier', 'White Quiver Falls', 'MT', 'Glacier', 'Wolf Creek Falls', 'MT', 'Fergus', 'Akaiyan Falls', 'MT', 'Flathead', 'Alpine Falls', 'MT', 'Gallatin', 'Apex Falls', 'MT', 'Gallatin', 'Appistoki Falls', 'MT', 'Glacier', 'Arch Falls', 'MT', 'Gallatin', 'Barrier Falls', 'MT', 'Missoula', 'Beaver Medicine Falls', 'MT', 'Flathead', 'Boulder Falls', 'MT', 'Ravalli', 'Calamity Falls', 'MT', 'Carbon', 'Canyon Falls', 'MT', 'Ravalli', 'Cascade Falls', 'MT', 'Park', 'Cedar Falls', 'MT', 'Madison', 'Champagne Falls', 'MT', 'Gallatin', 'Crow Creek Falls', 'MT', 'Jefferson', 'Dawson Falls', 'MT', 'Glacier', 'Dean Falls', 'MT', 'Flathead', 'Elizabeth Falls', 'MT', 'Lake', 'Feather Woman Falls', 'MT', 'Flathead', 'Graves Creek Falls', 'MT', 'Sanders', 'Grotto Falls', 'MT', 'Gallatin', 'Hoodoo Cascade', 'MT', 'Gallatin', 'Horsetail Falls', 'MT', 'Park', 'Kootenai Falls', 'MT', 'Lincoln', 'Martin Falls', 'MT', 'Flathead', 'Memorial Falls', 'MT', 'Cascade', 'Mission Falls', 'MT', 'Lake', 'Monture Falls', 'MT', 'Powell', 'Morrell Falls', 'MT', 'Powell', 'Needle Falls', 'MT', 'Flathead', 'Ousel Falls', 'MT', 'Gallatin', 'Overwhich Falls', 'MT', 'Ravalli', 'Palisades Falls', 'MT', 'Gallatin', 'Pintler Falls', 'MT', 'Beaverhead', 'Rock Creek Falls', 'MT', 'Powell', 'Sentinel Falls', 'MT', 'Carbon', 'Shower Falls', 'MT', 'Gallatin', 'Silken Skein Falls', 'MT', 'Gallatin', 'Skalkaho Falls', 'MT', 'Ravalli', 'Specimen Falls', 'MT', 'Park', 'Star Falls', 'MT', 'Ravalli', 'Taylor Falls', 'MT', 'Madison', 'Terrace Falls', 'MT', 'Lake', 'Running Eagle Falls', 'MT', 'Glacier', 'Twin Falls', 'MT', 'Gallatin', 'Two Medicine Falls', 'MT', 'Glacier', 'Upper Big Timber Falls', 'MT', 'Sweet Grass', 'Yaak Falls', 'MT', 'Lincoln', 'Lost Creek Falls', 'MT', 'Mineral', 'Pioneer Falls', 'MT', 'Madison', 'Mill Falls', 'MT', 'Teton', 'Impasse Falls', 'MT', 'Carbon', 'Charlie Falls', 'MT', 'Carbon', 'Cascade Falls', 'MT', 'Sanders', 'Vermilion Falls', 'MT', 'Sanders', 'Sutton Creek Falls', 'MT', 'Lincoln', 'Pinkham Falls', 'MT', 'Lincoln', 'Upper Falls', 'MT', 'Lincoln', 'Lower Falls', 'MT', 'Lincoln', 'Turner Falls', 'MT', 'Lincoln', 'Palisade Falls', 'MT', 'Gallatin', 'Lange Falls', 'MT', 'Lewis and Clark', 'Beaver Chief Falls', 'MT', 'Flathead', 'Feather Plume Falls', 'MT', 'Glacier', 'Tenmile Falls', 'MT', 'Lincoln', 'Cataract Falls', 'MT', 'Lewis and Clark', 'Double Falls', 'MT', 'Lewis and Clark', 'Knowles Falls', 'MT', 'Park', 'North Fork Falls', 'MT', 'Lewis and Clark', 'Woodbine Falls', 'MT', 'Stillwater', 'Little North Fork Falls', 'MT', 'Lincoln', \"S'il Vous Plait Falls\", 'MT', 'Gallatin', 'Passage Falls', 'MT', 'Park', 'Big Falls', 'NE', 'Cherry', 'Fort Falls', 'NE', 'Cherry', 'Horseshoe Falls', 'NE', 'Cherry', 'Rock Falls', 'NE', 'Holt', 'Smith Falls', 'NE', 'Cherry', 'Tyler Falls', 'NE', 'Cherry', 'Snake River Falls', 'NE', 'Cherry', 'Jackson Falls', 'NV', 'Nye', 'Jumbo Falls', 'NV', 'Washoe', 'Marshall Falls', 'NV', 'Lander', 'Twenty Six Foot Drop', 'NV', 'Churchill', 'Water and Ice Falls', 'NV', 'Lincoln', 'Big Falls', 'NV', 'Clark', 'Little Falls', 'NV', 'Clark', 'Mary Jane Falls', 'NV', 'Clark', 'Beaver Brook Falls', 'NH', 'Cheshire', 'Beaver Brook Falls', 'NH', 'Coos', 'Ellingwood Falls', 'NH', 'Coos', 'Fay Falls', 'NH', 'Cheshire', 'Garfield Falls', 'NH', 'Coos', 'Hampton Falls', 'NH', 'Rockingham', 'Lower Falls', 'NH', 'Coos', 'Moose Falls', 'NH', 'Coos', 'Packers Falls', 'NH', 'Strafford', 'Peboamauk Fall', 'NH', 'Coos', 'Purgatory Falls', 'NH', 'Hillsborough', 'Sewalls Falls', 'NH', 'Merrimack', 'Steeles Falls', 'NH', 'Merrimack', 'Sumner Falls', 'NH', 'Sullivan', 'Upper Falls', 'NH', 'Coos', 'Welton Falls', 'NH', 'Grafton', 'Wildcat Falls', 'NH', 'Hillsborough', 'Arethusa Falls', 'NH', 'Grafton', 'Beede Falls', 'NH', 'Carroll', 'Brickett Falls', 'NH', 'Carroll', 'Bridalveil Falls', 'NH', 'Grafton', 'Coosauk Fall', 'NH', 'Coos', 'Dryad Falls', 'NH', 'Coos', 'Fletcher Cascades', 'NH', 'Grafton', 'Franconia Falls', 'NH', 'Grafton', 'Georgiana Falls', 'NH', 'Grafton', 'Giant Falls', 'NH', 'Coos', 'Glen Ellis Falls', 'NH', 'Coos', 'Gordon Falls', 'NH', 'Grafton', 'Hermit Falls', 'NH', 'Carroll', 'Hitchcock Falls', 'NH', 'Coos', 'Livermore Falls', 'NH', 'Grafton', 'Mill Brook Cascade', 'NH', 'Grafton', 'Nancy Cascades', 'NH', 'Grafton', 'Norway Rapids', 'NH', 'Grafton', 'Ripley Falls', 'NH', 'Carroll', 'Sabbaday Falls', 'NH', 'Grafton', 'Shell Cascade', 'NH', 'Grafton', 'Thompson Falls', 'NH', 'Carroll', 'Thoreau Falls', 'NH', 'Grafton', 'Triple Falls', 'NH', 'Coos', 'Waternomee Falls', 'NH', 'Grafton', 'Winniweta Falls', 'NH', 'Carroll', 'Zealand Falls', 'NH', 'Grafton', 'Thirteen Falls', 'NH', 'Grafton', 'Hawthorne Falls', 'NH', 'Grafton', 'Passaic Falls', 'NJ', 'Passaic', 'Tillman Falls', 'NJ', 'Sussex', 'Bass Lake Falls', 'NJ', 'Warren', 'Maple Falls', 'NJ', 'Essex', 'Foul Rift Falls', 'NJ', 'Warren', 'Big Falls', 'NM', 'McKinley', 'Catfish Falls (historical)', 'NM', 'Guadalupe', 'Chamisa Vega Spring Falls', 'NM', 'Sandoval', 'Folsom Falls', 'NM', 'Union', 'Brazos Falls', 'NM', 'Rio Arriba', 'Rio Quemado Falls', 'NM', 'Rio Arriba', 'Garcia Falls', 'NM', 'Socorro', 'Jemez Falls', 'NM', 'Sandoval', 'Lower Frijoles Falls', 'NM', 'Sandoval', 'Pecos Falls', 'NM', 'Mora', 'Sitting Bull Falls', 'NM', 'Eddy', 'The Falls', 'NM', 'Cibola', 'Petrero Waterfall', 'NM', 'Rio Arriba', 'Nambe Falls', 'NM', 'Santa Fe', 'Upper Frijoles Falls', 'NM', 'Sandoval', 'The Cascades', 'NY', 'Onondaga', 'Tinker Falls', 'NY', 'Cortland', 'Alice Falls', 'NY', 'Clinton', 'American Falls', 'NY', 'Niagara', 'Angel Falls', 'NY', 'Wyoming', 'Arkwright Falls', 'NY', 'Chautauqua', 'Artists Falls', 'NY', 'Essex', 'Aunt Sarahs Falls', 'NY', 'Schuyler', 'Bear Falls', 'NY', 'Steuben', 'Beaver Meadows Falls', 'NY', 'Essex', 'Boucks Falls', 'NY', 'Schoharie', 'Bozen Kill Falls', 'NY', 'Albany', 'Bridal Veil Falls', 'NY', 'Niagara', 'Bucktail Falls', 'NY', 'Onondaga', 'Bushnell Falls', 'NY', 'Essex', 'Buttermilk Falls', 'NY', 'Tioga', 'Buttermilk Falls', 'NY', 'Greene', 'Buttermilk Falls', 'NY', 'Columbia', 'Buttermilk Falls', 'NY', 'Otsego', 'Buttermilk Falls', 'NY', 'Montgomery', 'Buttermilk Falls', 'NY', 'Madison', 'Buttermilk Falls', 'NY', 'Fulton', 'Buttermilk Falls', 'NY', 'Hamilton', 'Buttermilk Falls', 'NY', 'Essex', 'Button Falls', 'NY', 'Madison', 'Canada Falls', 'NY', 'Delaware', 'Canajoharie Falls', 'NY', 'Montgomery', 'Carpenter Falls', 'NY', 'Cayuga', 'Cascade Falls', 'NY', 'Wyoming', 'Clifford Falls', 'NY', 'Essex', 'Clifton Falls', 'NY', 'Cayuga', 'Crandall Falls', 'NY', 'Oneida', 'Denton Falls', 'NY', 'Sullivan', 'Dickinson Falls', 'NY', 'Albany', 'Fairy Ladder Falls', 'NY', 'Essex', 'Fall Brook Falls', 'NY', 'Livingston', 'Fellows Falls', 'NY', 'Onondaga', 'Glen Falls', 'NY', 'Greene', 'Glenerie Falls', 'NY', 'Ulster', 'Glenora Falls', 'NY', 'Yates', 'Hanging Spear Falls', 'NY', 'Essex', 'Hardenburgh Falls', 'NY', 'Delaware', 'High Falls', 'NY', 'Sullivan', 'High Falls', 'NY', 'Columbia', 'High Falls', 'NY', 'Essex', 'High Falls', 'NY', 'Franklin', 'High Falls', 'NY', 'Franklin', 'Horseshoe Falls', 'NY', 'Niagara', 'Hulls Falls', 'NY', 'Essex', 'Indian Falls', 'NY', 'Essex', 'Johnson Falls', 'NY', 'Wyoming', 'Judds Falls', 'NY', 'Otsego', 'Kaaterskill Falls', 'NY', 'Greene', 'Katrina Falls', 'NY', 'Sullivan', 'Kent Falls', 'NY', 'Clinton', 'Leatherstocking Falls', 'NY', 'Otsego', 'Limekiln Falls', 'NY', 'Herkimer', 'Linsey Falls', 'NY', 'Essex', 'Lower Falls', 'NY', 'Livingston', 'Lower Falls', 'NY', 'Franklin', 'Lucifer Falls', 'NY', 'Tompkins', 'Mad River Falls', 'NY', 'Oswego', 'Manorkill Falls', 'NY', 'Schoharie', 'Meadow Falls', 'NY', 'Greene', 'Middle Falls', 'NY', 'Livingston', 'Millers Falls', 'NY', 'Essex', 'Mine Kill Falls', 'NY', 'Schoharie', 'Mine Lot Falls', 'NY', 'Albany', 'Monument Falls', 'NY', 'Essex', 'Moonshine Falls', 'NY', 'Cayuga', 'Niagara Falls', 'NY', 'Niagara', 'Oak Tree Falls', 'NY', 'Seneca', 'Perryville Falls', 'NY', 'Madison', 'Phelps Falls', 'NY', 'Essex', 'Pixley Falls', 'NY', 'Oneida', 'Rainbow Falls', 'NY', 'Essex', 'Rainbow Falls', 'NY', 'Clinton', 'Raquette Falls', 'NY', 'Franklin', 'Rensselaerville Falls', 'NY', 'Albany', 'Rocky Falls', 'NY', 'Essex', 'Rossman Falls', 'NY', 'Columbia', 'Russell Falls', 'NY', 'Essex', 'Saint Marys Falls', 'NY', 'Otsego', 'Salmon River Falls', 'NY', 'Oswego', 'Shequaga Falls', 'NY', 'Schuyler', 'Shumla Falls', 'NY', 'Chautauqua', 'Sliding Falls', 'NY', 'Herkimer', 'Spier Falls', 'NY', 'Warren', 'Split Rock Falls', 'NY', 'Essex', 'Stockbridge Falls', 'NY', 'Madison', 'Stone Falls', 'NY', 'Livingston', 'Straton Falls', 'NY', 'Delaware', 'Taughannock Falls', 'NY', 'Tompkins', 'The Falls', 'NY', 'Essex', 'The Flume Fall', 'NY', 'Essex', 'Tompkins Falls', 'NY', 'Delaware', 'Triphammer Falls', 'NY', 'Livingston', 'Upper Falls', 'NY', 'Livingston', 'Upper Falls', 'NY', 'Franklin', 'Vernooy Falls', 'NY', 'Ulster', 'Wanika Falls', 'NY', 'Essex', 'Watauga Falls', 'NY', 'Delaware', 'Auger Falls', 'NY', 'Hamilton', 'Augerhole Falls', 'NY', 'Franklin', 'Austin Falls', 'NY', 'Hamilton', 'Bakers Falls', 'NY', 'Washington', 'Brickyard Falls', 'NY', 'Onondaga', 'Buttermilk Falls', 'NY', 'Orange', 'Buttermilk Falls', 'NY', 'Genesee', 'Buttermilk Falls', 'NY', 'Washington', 'Chittenango Falls', 'NY', 'Madison', 'Christine Falls', 'NY', 'Hamilton', 'Cohoes Falls', 'NY', 'Saratoga', 'Delphi Falls', 'NY', 'Madison', 'Edwards Falls', 'NY', 'Onondaga', 'Eggleston Falls', 'NY', 'Saratoga', 'Elmer Falls', 'NY', 'Lewis', 'Hanging Rock Falls', 'NY', 'Ulster', 'High Falls', 'NY', 'Ulster', 'High Falls', 'NY', 'Lewis', 'Ithaca Falls', 'NY', 'Tompkins', 'Johnson Falls', 'NY', 'Wyoming', 'Kane Falls', 'NY', 'Washington', 'Kings Falls', 'NY', 'Lewis', 'Montville Falls', 'NY', 'Cayuga', 'Ord Falls', 'NY', 'Essex', 'Parson Falls', 'NY', 'Cayuga', 'Pratts Falls', 'NY', 'Onondaga', 'Rexford Falls', 'NY', 'Chenango', 'Spicer Falls', 'NY', 'Cortland', 'Stoney Pitcher Falls', 'NY', 'Cattaraugus', 'Stony Kill Falls', 'NY', 'Ulster', 'T Lake Falls', 'NY', 'Hamilton', 'Talcott Falls', 'NY', 'Jefferson', 'Verkeerder Kill Falls', 'NY', 'Ulster', 'White Store Falls', 'NY', 'Chenango', 'Horton Falls', 'NY', 'Albany', 'Touey Falls', 'NY', 'Hamilton', 'Hosmer Falls', 'NY', 'Seneca', 'Hector Falls', 'NY', 'Schuyler', 'Silver Thread Falls', 'NY', 'Seneca', 'Rushton Falls', 'NY', 'St. Lawrence', 'Allen Falls', 'NY', 'St. Lawrence', 'Basford Falls', 'NY', 'St. Lawrence', 'Bruner Falls', 'NY', 'St. Lawrence', 'Copper Rock Falls', 'NY', 'St. Lawrence', 'Flat Rock Falls', 'NY', 'St. Lawrence', 'High Falls', 'NY', 'St. Lawrence', 'Higley Falls', 'NY', 'St. Lawrence', 'Jamestown Falls', 'NY', 'St. Lawrence', 'Kingsley Falls', 'NY', 'St. Lawrence', 'Moody Falls', 'NY', 'St. Lawrence', 'Rainbow Falls', 'NY', 'St. Lawrence', 'Rainbow Falls', 'NY', 'St. Lawrence', 'Sinclair Falls', 'NY', 'St. Lawrence', 'Sylvan Falls', 'NY', 'St. Lawrence', 'Twin Falls', 'NY', 'St. Lawrence', 'Harper Falls', 'NY', 'St. Lawrence', 'High Falls', 'NY', 'St. Lawrence', 'Jacksons Falls', 'NY', 'St. Lawrence', 'Lampsons Falls', 'NY', 'St. Lawrence', 'Pelkys Falls', 'NY', 'St. Lawrence', 'Oskonsa Falls', 'NY', 'Steuben', 'Bead and Lace Falls', 'NC', 'Henderson', 'Berties Falls', 'NC', 'Macon', 'Betseys Rock Falls', 'NC', 'Wilkes', 'Bradley Falls', 'NC', 'Polk', 'Bridal Veil Falls', 'NC', 'Transylvania', 'Camp Minnehaha Falls', 'NC', 'Henderson', 'Carter Falls', 'NC', 'Wilkes', 'Cascade Falls', 'NC', 'Wilkes', 'Flat Creek Falls', 'NC', 'Swain', 'Grassy Creek Falls', 'NC', 'Mitchell', 'Hickorynut Falls', 'NC', 'Rutherford', 'Hidden Falls', 'NC', 'Stokes', 'High Falls', 'NC', 'Transylvania', 'Hooker Falls', 'NC', 'Transylvania', 'Lanier Falls', 'NC', 'Harnett', 'Little Creek Falls', 'NC', 'Swain', 'Little Falls', 'NC', 'Edgecombe', 'Little Falls', 'NC', 'Nash', 'Little Falls', 'NC', 'Wilkes', 'Long Hope Falls', 'NC', 'Ashe', 'Lower Cascade Falls', 'NC', 'Stokes', 'Lower Falls', 'NC', 'Graham', 'Mingo Falls', 'NC', 'Swain', 'Moravian Falls', 'NC', 'Wilkes', 'Mouse Creek Falls', 'NC', 'Haywood', 'Rainbow Falls', 'NC', 'Rutherford', 'Reems Creek Falls', 'NC', 'Buncombe', 'Rock Creek Falls', 'NC', 'Henderson', 'Shoal Creek Falls', 'NC', 'Transylvania', 'Soco Falls', 'NC', 'Jackson', 'The Cascades', 'NC', 'Henderson', 'Toms Falls', 'NC', 'Henderson', 'Triple Falls', 'NC', 'Transylvania', 'Upper Cascade Falls', 'NC', 'Stokes', 'Upper Falls', 'NC', 'Nash', 'Window Falls', 'NC', 'Stokes', 'Pearsons Falls', 'NC', 'Polk', 'Tory Falls', 'NC', 'Stokes', 'Betsy Falls', 'NC', 'Jackson', 'Big Falls', 'NC', 'Graham', 'Big Falls', 'NC', 'Avery', 'Bird Rock Falls', 'NC', 'Transylvania', 'Blue Sea Falls', 'NC', 'Yancey', 'Bridal Veil Falls', 'NC', 'Macon', 'Burningtown Falls', 'NC', 'Macon', 'Catheys Creek Falls', 'NC', 'Transylvania', 'Connestee Falls', 'NC', 'Transylvania', 'Courthouse Falls', 'NC', 'Transylvania', 'Crabtree Falls', 'NC', 'Mitchell', 'Dill Falls', 'NC', 'Jackson', 'Dismal Falls', 'NC', 'Transylvania', 'Dry Falls', 'NC', 'Macon', 'Fairfield Falls', 'NC', 'Jackson', 'Falls of Gouges Creek', 'NC', 'Mitchell', 'Glen Falls', 'NC', 'Macon', 'Glencannon Falls', 'NC', 'Transylvania', 'High Falls', 'NC', 'Jackson', 'High Falls', 'NC', 'Transylvania', 'Highlands Falls', 'NC', 'Macon', 'Kennedy Falls', 'NC', 'Cherokee', 'Laughing Falls', 'NC', 'Transylvania', 'Laurel Creek Falls', 'NC', 'Watauga', 'Leatherwood Falls', 'NC', 'Clay', 'Linville Falls', 'NC', 'Burke', 'Looking Glass Falls', 'NC', 'Transylvania', 'Maidenhair Falls', 'NC', 'Jackson', 'Maidenhair Falls', 'NC', 'Transylvania', 'Middle Falls', 'NC', 'Graham', 'Mitchell Falls', 'NC', 'Yancey', 'Murphy Falls', 'NC', 'Mitchell', 'Onion Cliff Falls', 'NC', 'Jackson', 'Onion Falls', 'NC', 'Jackson', 'Queens Falls', 'NC', 'Macon', 'Rainbow Falls', 'NC', 'Transylvania', 'Roaring Spout Falls', 'NC', 'Yancey', 'Sassafras Falls', 'NC', 'Graham', 'Satulah Falls', 'NC', 'Macon', 'Schoolhouse Falls', 'NC', 'Jackson', 'Second Falls', 'NC', 'Haywood', 'Silvervale Falls', 'NC', 'Caldwell', 'Slatten Falls', 'NC', 'Jackson', 'Slick Rock Falls', 'NC', 'Transylvania', 'Toxaway Falls', 'NC', 'Transylvania', 'Turley Falls', 'NC', 'Henderson', 'Twin Falls', 'NC', 'Jackson', 'Upper Falls', 'NC', 'Jackson', 'Upper Falls', 'NC', 'Graham', 'Upper Falls', 'NC', 'Haywood', 'Upper Falls', 'NC', 'Yancey', 'Walker Falls', 'NC', 'Buncombe', 'Watauga Falls', 'NC', 'Watauga', 'Windy Falls', 'NC', 'Transylvania', 'Yellowstone Falls', 'NC', 'Haywood', 'Great Falls', 'NC', 'Stanly', 'Douglas Falk', 'NC', 'Buncombe', 'Thurston Hatcher Falls', 'NC', 'Jackson', 'Cullasaja Falls', 'NC', 'Macon', 'Whitewater Falls', 'NC', 'Transylvania', 'Woodfin Falls', 'NC', 'Jackson', 'Dutch Creek Falls', 'NC', 'Watauga', 'Cascade Falls', 'OH', 'Lake', 'Cedar Falls', 'OH', 'Adams', 'Greenville Falls', 'OH', 'Miami', 'Big Lyons Falls', 'OH', 'Ashland', 'Stewarts Falls', 'OH', 'Columbiana', 'Limestone Falls', 'OH', 'Coshocton', 'Brandywine Falls', 'OH', 'Summit', 'Deans Fall', 'OH', 'Geauga', 'Blackjack Falls', 'OH', 'Hocking', 'Ophir Falls', 'OH', 'Jackson', 'Prays Falls', 'OH', 'Lucas', 'Lantermans Falls', 'OH', 'Mahoning', 'Grove Falls', 'OH', 'Knox', 'Chagrin Falls', 'OH', 'Cuyahoga', 'Hemlock Falls', 'OH', 'Richland', 'Coppacaw Falls', 'OH', 'Summit', 'Cedar Falls', 'OH', 'Hocking', 'Sugar Creek Falls (historical)', 'OH', 'Tuscarawas', 'Big Falls', 'OK', 'Johnston', 'Bridal Veil Falls', 'OK', 'Murray', 'Cedar Falls', 'OK', 'Carter', 'Cheadle Falls', 'OK', 'Johnston', 'Classen Falls', 'OK', 'Murray', 'Henry House Falls', 'OK', 'Carter', 'Hickory Falls', 'OK', 'Carter', 'Lick Creek Falls', 'OK', 'Murray', 'McSpadden Falls', 'OK', 'Cherokee', 'Presbyterian Falls', 'OK', 'McCurtain', 'Price Falls', 'OK', 'Murray', 'Rock Creek Falls', 'OK', 'Atoka', 'Slippery Falls', 'OK', 'Johnston', 'Turner Falls', 'OK', 'Murray', 'Travertine Falls', 'OK', 'Murray', 'Hontubby Falls', 'OK', 'Le Flore', 'Bear Falls', 'OK', 'Murray', 'Cave Island Falls', 'OK', 'Murray', 'Garfield Falls', 'OK', 'Murray', 'Little Niagara Falls', 'OK', 'Murray', 'Lost Falls', 'OK', 'Murray', 'Panther Falls', 'OK', 'Murray', 'Pebble Falls', 'OK', 'Murray', 'Sycamore Falls', 'OK', 'Murray', 'East Fork Falls', 'OR', 'Baker', 'Meadow Brooks Falls', 'OR', 'Grant', 'Obsidian Falls', 'OR', 'Lane', 'South Fork Falls', 'OR', 'Grant', 'Awbrey Falls', 'OR', 'Deschutes', 'Barth Falls', 'OR', 'Clatsop', 'Beaver Falls', 'OR', 'Columbia', 'Berry Creek Falls', 'OR', 'Polk', 'Big Falls', 'OR', 'Deschutes', 'Bonnie Falls', 'OR', 'Columbia', 'Copper Creek Falls', 'OR', 'Union', 'Cushing Falls', 'OR', 'Wasco', 'Deep Creek Falls', 'OR', 'Lake', 'Double Falls', 'OR', 'Marion', 'Drake Falls', 'OR', 'Marion', 'Fall Creek Falls', 'OR', 'Clackamas', 'Fishhawk Falls', 'OR', 'Clatsop', 'Gooch Falls', 'OR', 'Linn', 'Glutton Falls', 'OR', 'Morrow', 'Golden Falls', 'OR', 'Coos', 'Groundhog Falls', 'OR', 'Malheur', 'Haines Falls', 'OR', 'Washington', 'Henrys Falls', 'OR', 'Coos', 'Horseshoe Falls', 'OR', 'Sherman', 'Imnaha Falls', 'OR', 'Wallowa', 'Jackson Falls', 'OR', 'Washington', 'Koosah Falls', 'OR', 'Linn', 'Laverne Falls', 'OR', 'Coos', 'Lee Falls', 'OR', 'Washington', 'Linton Falls', 'OR', 'Lane', 'Little Falls', 'OR', 'Clatsop', 'Little Lee Falls', 'OR', 'Washington', 'Lost Creek Falls', 'OR', 'Coos', 'Marion Falls', 'OR', 'Linn', 'Mill Creek Falls', 'OR', 'Wasco', 'Nehalem Falls', 'OR', 'Tillamook', 'Odin Falls', 'OR', 'Deschutes', 'Pidgeon Falls', 'OR', 'Coos', 'Proxy Falls', 'OR', 'Lane', 'Rainie Falls', 'OR', 'Josephine', 'Sahalie Falls', 'OR', 'Linn', 'Shellburg Falls', 'OR', 'Marion', 'Silver Falls', 'OR', 'Coos', 'Silver Falls', 'OR', 'Polk', 'Siuslaw Falls', 'OR', 'Lane', 'South Falls', 'OR', 'Marion', 'tíkem Falls', 'OR', 'Wallowa', 'Stasel Falls', 'OR', 'Marion', 'Stulls Falls', 'OR', 'Coos', 'Tamolitch Falls', 'OR', 'Linn', 'The Falls', 'OR', 'Clackamas', 'Twin Falls', 'OR', 'Marion', 'Winter Falls', 'OR', 'Marion', 'Wolf Hollow Falls', 'OR', 'Gilliam', 'Youngs River Falls', 'OR', 'Clatsop', 'Lower Falls Little Minam River', 'OR', 'Union', 'Sherars Falls', 'OR', 'Wasco', 'Alsea Falls', 'OR', 'Benton', 'Lower North Falls', 'OR', 'Marion', 'Butte Creek Falls', 'OR', 'Marion', 'Lower Shellburg Falls', 'OR', 'Marion', 'Ayers Creek Falls', 'OR', 'Marion', 'Stout Creek Falls', 'OR', 'Marion', 'Honey Creek Falls', 'OR', 'Lane', 'Moffett Falls', 'OR', 'Multnomah', 'Kilchis Falls', 'OR', 'Tillamook', 'Wilson Falls', 'OR', 'Tillamook', 'Valsetz Falls', 'OR', 'Lincoln', 'Horseshoe Falls', 'OR', 'Marion', 'Martin Falls', 'OR', 'Lincoln', 'Estelle Falls', 'OR', 'Coos', 'Middle Creek Falls', 'OR', 'Coos', 'Rainbow Falls', 'OR', 'Lane', 'McNabb Falls', 'OR', 'Linn', 'Green Peak Falls', 'OR', 'Benton', 'Whitehorse Falls', 'OR', 'Douglas', 'Elk Creek Falls', 'OR', 'Coos', 'Upper Latourell Falls', 'OR', 'Multnomah', 'Cascade Falls', 'OR', 'Linn', 'Stuart Falls', 'OR', 'Klamath', 'Red Blanket Falls', 'OR', 'Klamath', 'North Falls', 'OR', 'Marion', 'Klamath Falls', 'OR', 'Klamath', 'Sweet Creek Falls', 'OR', 'Lane', 'Beaver Creek Falls', 'OR', 'Lane', 'Dillon Falls', 'OR', 'Jackson', 'Wildwood Falls', 'OR', 'Lane', 'Benham Falls', 'OR', 'Deschutes', 'Bridal Veil Falls', 'OR', 'Multnomah', 'Buck Falls', 'OR', 'Morrow', 'Campbell Falls', 'OR', 'Douglas', 'Chichester Falls', 'OR', 'Lane', 'Clearwater Falls', 'OR', 'Douglas', 'Coopey Falls', 'OR', 'Multnomah', 'Deer Lick Falls', 'OR', 'Douglas', 'Dillon Falls', 'OR', 'Deschutes', 'Echo Falls', 'OR', 'Lincoln', 'Elowah Falls', 'OR', 'Multnomah', 'Emile Falls', 'OR', 'Douglas', 'Fall Creek Falls', 'OR', 'Lane', 'Fall River Falls', 'OR', 'Deschutes', 'Grouse Mountain Falls', 'OR', 'Lane', 'Horsetail Falls', 'OR', 'Multnomah', 'Lancaster Falls', 'OR', 'Hood River', 'Latourell Falls', 'OR', 'Multnomah', 'Lava Island Falls', 'OR', 'Deschutes', 'Lemolo Falls', 'OR', 'Douglas', 'Lillian Falls', 'OR', 'Lane', 'Little Falls', 'OR', 'Douglas', 'Lookingglass Falls', 'OR', 'Union', 'Loowit Falls', 'OR', 'Hood River', 'Lower Soda Falls', 'OR', 'Linn', 'Metlako Falls', 'OR', 'Hood River', 'Mist Falls', 'OR', 'Multnomah', 'North Fork Falls', 'OR', 'Douglas', 'Oneonta Falls', 'OR', 'Multnomah', 'Paulina Creek Falls', 'OR', 'Deschutes', 'Pringle Falls', 'OR', 'Deschutes', 'Punch Bowl Falls', 'OR', 'Hood River', 'Punchbowl Falls', 'OR', 'Hood River', 'Rainbow Falls', 'OR', 'Linn', 'Ramona Falls', 'OR', 'Clackamas', 'Sahale Falls', 'OR', 'Hood River', 'Salmon Falls', 'OR', 'Lane', 'Salmon Falls', 'OR', 'Marion', 'Salt Creek Falls', 'OR', 'Lane', 'Silver Falls', 'OR', 'Josephine', 'Smith River Falls', 'OR', 'Douglas', 'South Umpqua Falls', 'OR', 'Douglas', 'Upper Chush Falls', 'OR', 'Deschutes', 'Stair Creek Falls', 'OR', 'Curry', 'Steamboat Falls', 'OR', 'Douglas', 'Steelhead Falls', 'OR', 'Jefferson', 'Strawberry Falls', 'OR', 'Grant', 'Switchback Falls', 'OR', 'Hood River', 'Tamanawas Falls', 'OR', 'Hood River', 'Thompson Falls', 'OR', 'Morrow', 'Toketee Falls', 'OR', 'Douglas', 'Tumalo Falls', 'OR', 'Deschutes', 'Tunnel Falls', 'OR', 'Hood River', 'Umbrella Falls', 'OR', 'Hood River', 'Upper Falls', 'OR', 'Crook', 'Upper Soda Falls', 'OR', 'Linn', 'Wahe Falls', 'OR', 'Multnomah', 'Wahkeena Falls', 'OR', 'Multnomah', 'Wallalute Falls', 'OR', 'Hood River', 'Watson Falls', 'OR', 'Douglas', 'Wizard Falls', 'OR', 'Jefferson', 'Yocum Falls', 'OR', 'Clackamas', 'Slide Falls', 'OR', 'Grant', 'Minam Falls', 'OR', 'Wallowa', 'Gatch Falls', 'OR', 'Linn', 'Upper Falls Deschutes River', 'OR', 'Deschutes', 'Warren Creek Falls', 'OR', 'Hood River', 'Nenamusa Falls', 'OR', 'Tillamook', 'Moose Creek Falls', 'OR', 'Linn', 'Chitwood Falls', 'OR', 'Tillamook', 'Cascade Falls', 'OR', 'Lincoln', 'Fall Creek Falls', 'OR', 'Lincoln', 'Euchre Falls', 'OR', 'Lincoln', 'The Horn', 'OR', 'Lane', 'Indian Hole Falls', 'OR', 'Lane', 'Grotto Falls', 'OR', 'Douglas', 'Little Niagara Falls', 'OR', 'Clackamas', 'Annie Falls', 'OR', 'Klamath', 'Duwee Falls', 'OR', 'Klamath', 'Tanner Creek Falls', 'OR', 'Multnomah', 'Eagle Creek Upper Falls', 'OR', 'Clackamas', 'Wolf Creek Falls', 'OR', 'Douglas', 'Cavitt Falls', 'OR', 'Douglas', 'Smith Falls', 'OR', 'Lane', 'Moonfalls', 'OR', 'Lane', 'Spirit Falls', 'OR', 'Lane', 'Mill Creek Falls', 'OR', 'Jackson', 'Butte Falls', 'OR', 'Jackson', 'Little Illinois River Falls', 'OR', 'Josephine', 'Coquille River Falls', 'OR', 'Coos', 'Munson Creek Falls', 'OR', 'Tillamook', 'Chocolate Falls', 'OR', 'Jackson', 'Willamette Falls', 'OR', 'Clackamas', 'Muir Creek Falls', 'OR', 'Douglas', 'Susan Creek Falls', 'OR', 'Douglas', 'Wah Gwin Gwin Falls', 'OR', 'Hood River', 'Barr Creek Falls', 'OR', 'Jackson', 'Hewett Falls', 'OR', 'Coos', 'Lower Falls', 'OR', 'Crook', 'Pegleg Falls', 'OR', 'Clackamas', 'Cline Falls', 'OR', 'Deschutes', 'Wallowa Falls', 'OR', 'Wallowa', 'Final Falls', 'OR', 'Clackamas', 'Frustration Falls', 'OR', 'Clackamas', 'Hideaway Falls', 'OR', 'Clackamas', 'Hemlock Falls', 'OR', 'Douglas', 'Kelsey Falls (historical)', 'OR', 'Josephine', 'Lower Black Bar Falls', 'OR', 'Josephine', 'Split Falls', 'OR', 'Clackamas', 'Stein Falls', 'OR', 'Clackamas', 'Shadow Falls', 'OR', 'Douglas', 'Upper Black Bar Falls', 'OR', 'Josephine', 'Vanishing Falls', 'OR', 'Clackamas', 'Yakso Falls', 'OR', 'Douglas', 'Grave Creek Falls', 'OR', 'Josephine', 'Taylor Creek Falls', 'OR', 'Josephine', 'Tumwater Falls', 'OR', 'Gilliam', 'Middle Falls', 'OR', 'Clackamas', 'Baker Creek Falls', 'OR', 'Yamhill', 'Celilo Falls (historical)', 'OR', 'Wasco', 'Middle North Falls', 'OR', 'Marion', 'Henline Falls', 'OR', 'Marion', 'North Fork Falls', 'OR', 'Clatsop', 'Gnat Creek Falls', 'OR', 'Clatsop', 'Abiqua Falls', 'OR', 'Marion', 'Drift Creek Falls', 'OR', 'Marion', 'Lower South Falls', 'OR', 'Marion', 'University Falls', 'OR', 'Tillamook', 'Upper North Falls', 'OR', 'Marion', 'Bucks Falls', 'PA', 'Wayne', 'Bushkill Falls', 'PA', 'Pike', 'Buttermilk Falls', 'PA', 'Monroe', 'Clarke Falls', 'PA', 'Monroe', 'Conewago Falls', 'PA', 'Lancaster', 'Conewago Falls', 'PA', 'Dauphin', 'Creek Falls', 'PA', 'Fayette', 'Dingmans Falls', 'PA', 'Pike', 'Fulmer Falls', 'PA', 'Pike', 'High Falls', 'PA', 'Monroe', 'Howard Falls', 'PA', 'Erie', 'Indian Ladder Falls', 'PA', 'Monroe', 'Kitchen Creek Falls', 'PA', 'Luzerne', 'Leavitt Falls', 'PA', 'Monroe', 'Lee Falls', 'PA', 'Monroe', 'Lewis Falls', 'PA', 'Sullivan', 'Marshalls Falls', 'PA', 'Monroe', 'Paradise Falls', 'PA', 'Monroe', 'Scudders Falls', 'PA', 'Bucks', 'Silverthread Falls', 'PA', 'Pike', 'Spruce Cabin Falls', 'PA', 'Monroe', 'Twin Falls', 'PA', 'Monroe', 'Twin Falls', 'PA', 'Sullivan', 'Winona Falls', 'PA', 'Pike', 'Buttermilk Falls', 'PA', 'Sullivan', 'Cucumber Falls', 'PA', 'Fayette', 'Laurel Falls', 'PA', 'Somerset', 'Lincoln Falls', 'PA', 'Sullivan', 'Pinchot Falls', 'PA', 'Pike', 'Raymondskill Falls', 'PA', 'Pike', 'Falls of Schuylkill', 'PA', 'Philadelphia', 'Marshall Falls', 'PA', 'Monroe', 'Angel Falls', 'PA', 'Sullivan', 'Wenonan Falls', 'PA', 'Sullivan', 'High Falls', 'PA', 'Pike', 'Ridgeway Falls', 'PA', 'Pike', 'Wangum Falls', 'PA', 'Wayne', 'Quakertown Falls', 'PA', 'Lawrence', 'Factory Falls', 'PA', 'Pike', 'Deer Leap Falls', 'PA', 'Pike', 'Snow Hill Falls', 'PA', 'Pike', 'Great Falls of the Lehigh', 'PA', 'Luzerne', 'Tobyhanna Falls', 'PA', 'Monroe', 'Buttermilk Falls', 'PA', 'Wyoming', 'Cole Run Falls', 'PA', 'Somerset', 'Darbytown Falls', 'PA', 'Wayne', 'Rock Creek Falls', 'PA', 'Crawford', 'Grant City Falls', 'PA', 'Lawrence', 'Fallbrook Falls', 'PA', 'Tioga', 'Dry Run Falls', 'PA', 'Sullivan', 'Cold Run Road Falls', 'PA', 'Sullivan', 'Springfield Falls', 'PA', 'Mercer', 'Dutchman Falls', 'PA', 'Sullivan', 'Homewood Falls', 'PA', 'Beaver', 'Shohola Falls', 'PA', 'Pike', 'Adams Falls', 'PA', 'Westmoreland', 'Ohiopyle Falls', 'PA', 'Fayette', 'Buck Hill Falls', 'PA', 'Monroe', 'Adams Falls', 'PA', 'Luzerne', 'Onondaga Falls', 'PA', 'Luzerne', 'F L Ricketts Falls', 'PA', 'Luzerne', 'Shawnee Falls', 'PA', 'Luzerne', 'Huron Falls', 'PA', 'Luzerne', 'Ozone Falls', 'PA', 'Luzerne', 'R B Ricketts Falls', 'PA', 'Luzerne', 'B Reynolds Falls', 'PA', 'Luzerne', 'Wyandot Falls', 'PA', 'Luzerne', 'Harrison Wright Falls', 'PA', 'Luzerne', 'Sheldon Reynolds Falls', 'PA', 'Luzerne', 'Murray Reynolds Falls', 'PA', 'Luzerne', 'Tuscarora Falls', 'PA', 'Luzerne', 'Conestoga Falls', 'PA', 'Luzerne', 'Mohican Falls', 'PA', 'Luzerne', 'Delaware Falls', 'PA', 'Luzerne', 'Seneca Falls', 'PA', 'Luzerne', 'Ganoga Falls', 'PA', 'Luzerne', 'Cayuga Falls', 'PA', 'Luzerne', 'Oneida Falls', 'PA', 'Luzerne', 'Mohawk Falls', 'PA', 'Luzerne', 'Hawk Falls', 'PA', 'Carbon', 'Erie Falls', 'PA', 'Luzerne', 'Tomhicken Falls', 'PA', 'Schuylkill', 'Little Falls', 'PA', 'Pike', 'Sugar Run Falls', 'PA', 'Fayette', 'Jonathan Run Falls', 'PA', 'Fayette', 'Spillway Falls', 'PA', 'Lawrence', 'Nay Aug Falls', 'PA', 'Lackawanna', 'Whirlpool Canyon Falls', 'PA', 'Luzerne', 'The Grotto', 'PA', 'Philadelphia', 'Stepstone Falls', 'RI', 'Washington', 'Pawtucket Falls', 'RI', 'Providence', 'Big Falls', 'SC', 'Greenville', 'High Falls', 'SC', 'Oconee', 'Rainbow Falls', 'SC', 'Greenville', 'Raven Cliff Falls', 'SC', 'Greenville', 'Reedy Cove Falls', 'SC', 'Pickens', 'The Falls', 'SC', 'Marion', 'Clearwater Falls', 'SC', 'Pickens', 'Isaqueena Falls', 'SC', 'Oconee', 'Spoonauger Falls', 'SC', 'Oconee', 'Great Falls of Catawba', 'SC', 'Chester', 'Hendricks Falls', 'SC', 'Union', 'Gordons Mill Falls', 'SC', 'Laurens', 'Great Falls', 'SC', 'Laurens', 'Cedar Falls', 'SC', 'Kershaw', 'Gordons Falls', 'SC', 'Chesterfield', 'Cockers Falls', 'SC', 'Darlington', 'Pelham Falls', 'SC', 'Greenville', 'Lower Falls', 'SC', 'Oconee', 'Slicking Falls', 'SC', 'Greenville', 'Kings Creek Falls', 'SC', 'Oconee', 'Hidden Falls', 'SC', 'Oconee', 'Sioux Falls', 'SD', 'Minnehaha', 'Bridal Veil Falls', 'SD', 'Lawrence', 'Cascade Falls', 'SD', 'Fall River', 'Grizzly Bear Falls', 'SD', 'Pennington', 'Roughlock Falls', 'SD', 'Lawrence', 'Spearfish Falls', 'SD', 'Lawrence', 'Thunderhead Falls', 'SD', 'Pennington', 'Snow Falls', 'TN', 'Rhea', 'Spivey Falls', 'TN', 'Unicoi', 'Stinging Fork Falls', 'TN', 'Rhea', 'Upper Piney Falls', 'TN', 'Rhea', 'Virgin Falls', 'TN', 'White', 'Wilson Falls', 'TN', 'Sevier', 'Abrams Falls', 'TN', 'Blount', 'Baker Falls', 'TN', 'Coffee', 'Basin Falls', 'TN', 'Cumberland', 'Big Falls', 'TN', 'Coffee', 'Bluehole Falls', 'TN', 'Coffee', 'Boone Falls', 'TN', 'Lincoln', 'Bosworth Falls', 'TN', 'Coffee', 'Bridal Veil Falls', 'TN', 'Grundy', 'Burgess Falls', 'TN', 'Putnam', 'Cane Creek Falls', 'TN', 'Van Buren', 'Cascade Falls', 'TN', 'Grundy', 'Cascade Falls', 'TN', 'Coffee', 'Coon Den Falls', 'TN', 'Carter', 'Copperas Falls', 'TN', 'Lawrence', 'Copperas Falls', 'TN', 'Coffee', 'Crystal Falls', 'TN', 'Bledsoe', 'Deer Lick Falls', 'TN', 'Grundy', 'Dry Creek Falls', 'TN', 'Jackson', 'Falling Water Falls', 'TN', 'Hamilton', 'Fall Creek Falls', 'TN', 'Van Buren', 'Foster Falls', 'TN', 'Marion', 'Great Falls', 'TN', 'Warren', 'Jackson Falls', 'TN', 'Hickman', 'Jenkins Falls', 'TN', 'Hickman', 'Jumpoff Falls', 'TN', 'Marion', 'Laurel Falls', 'TN', 'Marion', 'Laurel Falls', 'TN', 'Rhea', 'Laurel Falls', 'TN', 'Sevier', 'Laurel Falls', 'TN', 'Rhea', 'Laurel Falls', 'TN', 'Carter', 'Little Falls', 'TN', 'Coffee', 'Lower Piney Falls', 'TN', 'Rhea', 'Machine Falls', 'TN', 'Coffee', 'Magendanz Falls', 'TN', 'Fentress', 'Marcella Falls', 'TN', 'Lawrence', 'Monteagle Falls', 'TN', 'Grundy', 'Morphy Falls', 'TN', 'Rhea', 'Northrup Falls', 'TN', 'Fentress', 'Ovoca Falls', 'TN', 'Coffee', 'Ozone Falls', 'TN', 'Cumberland', 'Piney Creek Falls', 'TN', 'Van Buren', 'Rainbow Falls', 'TN', 'Hardin', 'Rainbow Falls', 'TN', 'Coffee', 'Rainbow Falls', 'TN', 'Sevier', 'Ramsey Cascades', 'TN', 'Sevier', 'Rattlesnake Falls', 'TN', 'Maury', 'Ray Falls', 'TN', 'Rhea', 'Rutledge Falls', 'TN', 'Coffee', 'Pilot Falls', 'TN', 'Cumberland', 'The Falls', 'TN', 'Scott', 'Eagle Falls', 'TN', 'Lewis', 'Double Drop Falls', 'TN', 'Morgan', 'Jacks Rock Falls', 'TN', 'Morgan', 'Hilliard Falls', 'TN', 'Bledsoe', 'Double Falls', 'TN', 'Scott', 'Cummins Falls', 'TN', 'Jackson', 'Cul-car-mac Falls', 'TN', 'DeKalb', 'Twisting Falls', 'TN', 'Carter', 'Bald River Falls', 'TN', 'Monroe', 'Benton Falls', 'TN', 'Polk', 'Bullet Creek Falls', 'TN', 'Monroe', 'Jones Falls', 'TN', 'Carter', 'Barber Falls', 'TX', 'Hays', 'Capote Falls', 'TX', 'Presidio', 'Dittmar Falls', 'TX', 'Guadalupe', 'Kickapoo Falls', 'TX', 'Hood', 'Pedernales Falls', 'TX', 'Blanco', 'Tecolote Artesian Well', 'TX', 'Kenedy', 'Gorman Falls', 'TX', 'San Saba', 'Horseshoe Falls', 'TX', 'Comal', 'Lingos Falls', 'TX', 'Briscoe', 'Little Falls', 'TX', 'Randall', 'Post Oak Falls', 'TX', 'San Saba', 'Salt Croton Falls', 'TX', 'Stonewall', 'Silver Falls', 'TX', 'Crosby', 'Skiles Falls', 'TX', 'Karnes', 'Slumber Falls', 'TX', 'Comal', 'The Falls', 'TX', 'Falls', 'Twenty Foot Falls', 'TX', 'Crosby', 'Cattail Falls', 'TX', 'Brewster', 'Dolan Falls', 'TX', 'Val Verde', 'Edge Falls', 'TX', 'Kendall', 'Hidalgo Falls', 'TX', 'Washington', 'Madrid Falls', 'TX', 'Presidio', 'Roos Falls', 'TX', 'Gillespie', 'Rust Falls', 'TX', 'Comal', 'The Falls', 'TX', 'Kimble', 'Cason Falls', 'TX', 'Parker', 'Rock Falls', 'TX', 'Parker', 'Spring Falls', 'TX', 'Parker', 'Chalk Ridge Falls', 'TX', 'Bell', 'Logoua Fall', 'AS', 'Western', 'Sina Fall', 'AS', 'Western', 'Tiaiu Falls', 'AS', 'Eastern', 'Inarajan Falls', 'GU', 'Guam', 'Malojloj Falls', 'GU', 'Guam', 'Sigua Falls', 'GU', 'Guam', 'Sigua Falls', 'GU', 'Guam', 'Talofofo Falls', 'GU', 'Guam', 'Tarzan Falls', 'GU', 'Guam', 'Medallaiechad', 'PW', '', 'Tabecheding', 'PW', '', 'Brooks Falls', 'AK', 'Lake and Peninsula', 'Cheshnina Falls', 'AK', 'Valdez-Cordova (CA)', 'Chitistone Falls', 'AK', 'Valdez-Cordova (CA)', 'Ebner Falls', 'AK', 'Juneau', 'Golden Gate Falls', 'AK', 'Bethel (CA)', 'Liberty Falls', 'AK', 'Valdez-Cordova (CA)', 'Lower Falls', 'AK', 'Bethel (CA)', 'Suicide Falls', 'AK', 'Juneau', 'The Falls', 'AK', 'Southeast Fairbanks (CA)', 'Upper Falls', 'AK', 'Bethel (CA)', 'Cynthia Falls', 'AK', 'Kenai Peninsula', 'Sahlin Falls', 'AK', 'Valdez-Cordova (CA)', 'Silver Falls', 'AK', 'Prince of Wales-Hyder (CA)', 'Silver Salmon Falls', 'AK', 'Prince of Wales-Hyder (CA)', 'Sweetheart Falls', 'AK', 'Juneau', 'The Falls', 'AK', 'Hoonah-Angoon (CA)', 'Whiting Falls', 'AK', 'Valdez-Cordova (CA)', 'Bridal Veil Falls', 'AK', 'Skagway', 'Thunder Bird Falls', 'AK', 'Anchorage', 'Rudleston Falls', 'AK', 'Valdez-Cordova (CA)', 'Bridal Veil Falls', 'AK', 'Valdez-Cordova (CA)', 'Horsetail Falls', 'AK', 'Valdez-Cordova (CA)', 'White Falls', 'AK', 'Aleutians West (CA)', 'Beaver Falls', 'AK', 'Ketchikan Gateway', 'Fish Ladder', 'AK', 'Ketchikan Gateway', 'Hidden Falls', 'AK', 'Sitka', 'Kasnyku Falls', 'AK', 'Sitka', 'Nutkwa Falls', 'AK', 'Prince of Wales-Hyder (CA)', 'Ohman Falls', 'AK', 'Valdez-Cordova (CA)', 'Pitchfork Falls', 'AK', 'Skagway', 'Rainbow Falls', 'AK', 'Wrangell', 'Reid Falls', 'AK', 'Skagway', 'Lower Calf Creek Falls', 'UT', 'Garfield', 'Merkley Drop', 'UT', 'Uintah', 'Smooth Rock Falls', 'UT', 'Summit', 'The Falls', 'UT', 'Kane', 'Upper Calf Creek Falls', 'UT', 'Garfield', 'Chandler Falls', 'UT', 'Carbon', 'Double Falls', 'UT', 'Washington', 'Funnel Falls', 'UT', 'Grand', 'Lisa Falls', 'UT', 'Salt Lake', 'The Thumb Pour Off', 'UT', 'San Juan', 'Bridal Veil Falls', 'UT', 'Utah', 'Cascade Falls', 'UT', 'Kane', 'Doughnut Falls', 'UT', 'Salt Lake', 'Hidden Falls', 'UT', 'Salt Lake', 'Milky Falls', 'UT', 'Sanpete', 'Provo River Falls', 'UT', 'Summit', 'Scout Falls', 'UT', 'Utah', 'Stewarts Cascades', 'UT', 'Utah', 'Upper Falls', 'UT', 'Utah', 'Ashley Falls', 'UT', 'Daggett', 'Marys Veil', 'UT', 'Garfield', 'Pillings Cascade', 'UT', 'Garfield', 'Lower Jump', 'UT', 'San Juan', 'Upper Jump', 'UT', 'San Juan', 'Big Falls', 'VT', 'Orleans', 'Bingham Falls', 'VT', 'Lamoille', 'Blake Falls', 'VT', 'Washington', 'Bolton Falls', 'VT', 'Washington', 'Buttermilk Falls', 'VT', 'Windsor', 'Highgate Falls', 'VT', 'Franklin', 'Mollys Falls', 'VT', 'Washington', 'Moss Glen Falls', 'VT', 'Lamoille', 'Wymans Falls', 'VT', 'Windsor', 'Beecher Falls', 'VT', 'Essex', 'Bailey Falls', 'VT', 'Addison', 'Falls of Lana', 'VT', 'Addison', 'Moss Glen Falls', 'VT', 'Addison', 'Texas Falls', 'VT', 'Addison', 'Abrams Falls', 'VA', 'Washington', 'Big Falls', 'VA', 'Russell', 'Big Rock Falls', 'VA', 'Madison', 'Cedar Falls', 'VA', 'Rockingham', 'Dark Hollow Falls', 'VA', 'Madison', 'Dry Run Falls', 'VA', 'Rockingham', 'Falling Rock Falls', 'VA', 'Franklin', 'Gibbs Falls', 'VA', 'Rockbridge', 'Lewis Spring Falls', 'VA', 'Page', 'Rose River Falls', 'VA', 'Madison', 'Smith River Falls', 'VA', 'Patrick', 'South River Falls', 'VA', 'Greene', 'Styles Falls', 'VA', 'Floyd', 'Tank Hollow Falls', 'VA', 'Russell', 'White Falls', 'VA', 'Patrick', 'Jones Run Falls', 'VA', 'Albemarle', 'Apple Orchard Falls', 'VA', 'Botetourt', 'Beaverdam Falls', 'VA', 'Alleghany', 'Big Falls', 'VA', 'Montgomery', 'Blue Suck Falls', 'VA', 'Bath', 'Crabtree Falls', 'VA', 'Nelson', 'Falls of Dismal', 'VA', 'Giles', 'Goods Falls', 'VA', 'Page', 'Greasy Falls', 'VA', 'Warren', 'Meadow Creek Falls', 'VA', 'Craig', 'Mountain Falls', 'VA', 'Frederick', 'Wylie Falls', 'VA', 'Giles', 'The Falls', 'VA', 'Nelson', 'Statons Creek Falls', 'VA', 'Amherst', 'Panther Falls', 'VA', 'Amherst', 'Cascades', 'VA', 'Giles', 'Upper Falls', 'VA', 'Giles', 'Falling Spring Falls', 'VA', 'Alleghany', 'Great Falls of Dan', 'VA', 'Patrick', 'Monkey Falls', 'VA', 'Scott', 'Eagle Point Falls (historical)', 'VA', 'Mecklenburg', 'Hyco Falls (historical)', 'VA', 'Halifax', 'The Falls', 'VA', 'Grayson', 'Cascade Falls', 'WA', 'San Juan', 'Cavern Falls', 'WA', 'San Juan', 'Cedar Creek Falls', 'WA', 'Lewis', 'Chamokane Falls', 'WA', 'Stevens', 'Delzer Falls', 'WA', 'Lincoln', 'Dry Creek Falls', 'WA', 'Yakima', 'Fisk Falls', 'WA', 'Lewis', 'Granite Falls', 'WA', 'Pend Oreille', 'Hidden Falls', 'WA', 'San Juan', 'Hompegg Falls', 'WA', 'Columbia', 'Kalispell Falls', 'WA', 'Pend Oreille', 'Kennedy Falls', 'WA', 'Thurston', 'Little Chamokane Falls', 'WA', 'Stevens', 'Logy Creek Falls', 'WA', 'Yakima', 'Lower Kalama River Falls', 'WA', 'Cowlitz', 'Marietta Falls', 'WA', 'Cowlitz', 'Multnomah Falls', 'WA', 'Okanogan', 'Nine Mile Falls', 'WA', 'Spokane', 'Ninemile Falls', 'WA', 'Ferry', 'Outlet Falls', 'WA', 'Klickitat', 'Reiser Falls', 'WA', 'Lincoln', 'Rock Creek Falls', 'WA', 'Whitman', 'Rustic Falls', 'WA', 'San Juan', 'Spray Falls', 'WA', 'Okanogan', 'Summer Falls', 'WA', 'Grant', 'Victor Falls', 'WA', 'Pierce', 'Willapa Falls', 'WA', 'Pacific', 'Wilson Creek Falls', 'WA', 'Lincoln', 'LaSota Falls', 'WA', 'Pend Oreille', 'Shipherd Falls', 'WA', 'Skamania', 'Towell Falls', 'WA', 'Whitman', 'Palouse Falls', 'WA', 'Franklin', 'Titacoclos Falls', 'WA', 'Clallam', 'Mima Falls', 'WA', 'Thurston', 'Martin Falls', 'WA', 'Grant', 'Affi Falls', 'WA', 'Pierce', 'Alice Falls', 'WA', 'Pierce', 'Alpine Falls', 'WA', 'King', 'Beaver Falls', 'WA', 'Clallam', 'Boulder Falls', 'WA', 'Snohomish', 'Bridal Veil Falls', 'WA', 'Snohomish', 'Bridal Veil Falls', 'WA', 'Chelan', 'Canyon Falls', 'WA', 'Snohomish', 'Carter Falls', 'WA', 'Lewis', 'Castile Falls', 'WA', 'Yakima', 'Cataract Falls', 'WA', 'Pierce', 'Cedar Falls', 'WA', 'Okanogan', 'Chenuis Falls', 'WA', 'Pierce', 'Chewack Falls', 'WA', 'Okanogan', 'Christine Falls', 'WA', 'Pierce', 'Comet Falls', 'WA', 'Pierce', 'Cowlitz Falls', 'WA', 'Lewis', 'Cress Falls', 'WA', 'Pierce', 'Crooked Creek Falls', 'WA', 'Yakima', 'Crown Point Falls', 'WA', 'Chelan', 'Crystal Falls', 'WA', 'Stevens', 'Deception Falls', 'WA', 'King', 'Denman Falls', 'WA', 'Pierce', 'Deschutes Falls', 'WA', 'Thurston', 'Devil Creek Falls', 'WA', 'Yakima', 'Douglass Falls', 'WA', 'Stevens', 'Drury Falls', 'WA', 'Chelan', 'Eagle Falls', 'WA', 'Snohomish', 'Entiat Falls', 'WA', 'Chelan', 'Ethania Falls', 'WA', 'Pierce', 'Fish Ladder Falls', 'WA', 'Lewis', 'Foggy Dew Falls', 'WA', 'Okanogan', 'Franklin Falls', 'WA', 'King', 'Garda Falls', 'WA', 'Pierce', 'Giant Falls', 'WA', 'Pierce', 'Gibson Falls', 'WA', 'Snohomish', 'Granite Falls', 'WA', 'Snohomish', 'Grant Purcell Falls', 'WA', 'Lewis', 'Harmony Falls', 'WA', 'Skamania', 'Hatana Falls', 'WA', 'Jefferson', 'Hoko Falls', 'WA', 'Clallam', 'Horseshoe Falls', 'WA', 'Clark', 'Horsetail Falls', 'WA', 'Kittitas', 'Ipsut Falls', 'WA', 'Pierce', 'John Pierce Waterfall', 'WA', 'Whatcom', 'Kalama Falls', 'WA', 'Cowlitz', 'Keekwulee Falls', 'WA', 'King', 'Langfield Falls', 'WA', 'Skamania', 'Larrupin Falls', 'WA', 'Pierce', 'Lilliwaup Falls', 'WA', 'Mason', 'Little Mashel Falls', 'WA', 'Pierce', 'Little Niagara Falls', 'WA', 'Skamania', 'Lower Falls', 'WA', 'Skamania', 'Lucia Falls', 'WA', 'Clark', 'Madcap Falls', 'WA', 'Lewis', 'Marymere Falls', 'WA', 'Clallam', 'Mazama Falls', 'WA', 'Whatcom', 'McCauley Falls', 'WA', 'King', 'McKenna Falls', 'WA', 'Kitsap', 'McLoughlin Falls', 'WA', 'Okanogan', 'Meyers Falls', 'WA', 'Stevens', 'Middle Falls', 'WA', 'Skamania', 'Moulton Falls', 'WA', 'Clark', 'Nahunta Falls', 'WA', 'Pierce', 'Nooksack Falls', 'WA', 'Whatcom', 'North Fork Falls', 'WA', 'Snohomish', 'Olney Falls', 'WA', 'Snohomish', 'Otter Falls', 'WA', 'King', 'Paradise Falls', 'WA', 'Skamania', 'Pearl Falls', 'WA', 'Pierce', 'Pewee Falls', 'WA', 'Pend Oreille', 'Preston Falls', 'WA', 'Chelan', 'Rainbow Falls', 'WA', 'Whatcom', 'Rainbow Falls', 'WA', 'Chelan', 'Ranger Falls', 'WA', 'Pierce', 'Saint Johns Falls', 'WA', 'Lewis', 'Salmon Falls', 'WA', 'Clark', 'Salmon Falls', 'WA', 'Okanogan', 'Service Falls', 'WA', 'Jefferson', 'Sheep Creek Falls', 'WA', 'Stevens', 'Silver Falls', 'WA', 'Lewis', 'Silver Falls', 'WA', 'Chelan', 'Snoqualmie Falls', 'WA', 'King', 'Snowshoe Falls', 'WA', 'King', 'Sol Duc Falls', 'WA', 'Clallam', 'Spray Falls', 'WA', 'Pierce', 'Stafford Falls', 'WA', 'Pierce', 'Sunset Falls', 'WA', 'Snohomish', 'Tato Falls', 'WA', 'Pierce', 'Teepee Falls', 'WA', 'Skagit', 'Twin Falls', 'WA', 'Skamania', 'Twin Falls', 'WA', 'King', 'Union Creek Falls', 'WA', 'Yakima', 'Upper Falls', 'WA', 'Skamania', 'Upper Falls', 'WA', 'Stevens', 'Van Horn Falls', 'WA', 'Pierce', 'Wallace Falls', 'WA', 'Snohomish', 'Washboard Falls', 'WA', 'Cowlitz', 'West Quartz Creek Falls', 'WA', 'Yakima', 'White River Falls', 'WA', 'Chelan', 'Wildcat Falls', 'WA', 'Pierce', 'Hard Scrabble Falls', 'WA', 'Whatcom', 'Sunday Falls', 'WA', 'Snohomish', 'Asbestos Falls', 'WA', 'Snohomish', 'Washington Cascades', 'WA', 'Lewis', 'Dougan Falls', 'WA', 'Skamania', 'Rodney Falls', 'WA', 'Skamania', 'Hardy Falls', 'WA', 'Skamania', 'Mission Falls', 'WA', 'Okanogan', 'Twin Falls', 'WA', 'Snohomish', 'Domke Falls', 'WA', 'Chelan', 'Falls Creek Falls', 'WA', 'Skamania', 'Curly Creek Falls', 'WA', 'Skamania', 'Falls Creek Falls', 'WA', 'Okanogan', 'Gorge Creek Falls', 'WA', 'Whatcom', 'Dingford Creek Falls', 'WA', 'King', 'Bear Creek Falls', 'WA', 'Clallam', 'Herman Falls', 'WA', 'Clallam', 'Florence Falls', 'WA', 'King', 'Jennings Falls', 'WA', 'Lewis', 'Sherman Creek Falls', 'WA', 'Ferry', 'Ladder Creek Falls', 'WA', 'Whatcom', 'Malachite Falls', 'WA', 'King', 'Rickey Rapids', 'WA', 'Stevens', 'The Dalles (historical)', 'WA', 'Klickitat', 'Kettle Falls (historical)', 'WA', 'Stevens', 'Hawk Creek Falls', 'WA', 'Lincoln', 'Basaltic Falls', 'WA', 'Pierce', 'Cougar Falls', 'WA', 'Lewis', 'Fairy Falls', 'WA', 'Pierce', 'Maple Falls', 'WA', 'Lewis', 'Margaret Falls', 'WA', 'Pierce', 'Marie Falls', 'WA', 'Pierce', 'Martha Falls', 'WA', 'Lewis', 'Mary Belle Falls', 'WA', 'Pierce', 'Narada Falls', 'WA', 'Lewis', 'Sluiskin Falls', 'WA', 'Pierce', 'Sunbeam Falls', 'WA', 'Lewis', 'Sylvia Falls', 'WA', 'Lewis', 'Trixie Falls', 'WA', 'Pierce', 'Twin Falls', 'WA', 'Pierce', 'Wauhaukaupauken Falls', 'WA', 'Pierce', 'Brooks Falls', 'WV', 'Raleigh', 'Harvey Falls', 'WV', 'Summers', 'Lower Falls', 'WV', 'Kanawha', 'Niagara Falls', 'WV', 'Hampshire', 'Sandstone Falls', 'WV', 'Raleigh', 'Tecumseh Falls', 'WV', 'Webster', 'Tenskwatawa Falls', 'WV', 'Webster', 'Upper Falls', 'WV', 'Kanawha', 'Blackwater Falls', 'WV', 'Tucker', 'Falls of Hills Creek', 'WV', 'Pocahontas', 'Falls of Seneca', 'WV', 'Pendleton', 'High Falls', 'WV', 'Randolph', 'Whitaker Falls', 'WV', 'Webster', 'Kanawha Falls', 'WV', 'Fayette', 'Bull Falls', 'WV', 'Summers', 'Richman Falls', 'WV', 'Summers', 'Amnicon Falls', 'WI', 'Douglas', 'Beartrap Falls', 'WI', 'Menominee', 'Bellile Falls', 'WI', 'Sawyer', 'Big Eddy Falls', 'WI', 'Menominee', 'Big Falls', 'WI', 'Eau Claire', 'Big Manitou Falls', 'WI', 'Douglas', 'Brownstone Falls', 'WI', 'Ashland', 'Bull Falls', 'WI', 'Marinette', 'Cato Falls', 'WI', 'Manitowoc', 'Eighteenfoot Falls', 'WI', 'Marinette', 'Eightfoot Falls', 'WI', 'Marinette', 'Freeman Falls', 'WI', 'Shawano', 'Gilmer Falls', 'WI', 'Shawano', 'Grandfather Falls', 'WI', 'Lincoln', 'Hamilton Falls', 'WI', 'Eau Claire', 'Horseshoe Falls', 'WI', 'Marinette', 'Little Bull Falls', 'WI', 'Wood', 'Little Bull Falls', 'WI', 'Shawano', 'Little Falls', 'WI', 'Sawyer', 'Little Falls', 'WI', 'Waupaca', 'Little Manitou Falls', 'WI', 'Douglas', 'Little Quinnesec Falls', 'WI', 'Marinette', 'Long Slide Falls', 'WI', 'Marinette', 'Peavey Falls', 'WI', 'Menominee', 'Pipestone Falls', 'WI', 'Sawyer', 'Potato River Falls', 'WI', 'Iron', 'Rainbow Falls', 'WI', 'Menominee', 'Skillet Falls', 'WI', 'Sauk', 'Smalley Falls', 'WI', 'Marinette', 'Spring Camp Falls', 'WI', 'Iron', 'Strong Falls', 'WI', 'Marinette', 'Twelvefoot Falls', 'WI', 'Marinette', 'Wayka Falls', 'WI', 'Menominee', 'Shale Falls', 'WI', 'Douglas', 'Big Smoky Falls', 'WI', 'Menominee', 'Copper Falls', 'WI', 'Ashland', 'Ducknest Falls', 'WI', 'Menominee', 'Evergreen Falls', 'WI', 'Menominee', 'Morgan Falls', 'WI', 'Ashland', 'Saxon Falls', 'MI', 'Gogebic', 'Sullivan Falls', 'WI', 'Menominee', 'Superior Falls', 'MI', 'Gogebic', 'Apple River Falls', 'WI', 'St. Croix', 'Bechler Falls', 'WY', 'Teton', 'Big Creek Falls', 'WY', 'Park', 'Bucking Mule Falls', 'WY', 'Big Horn', 'Bull Lake Falls', 'WY', 'Fremont', 'Cascades of the Firehole', 'WY', 'Teton', 'Cave Falls', 'WY', 'Teton', 'Colonnade Falls', 'WY', 'Teton', 'Columbine Cascade', 'WY', 'Teton', 'Cottonwood Falls', 'WY', 'Platte', 'Crystal Falls', 'WY', 'Park', 'Duck Creek Falls', 'WY', 'Albany', 'Dunanda Falls', 'WY', 'Teton', 'Fairy Falls', 'WY', 'Teton', 'Fern Cascades', 'WY', 'Teton', 'Firehole Falls', 'WY', 'Teton', 'Garden Creek Waterfall', 'WY', 'Natrona', 'Gibbon Falls', 'WY', 'Teton', 'Gwinna Falls', 'WY', 'Teton', 'Iris Falls', 'WY', 'Teton', 'Kepler Cascades', 'WY', 'Teton', 'Le Vasseur Falls', 'WY', 'Converse', 'Lewis Falls', 'WY', 'Teton', 'Lost Creek Falls', 'WY', 'Park', 'Melody Falls', 'WY', 'Big Horn', 'North Fork Falls', 'WY', 'Teton', 'Ouzel Falls', 'WY', 'Teton', 'Popo Agie Falls', 'WY', 'Fremont', 'Porcupine Falls', 'WY', 'Big Horn', 'Quiver Cascade', 'WY', 'Teton', 'Ragged Falls', 'WY', 'Teton', 'Rainbow Falls', 'WY', 'Teton', 'Ribbon Cascade', 'WY', 'Teton', 'Shoal Falls', 'WY', 'Teton', 'Silver Scarf Falls', 'WY', 'Teton', 'Sluiceway Falls', 'WY', 'Teton', 'Tendoy Falls', 'WY', 'Teton', 'Tower Fall', 'WY', 'Park', 'Twister Falls', 'WY', 'Teton', 'Upper Falls', 'WY', 'Teton', 'Upper Falls of the Yellowstone River', 'WY', 'Park', 'Wagon Hound Falls', 'WY', 'Converse', 'West Dell Falls', 'WY', 'Sublette', 'Wraith Falls', 'WY', 'Park', 'Albright Falls', 'WY', 'Teton', 'Hidden Falls', 'WY', 'Teton', 'Slide Falls', 'WY', 'Sublette', 'Clear Creek Falls', 'WY', 'Sublette', 'Bannock Falls', 'WY', 'Teton', 'Beartooth Falls', 'WY', 'Park', 'Bomber Falls', 'WY', 'Fremont', 'Bridal Veil Falls', 'WY', 'Park', 'Broken Falls', 'WY', 'Teton', 'Brooks Lake Creek Falls', 'WY', 'Fremont', 'Cascade Acres', 'WY', 'Teton', 'Cleft Falls', 'WY', 'Teton', 'Cliff Creek Falls', 'WY', 'Sublette', 'Glacier Falls', 'WY', 'Teton', 'Granite Falls', 'WY', 'Teton', 'Lake Fork Falls', 'WY', 'Fremont', 'Menace Falls', 'WY', 'Sublette', 'Moose Falls', 'WY', 'Teton', 'North Fork Falls', 'WY', 'Sublette', 'Ouzel Falls', 'WY', 'Teton', 'Plateau Falls', 'WY', 'Teton', 'Porcupine Creek Falls', 'WY', 'Sublette', 'Shell Falls', 'WY', 'Big Horn', 'Shoshoko Falls', 'WY', 'Teton', 'Slide Creek Falls', 'WY', 'Sublette', 'South Fork Falls', 'WY', 'Teton', 'Spalding Falls', 'WY', 'Teton', 'Sweetwater Creek Falls', 'WY', 'Park', 'Terraced Falls', 'WY', 'Teton', 'Twilight Falls', 'WY', 'Fremont', 'Union Falls', 'WY', 'Teton', 'Wilderness Falls', 'WY', 'Teton', 'Wohelo Falls', 'WY', 'Lincoln', 'Little Medicine Falls', 'WY', 'Converse', 'Lewis Falls', 'WY', 'Lincoln', 'Spring Creek Falls', 'WY', 'Lincoln', 'Lower Falls of the Yellowstone River', 'WY', 'Park', 'Mystic Falls', 'WY', 'Teton', 'Rustic Falls', 'WY', 'Park', 'Silver Cord Cascade', 'WY', 'Park', 'Tempe Cascade', 'WY', 'Teton', 'Undine Falls', 'WY', 'Park', 'Virginia Cascade', 'WY', 'Park', 'Wahhi Falls', 'WY', 'Teton', 'Osprey Falls', 'WY', 'Park', 'El Salto Grande', 'PR', 'Corozal', 'Jobos Saltillo', 'PR', 'Utuado', 'Salto de Doña Juana', 'PR', 'Orocovis', 'Catarata Coca', 'PR', 'Río Grande', 'Tibbets Falls', 'MI', 'Baraga', 'Traders Falls', 'MI', 'Gogebic', 'Trap Falls', 'MI', 'Ontonagon', 'Upper Falls', 'MI', 'Luce', 'Upper Falls', 'MI', 'Baraga', 'West Branch Falls', 'MI', 'Baraga', 'Dee Lundeen Falls', 'MI', 'Marquette', 'Canyon Falls', 'MI', 'Baraga', 'Little Garlic Falls', 'MI', 'Marquette', 'Hogback Falls', 'MI', 'Marquette', 'Froling Falls', 'MI', 'Marquette', 'Abinodji Falls', 'MI', 'Gogebic', 'Agate Falls', 'MI', 'Ontonagon', 'Ajibikika Falls', 'MI', 'Gogebic', 'Au Train Falls', 'MI', 'Alger', 'Bond Falls', 'MI', 'Ontonagon', 'Cascade Falls', 'MI', 'Ontonagon', 'Chapel Falls', 'MI', 'Alger', 'Explorers Falls', 'MI', 'Gogebic', 'Gabbro Falls', 'MI', 'Gogebic', 'Gorge Falls', 'MI', 'Gogebic', 'Judson Falls', 'MI', 'Gogebic', 'Kakabika Falls', 'MI', 'Gogebic', 'Laughing Whitefish Falls', 'MI', 'Alger', 'Manabezho Falls', 'MI', 'Gogebic', 'Manido Falls', 'MI', 'Gogebic', 'Mex-i-min-e Falls', 'MI', 'Gogebic', 'Miners Falls', 'MI', 'Alger', 'Mosquito Falls', 'MI', 'Alger', 'Nawadaha Falls', 'MI', 'Gogebic', 'Neepikon Falls', 'MI', 'Gogebic', 'Nelson Canyon Falls', 'MI', 'Gogebic', 'Ogima Falls', 'MI', 'Gogebic', 'Ogimakwe Falls', 'MI', 'Gogebic', 'Rainbow Falls', 'MI', 'Gogebic', 'Rock River Falls', 'MI', 'Alger', 'Sandstone Falls', 'MI', 'Gogebic', 'Silver Falls', 'MI', 'Alger', 'Spray Falls', 'MI', 'Alger', 'Sturgeon Falls', 'MI', 'Houghton', 'Trappers Falls', 'MI', 'Gogebic', 'Vista Falls', 'MI', 'Houghton', 'Wagner Falls', 'MI', 'Alger', 'Wolverine Falls', 'MI', 'Ontonagon', 'Yondota Falls', 'MI', 'Gogebic', 'Alger Falls', 'MI', 'Alger', 'O Kun de Kun Falls', 'MI', 'Ontonagon', 'Munising Falls', 'MI', 'Alger', 'Onion Falls', 'MI', 'Houghton', 'Little Falls', 'MI', 'Ontonagon', 'Deer Creek Falls', 'MI', 'Ontonagon', 'Haymeadows Falls', 'MI', 'Delta', 'Hogger Falls', 'MI', 'Houghton', 'West Branch Sturgeon Falls', 'MI', 'Houghton', 'Jumbo Falls', 'MI', 'Houghton', 'Dumpy Falls', 'MI', 'Iron', 'Gleason Creek Falls', 'MI', 'Ontonagon', 'Sandstone Falls', 'MI', 'Ontonagon', 'Whitefish Falls', 'MI', 'Alger', 'Marshall Falls', 'MI', 'Gogebic', 'Tannery Falls', 'MI', 'Alger', 'Horseshoe Falls', 'MI', 'Alger', 'Otter Falls', 'MI', 'Houghton', 'Slate River Falls', 'MI', 'Baraga', 'Hunter Falls', 'OR', 'Wallowa', 'Gunaldo Falls', 'OR', 'Yamhill', 'Gentry Creek Falls', 'TN', 'Johnson', 'Rainbow Falls', 'TN', 'Cannon', 'Grotto Falls', 'TN', 'Sevier', 'Chilnualna Fall', 'CA', 'Mariposa', 'Huntington Falls', 'CA', 'San Francisco', 'Rainbow Falls', 'CA', 'San Francisco', 'Loretta Falls', 'CA', 'Del Norte', 'Ponytail Falls', 'CA', 'Siskiyou', 'Ash Creek Falls', 'CA', 'Siskiyou', 'Faery Falls', 'CA', 'Siskiyou', 'Johnson Creek Falls', 'CA', 'Siskiyou', 'Manly Fall', 'CA', 'Inyo', 'Clover Creek Falls', 'CA', 'Shasta', 'Hatchet Creek Falls', 'CA', 'Shasta', 'Lion Slide Falls', 'CA', 'Shasta', 'Lion Wash Falls', 'CA', 'Shasta', 'Montgomery Creek Falls', 'CA', 'Shasta', 'Finnegan Falls', 'CA', 'Stanislaus', 'Gray Falls', 'CA', 'Trinity', 'Kickapoo Waterfall', 'CA', 'Trinity', 'Deadhorse Falls', 'CA', 'Tehama', 'Mill Creek Falls', 'CA', 'Tehama', 'Indian Falls', 'CA', 'Plumas', 'Fern Falls', 'CA', 'Plumas', 'Fossil Falls', 'CA', 'Inyo', 'Second Falls', 'CA', 'Inyo', 'Ella Falls', 'CA', 'Tulare', 'Cholollo Falls', 'CA', 'Tulare', 'Carson Falls', 'CA', 'Alpine', 'Salmon Falls', 'CA', 'El Dorado', 'Big Falls', 'VA', 'Albemarle', 'Kinlock Falls', 'AL', 'Lawrence', 'Parker Cascades', 'AL', 'Lawrence', 'Parker Falls', 'AL', 'Winston', 'Twin Falls', 'CA', 'Mono', 'Muddy Creek Falls', 'MD', 'Garrett', 'Quarter Creek Falls', 'AL', 'Winston', 'Colter Falls (historical)', 'MT', 'Cascade', 'Black Eagle Falls', 'MT', 'Cascade', 'Wiesendanger Falls', 'OR', 'Multnomah', 'Glenn Falls', 'VA', 'Rockbridge', 'Nevele Falls', 'NY', 'Ulster', 'Hominy Falls', 'OK', 'Osage', 'Kent Falls', 'CA', 'Marin', 'Dawn Falls', 'CA', 'Marin', 'Pottersville Falls', 'NJ', 'Morris', 'Multnomah Falls', 'OR', 'Multnomah', 'The Falls', 'CO', 'Chaffee', 'Cataract Falls', 'CA', 'Marin', 'Wolf Creek Falls', 'MN', 'Pine', 'Ramsey Falls', 'MN', 'Redwood', 'Great Falls of the Illinois River', 'IL', 'LaSalle', 'Ki-a-Kuts Falls', 'OR', 'Washington', 'Ni-ho-kha-wa-ne-ey-ja', 'WI', 'Jackson', 'Polly Falls', 'WI', 'Jackson', 'Big Quinnesec Falls (historical)', 'WI', 'Marinette', 'Makahiku Falls', 'HI', 'Maui', 'Wahclella Falls', 'OR', 'Multnomah', 'Kīlauea Falls', 'HI', 'Kauai', 'Fultons Falls', 'AK', 'Kodiak Island', 'Islay Falls', 'CA', 'San Luis Obispo', 'Golden Falls', 'CA', 'Santa Cruz', 'Silver Falls', 'CA', 'Santa Cruz', 'Maple Falls', 'CA', 'Santa Cruz', 'Fiver Finger Falls', 'CA', 'Santa Cruz', 'McWay Falls', 'CA', 'Monterey', 'Daves Falls', 'WI', 'Marinette', 'Sturgeon Falls (historical)', 'WI', 'Marinette', 'Sockeye Falls', 'AK', 'Petersburg Borough', 'Butman Falls', 'TX', 'Taylor', 'Alaska Chief Falls', 'AK', 'Juneau', 'Grindstone Falls', 'AK', 'Juneau', 'Kolevokharit Koygut Falls', 'AK', 'Dillingham (CA)', 'Lost Rocker Falls', 'AK', 'Juneau', 'Petrof Falls', 'AK', 'Lake and Peninsula', 'Tikchik Falls', 'AK', 'Dillingham (CA)', 'White Falls', 'AK', 'Aleutians West (CA)', 'Wolverine Falls', 'AK', 'Lake and Peninsula', 'Horseshoe Falls', 'RI', 'Washington', 'Albion Falls', 'RI', 'Providence', 'Woonsocket Falls', 'RI', 'Providence', 'Dunn Falls', 'ME', 'Oxford', 'Steep Falls', 'ME', 'Oxford', 'Angel Falls', 'ME', 'Franklin', 'Poplar Stream Falls', 'ME', 'Franklin', 'Austin Stream Falls', 'ME', 'Somerset', 'Cold Stream Falls', 'ME', 'Somerset', 'Little Falls', 'ME', 'Washington', 'Sprague Falls', 'ME', 'Washington', 'Katahdin Stream Falls', 'ME', 'Piscataquis', 'Slugundy Falls', 'ME', 'Piscataquis', 'Mayo Falls', 'ME', 'York', 'Bagaduce Falls', 'ME', 'Hancock', 'Goose Falls', 'ME', 'Hancock', 'Hadlock Falls', 'ME', 'Hancock', \"Man O'War Brook Falls\", 'ME', 'Hancock', 'Mallison Falls', 'ME', 'Cumberland', 'Saccarappa Falls', 'ME', 'Cumberland', 'Basion Cove Falls', 'ME', 'Cumberland', 'Greggs Falls', 'NH', 'Hillsborough', 'Garvin Falls', 'NH', 'Merrimack', 'Huntington Falls', 'VT', 'Addison', 'Bingham Falls', 'VT', 'Lamoille', 'Winooski Falls', 'VT', 'Chittenden', 'Moretown Falls', 'VT', 'Washington', 'Hamilton Falls', 'VT', 'Windham', 'Center Rutland Falls', 'VT', 'Rutland', 'Sutherland Falls', 'VT', 'Rutland', 'Black River Falls', 'VT', 'Windsor', 'Crystal Cascade Falls', 'VT', 'Windsor', 'Gerrys Falls', 'VT', 'Windsor', 'Little Cascade Falls', 'VT', 'Windsor', 'Great Falls', 'OH', 'Cuyahoga', 'Blue Hen Falls', 'OH', 'Summit', 'Buttermilk Falls', 'OH', 'Summit', 'Bridal Veil Falls', 'OH', 'Cuyahoga', 'Mill Creek Falls', 'OH', 'Cuyahoga', 'Hanakāpīʻai Falls', 'HI', 'Kauai', 'Hanakoa Falls', 'HI', 'Kauai', 'Hoʻoleʻa Falls', 'HI', 'Kauai', 'Quinebaug Falls', 'CT', 'New London', 'Shetucket Falls', 'CT', 'New London', 'Yantic Falls', 'CT', 'New London', 'Great Falls', 'CT', 'Litchfield', 'Roxbury Falls', 'CT', 'Litchfield', 'Cetti Falls', 'GU', 'Guam', 'Paaiki Falls', 'HI', 'Kauai', 'Falls of the Ohio', 'IN', 'Clark', 'Halfway Falls', 'CT', 'Fairfield', 'Rippowan Falls', 'CT', 'Fairfield', 'Bristol Falls', 'CT', 'Hartford', 'Saguache Falls', 'CO', 'Saguache', 'Painter Falls', 'OR', 'Linn', 'Tolliver Falls', 'MD', 'Garrett', 'Upper Swallow Falls', 'MD', 'Garrett', 'Lower Swallow Falls', 'MD', 'Garrett', 'Cascade Falls', 'OH', 'Portage', 'Minnehaha Falls', 'OH', 'Portage', 'Buckeye Falls', 'TN', 'Unicoi', 'Leone Falls', 'AS', 'Western', 'Virgin Falls', 'AS', 'Eastern', 'Money Brook Falls', 'MA', 'Berkshire', 'Wolf Pass Falls', 'AK', 'Prince of Wales-Hyder (CA)', 'Catarata de la Mina', 'PR', 'Río Grande', 'Loowit Falls', 'WA', 'Skamania', 'Fern Rock Falls', 'OR', 'Tillamook', 'Berry Falls', 'NE', 'Cherry', 'Big Spring Falls', 'MN', 'Pine', 'Whiskeytown Falls', 'CA', 'Shasta', 'Crystal Creek Falls', 'CA', 'Shasta', 'Chush Falls', 'OR', 'Deschutes', \"Hn(wa'(we'elshn (historical)\", 'WA', 'Spokane', 'Little Mudlick Falls', 'KY', 'Johnson', 'Little Mudlick Falls', 'KY', 'Johnson', 'Bridalveil Falls', 'MI', 'Alger', 'Lower Falls', 'MI', 'Marquette', 'Middle Falls', 'MI', 'Marquette', 'Upper Falls', 'MI', 'Marquette', 'East Branch Falls', 'MI', 'Baraga', 'Wylie Falls', 'MI', 'Marquette', 'Daults Falls', 'MI', 'Baraga', 'Tioga Falls', 'MI', 'Baraga', 'Ogemaw Falls', 'MI', 'Baraga', 'Three Falls', 'NY', 'St. Lawrence', 'Upper Falls', 'MI', 'Keweenaw', 'Lower Falls', 'MI', 'Keweenaw', 'Lower Falls', 'MI', 'Keweenaw', 'Upper Falls', 'MI', 'Keweenaw', 'Manganese Falls', 'MI', 'Keweenaw', 'Copper Falls', 'MI', 'Keweenaw', 'Jacobs Falls', 'MI', 'Keweenaw', 'Silver River Falls', 'MI', 'Keweenaw', 'Haven Falls', 'MI', 'Keweenaw', 'Lepisto Falls', 'MI', 'Gogebic', 'Eagle River Falls', 'MI', 'Keweenaw', \"Big Erick's Falls\", 'MI', 'Baraga', 'Black Slate Falls', 'MI', 'Baraga', 'Ectasy Falls', 'MI', 'Baraga', 'Gomanche Falls', 'MI', 'Baraga', 'Harley Falls', 'MI', 'Baraga', 'Lower Canyon Falls', 'MI', 'Baraga', 'Lower Letherby Falls', 'MI', 'Baraga', 'Middle Falls River Falls', 'MI', 'Baraga', 'Middle Silver River Falls', 'MI', 'Baraga', 'No Name Falls', 'MI', 'Baraga', 'Plumbago Falls', 'MI', 'Baraga', 'Power Dam Falls', 'MI', 'Baraga', 'Power House Falls', 'MI', 'Baraga', 'Quartzite Falls', 'MI', 'Baraga', 'Ravine River Falls', 'MI', 'Baraga', 'Slide Falls', 'MI', 'Baraga', 'Upper Silver Falls', 'MI', 'Baraga', 'Upper Silver River Falls', 'MI', 'Baraga', 'Upper Sturgeon Falls', 'MI', 'Baraga', 'Five Falls (historical)', 'NY', 'St. Lawrence', 'Gain Twist Falls (historical)', 'NY', 'St. Lawrence', 'Little Falls (historical)', 'NY', 'St. Lawrence', 'Hungarian Falls', 'MI', 'Houghton', 'Wyandotte Falls', 'MI', 'Houghton', 'Wrigley Falls', 'KY', 'Morgan', 'Irish Rapid Falls', 'MI', 'Ontonagon', 'Rock Bluff Falls', 'MI', 'Ontonagon', 'Little Union Gorge Falls', 'MI', 'Ontonagon', 'Nonesuch Falls', 'MI', 'Ontonagon', 'Iagoo Falls', 'MI', 'Gogebic', 'Rocky Forty Falls', 'MI', 'Gogebic', 'Maple Creek Falls', 'MI', 'Gogebic', 'Pinkerton Falls', 'MI', 'Gogebic', 'Bathtub Falls', 'MI', 'Gogebic', 'Big Carp Falls', 'MI', 'Gogebic', 'Peterson Falls', 'MI', 'Gogebic', 'Granite Falls', 'MI', 'Gogebic', 'Root Beer Falls', 'MI', 'Gogebic', 'Interstate Falls', 'MI', 'Gogebic', 'Fumee Falls', 'MI', 'Dickinson', 'Lower Mill Pond Falls', 'MI', 'Dickinson', 'Upper Mill Pond Falls', 'MI', 'Dickinson', 'Power Dam Falls', 'MI', 'Dickinson', 'Hydraulic Dam Falls', 'MI', 'Dickinson', 'Horse Race Rapids', 'MI', 'Dickinson', 'Ford Dam Falls', 'MI', 'Dickinson', 'Piers Gorge Falls', 'MI', 'Dickinson', 'Upper East Tumbo River Falls', 'MI', 'Iron', 'Middle East Jumbo River Falls', 'MI', 'Iron', 'Margeson Falls', 'MI', 'Iron', 'Chicagon Falls', 'MI', 'Iron', 'Glidden Rapids', 'MI', 'Iron', 'Turkey Neck Falls', 'MI', 'Marquette', 'Trestle Falls', 'MI', 'Marquette', 'Tiger Falls', 'MI', 'Marquette', 'Schweitzer Falls', 'MI', 'Marquette', 'Mulligan Falls', 'MI', 'Marquette', 'Holeyoke Falls', 'MI', 'Marquette', 'Ely Falls', 'MI', 'Marquette', 'West Branch Yellow Dog Falls', 'MI', 'Marquette', 'Yellow Dog Falls', 'MI', 'Marquette', 'Big Garlic River Falls', 'MI', 'Marquette', 'Upper Carp River Falls', 'MI', 'Marquette', 'Lower Carp River Falls', 'MI', 'Marquette', 'Alder Falls', 'MI', 'Marquette', 'Reany Falls', 'MI', 'Marquette', 'Warner Falls', 'MI', 'Marquette', 'Dead River Falls', 'MI', 'Marquette', 'Yellow Dog River Falls', 'MI', 'Marquette', 'Big Pup Falls', 'MI', 'Marquette', 'Morgan Falls', 'MI', 'Marquette', 'Bushy Creek Falls', 'MI', 'Marquette', 'Forty Foot Falls', 'MI', 'Marquette', 'Eighty Foot Falls', 'MI', 'Marquette', 'Upper Chocolay Falls', 'MI', 'Marquette', 'Cataract Dam Falls', 'MI', 'Marquette', 'White City Falls', 'MI', 'Marquette', 'Black River Falls', 'MI', 'Marquette', 'Rose Falls (West)', 'MI', 'Delta', 'Rose Falls (East)', 'MI', 'Delta', 'Chandler Falls', 'MI', 'Delta', 'Rapid River Falls', 'MI', 'Delta', 'Cole Creek Falls', 'MI', 'Alger', 'Memorial Falls', 'MI', 'Alger', 'Twin Island Rapids', 'MI', 'Menominee', 'Paradise Falls', 'MT', 'Lewis and Clark', 'Rock Bridge Falls', 'KY', 'Wolfe', 'Honeoye Falls', 'NY', 'Monroe', 'Buttermilk Falls', 'NY', 'Orange', 'Buttermilk Falls', 'NY', 'Albany', 'Little Lyons Falls', 'OH', 'Ashland', 'Falls of Buffalo', 'KY', 'Owsley', 'Bells Falls', 'KY', 'Menifee', 'Upper Kentucky Falls', 'OR', 'Douglas', 'Lower Kentucky Falls', 'OR', 'Douglas', 'Lower Verdigris Falls (historical)', 'OK', 'Wagoner', 'Webbers Falls (historical)', 'OK', 'Sequoyah', 'Rainbow Falls', 'CO', 'El Paso', 'Turner Drop', 'OR', 'Jackson', 'White Tail Falls', 'PA', 'Cambria', 'Winding Staircase Falls', 'PA', 'Cambria', 'Falls of McCammon', 'KY', 'Jackson', 'Upper Falls', 'CA', 'Santa Clara', 'Black Rock Falls', 'CA', 'Santa Clara', 'Triple Falls', 'CA', 'Santa Clara', 'Basin Falls', 'CA', 'Santa Clara', 'Sullivan Creek Falls', 'OR', 'Marion', 'Orris Falls', 'ME', 'York', 'Three Troughs Falls', 'CA', 'San Luis Obispo', 'Drennon Falls', 'KY', 'Henry', 'Big Salmon Falls', 'MT', 'Missoula', 'Lower Trestle Creek Falls', 'OR', 'Lane', 'Upper Trestle Creek Falls', 'OR', 'Lane', 'Lower Parker Falls', 'OR', 'Lane', 'Upper Parker Falls', 'OR', 'Lane', 'Pinard Falls', 'OR', 'Lane', 'Clover Falls', 'OR', 'Douglas', \"Ti'lomikh Falls\", 'OR', 'Jackson', 'Diamond Creek Falls', 'OR', 'Lane', 'Aziscohos Falls (historical)', 'ME', 'Oxford', 'Wiley Falls', 'MD', 'Harford', 'Climbing Rose Falls', 'VA', 'Madison', 'Clear Creek Falls', 'WA', 'Yakima', 'Hidden Falls', 'CA', 'Placer', 'The Big Falls', 'KY', 'Meade', 'Irvine Fall', 'KY', 'Allen', 'Michigamme Falls (historical)', 'MI', 'Iron', 'Platinum Falls', 'OR', 'Douglas', 'Mineral Springs Falls', 'ND', 'Ransom', 'Hemlock Falls', 'TN', 'Van Buren', 'Canyon Creek Cascade', 'IL', 'DuPage', 'Canyon Creek Falls', 'IL', 'DuPage', 'Rockstack Falls', 'TN', 'Hamilton', 'Flatrock Falls', 'TN', 'Morgan', 'Celestial Falls', 'OR', 'Wasco', 'White River Falls', 'OR', 'Wasco', 'Miller Falls', 'VA', 'Warren', 'Flatrock Falls', 'TN', 'Hamilton', 'Freudenberg Falls', 'TN', 'Hamilton', 'Sids Falls', 'SC', 'Oconee', 'Rotary Falls', 'AK', 'Matanuska-Susitna', 'Three Creeks Falls', 'TN', 'Hamilton', 'Reedy River Falls', 'SC', 'Greenville', 'Upper Falls', 'SC', 'Greenville', 'Lower Falls', 'SC', 'Greenville', 'Middle Creek Falls', 'TN', 'Hamilton', 'Gages Falls', 'VT', 'Windham', 'Saxtons River Falls', 'VT', 'Windham', 'Sokoki Falls', 'VT', 'Windham', 'Twin Falls', 'VT', 'Windham', 'Velvet Falls', 'ID', '', 'Great Falls', 'NH', 'Cheshire', 'Tappan Falls', 'ID', 'Lemhi', \"X'áask'\", 'AK', 'Hoonah-Angoon (CA)', \"Lax'áask'i\", 'AK', 'Hoonah-Angoon (CA)', \"Tax'áas\", 'AK', 'Hoonah-Angoon (CA)', 'Burrville Cider Mill Falls', 'NY', 'Jefferson', 'Great Falls', 'NY', 'Jefferson', 'Catfish Falls', 'NY', 'Jefferson', 'Agers Falls', 'NY', 'Lewis', 'Eagle Falls', 'NY', 'Lewis', 'Whitaker Falls', 'NY', 'Lewis', 'Stark Falls', 'NY', 'St. Lawrence', 'Brasher Falls', 'NY', 'St. Lawrence', 'Rainbow Falls', 'NY', 'Lewis', 'Lyons Falls', 'NY', 'Lewis', 'Sperrys Falls', 'NY', 'Jefferson', 'Beaver Falls', 'NY', 'Jefferson', 'Childs Falls', 'NY', 'Jefferson', 'Pleasant Creek Falls', 'NY', 'Jefferson', 'Eatonville Falls', 'NY', 'Lewis', 'Shingle Mill Falls', 'NY', 'Lewis', 'Jerden Falls', 'NY', 'Lewis', 'Greenwood Falls', 'NY', 'St. Lawrence', 'Plumb Brook Falls', 'NY', 'St. Lawrence', 'Butternut Falls', 'NY', 'Jefferson', 'Fullerville Falls', 'NY', 'St. Lawrence', 'Harts Falls', 'NY', 'St. Lawrence', 'Cascade Falls', 'NY', 'St. Lawrence', 'Bog River Falls', 'NY', 'St. Lawrence', 'Singing Waters Falls', 'NY', 'Lewis']\n"
     ]
    }
   ],
   "source": [
    "gnisList = []\n",
    "with open(\"C:/Users/zina/Documents/school/GIS_GEO409/GIS_work/Data/NationalFile_20181001.txt\", encoding='utf-8') as csvfile:\n",
    "    reader = csv.reader(csvfile,delimiter=\"|\")\n",
    "    for row in reader:\n",
    "        if row[2] == \"Falls\":\n",
    "            gnisList.append(row[1])\n",
    "            gnisList.append(row[3])\n",
    "            gnisList.append(row[5])\n",
    "# this is a very long list, may not want to print it\n",
    "# print(gnisList)"
   ]
  },
  {
   "cell_type": "markdown",
   "metadata": {},
   "source": [
    "**open the pipe-delimited file, and read into the variable fallList those rows with FEATURE_CLASS \"Falls\" and STATE_ALPHA \"KY\", then print it**"
   ]
  },
  {
   "cell_type": "code",
   "execution_count": 7,
   "metadata": {
    "nbpresent": {
     "id": "56285114-a4ce-40df-a0d5-af8531bf2098"
    }
   },
   "outputs": [
    {
     "name": "stdout",
     "output_type": "stream",
     "text": [
      "['Caney Falls', '728', 'Falls of the Ohio', '381', 'Jock Falls', '850', 'Lick Falls', '702', 'Seventy Six Falls', '745', 'Stacy Falls', '984', 'Amos Falls', '1079', 'Anglin Falls', '1529', 'Cumberland Falls', '807', 'Eagle Falls', '833', 'Broken Leg Falls', '1053', 'Dog Slaughter Falls', '853', 'Little Mudlick Falls', '', 'Little Mudlick Falls', '', 'Wrigley Falls', '', 'Rock Bridge Falls', '902', 'Falls of Buffalo', '1145', 'Bells Falls', '', 'Falls of McCammon', '', 'Drennon Falls', '561', 'The Big Falls', '499', 'Irvine Fall', '469']\n"
     ]
    }
   ],
   "source": [
    "#import csv\n",
    "fallList = []\n",
    "with open(\"C:/Users/zina/Documents/school/GIS_GEO409/GIS_work/Data/NationalFile_20181001.txt\", encoding='utf-8') as csvfile:\n",
    "     reader = csv.reader(csvfile,delimiter=\"|\")\n",
    "     for row in reader:\n",
    "         if row[2] == \"Falls\" and row[3] == \"KY\":\n",
    "             fallList.append(row[1])\n",
    "             fallList.append(row[-4])\n",
    "\n",
    "print(fallList)\n"
   ]
  },
  {
   "cell_type": "code",
   "execution_count": 7,
   "metadata": {
    "nbpresent": {
     "id": "a0b330cf-bef9-415a-afe5-1f49a59020a2"
    }
   },
   "outputs": [
    {
     "name": "stdout",
     "output_type": "stream",
     "text": [
      "[['488850', 'Caney Falls', 'Falls', 'KY', '21', 'Lawrence', '127', '380944N', '0825038W', '38.1623073', '-82.8437749', '', '', '', '', '222', '728', 'Webbville', '09/20/1979', ''], ['491963', 'Falls of the Ohio', 'Falls', 'KY', '21', 'Jefferson', '111', '381617N', '0854552W', '38.2714592', '-85.7644073', '', '', '', '', '116', '381', 'New Albany', '09/20/1979', ''], ['495287', 'Jock Falls', 'Falls', 'KY', '21', 'Wayne', '231', '364850N', '0845307W', '36.8139596', '-84.8852249', '', '', '', '', '259', '850', 'Parnell', '09/20/1979', ''], ['496491', 'Lick Falls', 'Falls', 'KY', '21', 'Carter', '043', '381152N', '0830246W', '38.1978959', '-83.0461109', '', '', '', '', '214', '702', 'Bruin', '09/20/1979', '03/13/2018'], ['503189', 'Seventy Six Falls', 'Falls', 'KY', '21', 'Clinton', '053', '364648N', '0850735W', '36.7800661', '-85.1263444', '', '', '', '', '227', '745', 'Wolf Creek Dam', '09/20/1979', ''], ['507320', 'Stacy Falls', 'Falls', 'KY', '21', 'Casey', '045', '372450N', '0850207W', '37.4139605', '-85.0352351', '', '', '', '', '300', '984', 'Bradfordsville NE', '01/01/2000', ''], ['510259', 'Amos Falls', 'Falls', 'KY', '21', 'Whitley', '235', '364926N', '0841533W', '36.8239719', '-84.2591028', '', '', '', '', '329', '1079', 'Cumberland Falls', '09/20/1979', ''], ['510277', 'Anglin Falls', 'Falls', 'KY', '21', 'Rockcastle', '203', '372959N', '0841302W', '37.4998068', '-84.2171549', '', '', '', '', '466', '1529', 'Johnetta', '09/20/1979', ''], ['511676', 'Cumberland Falls', 'Falls', 'KY', '21', 'McCreary', '147', '365019N', '0842042W', '36.83873', '-84.34503', '', '', '', '', '246', '807', 'Cumberland Falls', '09/20/1979', '01/12/2012'], ['511978', 'Eagle Falls', 'Falls', 'KY', '21', 'McCreary', '147', '365034N', '0842039W', '36.8428592', '-84.3441037', '', '', '', '', '254', '833', 'Cumberland Falls', '09/20/1979', ''], ['516727', 'Broken Leg Falls', 'Falls', 'KY', '21', 'Menifee', '165', '375440N', '0832923W', '37.9111957', '-83.4896296', '', '', '', '', '321', '1053', 'Ezel', '11/01/1991', ''], ['516829', 'Dog Slaughter Falls', 'Falls', 'KY', '21', 'Whitley', '235', '365129N', '0841841W', '36.8581378', '-84.3113254', '', '', '', '', '260', '853', 'Cumberland Falls', '06/01/1992', ''], ['2092807', 'Little Mudlick Falls', 'Falls', 'KY', '21', 'Johnson', '115', 'Unknown', 'Unknown', '0', '0', '', '', '', '', '', '', 'Paintsville', '09/07/2006', ''], ['2092808', 'Little Mudlick Falls', 'Falls', 'KY', '21', 'Johnson', '115', 'Unknown', 'Unknown', '0', '0', '', '', '', '', '', '', 'Paintsville', '09/07/2006', ''], ['2124557', 'Wrigley Falls', 'Falls', 'KY', '21', 'Morgan', '175', 'Unknown', 'Unknown', '0', '0', '', '', '', '', '', '', 'Lenox', '07/16/2007', ''], ['2364826', 'Rock Bridge Falls', 'Falls', 'KY', '21', 'Wolfe', '237', '374610N', '0833342W', '37.7694595', '-83.5617454', '', '', '', '', '275', '902', 'Pomeroyton', '11/30/2007', '02/08/2018'], ['2416573', 'Falls of Buffalo', 'Falls', 'KY', '21', 'Owsley', '189', '372100N', '0833248W', '37.3500501', '-83.5466235', '', '', '', '', '349', '1145', 'Mistletoe', '03/25/2008', '07/05/2018'], ['2416630', 'Bells Falls', 'Falls', 'KY', '21', 'Menifee', '165', 'Unknown', 'Unknown', '0', '0', '', '', '', '', '', '', 'Scranton', '03/26/2008', ''], ['2504998', 'Falls of McCammon', 'Falls', 'KY', '21', 'Jackson', '109', 'Unknown', 'Unknown', '0', '0', '', '', '', '', '', '', 'McKee', '10/22/2008', ''], ['2568588', 'Drennon Falls', 'Falls', 'KY', '21', 'Henry', '103', '382620N', '0850637W', '38.438928', '-85.1103475', '', '', '', '', '171', '561', 'Franklinton', '08/24/2009', '05/05/2015'], ['2742597', 'The Big Falls', 'Falls', 'KY', '21', 'Meade', '163', '375359N', '0860131W', '37.89975', '-86.02522', '', '', '', '', '152', '499', 'Rock Haven', '11/19/2012', ''], ['2742848', 'Irvine Fall', 'Falls', 'KY', '21', 'Allen', '003', '365407N', '0860812W', '36.90207', '-86.1368', '', '', '', '', '143', '469', 'Meador', '11/29/2012', '']]\n"
     ]
    }
   ],
   "source": [
    "# import csv\n",
    "# fall2List = []\n",
    "# with open(\"C:/Users/zina/Documents/school/GIS_GEO409/GIS_work/Data/NationalFile_20181001.txt\", encoding='utf-8', mode=w) as fallsfile:\n",
    "#      fallswriter = csv.writer(fallsfile,delimiter=\"|\")\n",
    "#      for row in reader:\n",
    "#          if row[2] == \"Falls\" and row[3] == \"KY\":\n",
    "#              fall2List.append(row)\n",
    "# print(fall2List)"
   ]
  },
  {
   "cell_type": "markdown",
   "metadata": {},
   "source": [
    "**using pandas can format file so it is easier to read, using the DataFrame**"
   ]
  },
  {
   "cell_type": "code",
   "execution_count": 8,
   "metadata": {
    "nbpresent": {
     "id": "ae96cd75-8021-4a75-a14e-4fd315a2605f"
    }
   },
   "outputs": [],
   "source": [
    "import pandas as pd\n",
    "import numpy as np"
   ]
  },
  {
   "cell_type": "code",
   "execution_count": 9,
   "metadata": {
    "nbpresent": {
     "id": "02291f9b-c95f-45b1-ac22-ff660dc396d0"
    }
   },
   "outputs": [],
   "source": [
    "with open(\"C:/Users/zina/Documents/school/GIS_GEO409/GIS_work/Data/NationalFile_20181001.txt\", encoding='utf-8') as csvfile:\n",
    "    reader = pd.read_csv(csvfile,delimiter=\"|\")\n",
    "    pdData = pd.DataFrame(reader)"
   ]
  },
  {
   "cell_type": "markdown",
   "metadata": {},
   "source": [
    "**select rows in which FEATURE_CLASS is \"Falls\" and STATE_ALPHA is \"KY\" and only include the listed fields**"
   ]
  },
  {
   "cell_type": "code",
   "execution_count": 10,
   "metadata": {
    "nbpresent": {
     "id": "aaefcbdd-6b3e-4bdb-b729-70a5debffaab"
    },
    "scrolled": true
   },
   "outputs": [
    {
     "data": {
      "text/html": [
       "<div>\n",
       "<style scoped>\n",
       "    .dataframe tbody tr th:only-of-type {\n",
       "        vertical-align: middle;\n",
       "    }\n",
       "\n",
       "    .dataframe tbody tr th {\n",
       "        vertical-align: top;\n",
       "    }\n",
       "\n",
       "    .dataframe thead th {\n",
       "        text-align: right;\n",
       "    }\n",
       "</style>\n",
       "<table border=\"1\" class=\"dataframe\">\n",
       "  <thead>\n",
       "    <tr style=\"text-align: right;\">\n",
       "      <th></th>\n",
       "      <th>FEATURE_ID</th>\n",
       "      <th>FEATURE_NAME</th>\n",
       "      <th>FEATURE_CLASS</th>\n",
       "      <th>STATE_ALPHA</th>\n",
       "      <th>COUNTY_NAME</th>\n",
       "      <th>PRIMARY_LAT_DMS</th>\n",
       "      <th>PRIM_LONG_DMS</th>\n",
       "      <th>PRIM_LAT_DEC</th>\n",
       "      <th>PRIM_LONG_DEC</th>\n",
       "      <th>ELEV_IN_FT</th>\n",
       "    </tr>\n",
       "  </thead>\n",
       "  <tbody>\n",
       "    <tr>\n",
       "      <th>441986</th>\n",
       "      <td>491963</td>\n",
       "      <td>Falls of the Ohio</td>\n",
       "      <td>Falls</td>\n",
       "      <td>KY</td>\n",
       "      <td>Jefferson</td>\n",
       "      <td>381617N</td>\n",
       "      <td>0854552W</td>\n",
       "      <td>38.271459</td>\n",
       "      <td>-85.764407</td>\n",
       "      <td>381.0</td>\n",
       "    </tr>\n",
       "    <tr>\n",
       "      <th>2244250</th>\n",
       "      <td>2742848</td>\n",
       "      <td>Irvine Fall</td>\n",
       "      <td>Falls</td>\n",
       "      <td>KY</td>\n",
       "      <td>Allen</td>\n",
       "      <td>365407N</td>\n",
       "      <td>0860812W</td>\n",
       "      <td>36.902070</td>\n",
       "      <td>-86.136800</td>\n",
       "      <td>469.0</td>\n",
       "    </tr>\n",
       "    <tr>\n",
       "      <th>2244083</th>\n",
       "      <td>2742597</td>\n",
       "      <td>The Big Falls</td>\n",
       "      <td>Falls</td>\n",
       "      <td>KY</td>\n",
       "      <td>Meade</td>\n",
       "      <td>375359N</td>\n",
       "      <td>0860131W</td>\n",
       "      <td>37.899750</td>\n",
       "      <td>-86.025220</td>\n",
       "      <td>499.0</td>\n",
       "    </tr>\n",
       "    <tr>\n",
       "      <th>2106878</th>\n",
       "      <td>2568588</td>\n",
       "      <td>Drennon Falls</td>\n",
       "      <td>Falls</td>\n",
       "      <td>KY</td>\n",
       "      <td>Henry</td>\n",
       "      <td>382620N</td>\n",
       "      <td>0850637W</td>\n",
       "      <td>38.438928</td>\n",
       "      <td>-85.110348</td>\n",
       "      <td>561.0</td>\n",
       "    </tr>\n",
       "    <tr>\n",
       "      <th>446496</th>\n",
       "      <td>496491</td>\n",
       "      <td>Lick Falls</td>\n",
       "      <td>Falls</td>\n",
       "      <td>KY</td>\n",
       "      <td>Carter</td>\n",
       "      <td>381152N</td>\n",
       "      <td>0830246W</td>\n",
       "      <td>38.197896</td>\n",
       "      <td>-83.046111</td>\n",
       "      <td>702.0</td>\n",
       "    </tr>\n",
       "    <tr>\n",
       "      <th>438896</th>\n",
       "      <td>488850</td>\n",
       "      <td>Caney Falls</td>\n",
       "      <td>Falls</td>\n",
       "      <td>KY</td>\n",
       "      <td>Lawrence</td>\n",
       "      <td>380944N</td>\n",
       "      <td>0825038W</td>\n",
       "      <td>38.162307</td>\n",
       "      <td>-82.843775</td>\n",
       "      <td>728.0</td>\n",
       "    </tr>\n",
       "    <tr>\n",
       "      <th>453149</th>\n",
       "      <td>503189</td>\n",
       "      <td>Seventy Six Falls</td>\n",
       "      <td>Falls</td>\n",
       "      <td>KY</td>\n",
       "      <td>Clinton</td>\n",
       "      <td>364648N</td>\n",
       "      <td>0850735W</td>\n",
       "      <td>36.780066</td>\n",
       "      <td>-85.126344</td>\n",
       "      <td>745.0</td>\n",
       "    </tr>\n",
       "    <tr>\n",
       "      <th>461565</th>\n",
       "      <td>511676</td>\n",
       "      <td>Cumberland Falls</td>\n",
       "      <td>Falls</td>\n",
       "      <td>KY</td>\n",
       "      <td>McCreary</td>\n",
       "      <td>365019N</td>\n",
       "      <td>0842042W</td>\n",
       "      <td>36.838730</td>\n",
       "      <td>-84.345030</td>\n",
       "      <td>807.0</td>\n",
       "    </tr>\n",
       "    <tr>\n",
       "      <th>461864</th>\n",
       "      <td>511978</td>\n",
       "      <td>Eagle Falls</td>\n",
       "      <td>Falls</td>\n",
       "      <td>KY</td>\n",
       "      <td>McCreary</td>\n",
       "      <td>365034N</td>\n",
       "      <td>0842039W</td>\n",
       "      <td>36.842859</td>\n",
       "      <td>-84.344104</td>\n",
       "      <td>833.0</td>\n",
       "    </tr>\n",
       "    <tr>\n",
       "      <th>445296</th>\n",
       "      <td>495287</td>\n",
       "      <td>Jock Falls</td>\n",
       "      <td>Falls</td>\n",
       "      <td>KY</td>\n",
       "      <td>Wayne</td>\n",
       "      <td>364850N</td>\n",
       "      <td>0845307W</td>\n",
       "      <td>36.813960</td>\n",
       "      <td>-84.885225</td>\n",
       "      <td>850.0</td>\n",
       "    </tr>\n",
       "    <tr>\n",
       "      <th>466676</th>\n",
       "      <td>516829</td>\n",
       "      <td>Dog Slaughter Falls</td>\n",
       "      <td>Falls</td>\n",
       "      <td>KY</td>\n",
       "      <td>Whitley</td>\n",
       "      <td>365129N</td>\n",
       "      <td>0841841W</td>\n",
       "      <td>36.858138</td>\n",
       "      <td>-84.311325</td>\n",
       "      <td>853.0</td>\n",
       "    </tr>\n",
       "    <tr>\n",
       "      <th>1979313</th>\n",
       "      <td>2364826</td>\n",
       "      <td>Rock Bridge Falls</td>\n",
       "      <td>Falls</td>\n",
       "      <td>KY</td>\n",
       "      <td>Wolfe</td>\n",
       "      <td>374610N</td>\n",
       "      <td>0833342W</td>\n",
       "      <td>37.769459</td>\n",
       "      <td>-83.561745</td>\n",
       "      <td>902.0</td>\n",
       "    </tr>\n",
       "    <tr>\n",
       "      <th>457247</th>\n",
       "      <td>507320</td>\n",
       "      <td>Stacy Falls</td>\n",
       "      <td>Falls</td>\n",
       "      <td>KY</td>\n",
       "      <td>Casey</td>\n",
       "      <td>372450N</td>\n",
       "      <td>0850207W</td>\n",
       "      <td>37.413960</td>\n",
       "      <td>-85.035235</td>\n",
       "      <td>984.0</td>\n",
       "    </tr>\n",
       "    <tr>\n",
       "      <th>466588</th>\n",
       "      <td>516727</td>\n",
       "      <td>Broken Leg Falls</td>\n",
       "      <td>Falls</td>\n",
       "      <td>KY</td>\n",
       "      <td>Menifee</td>\n",
       "      <td>375440N</td>\n",
       "      <td>0832923W</td>\n",
       "      <td>37.911196</td>\n",
       "      <td>-83.489630</td>\n",
       "      <td>1053.0</td>\n",
       "    </tr>\n",
       "    <tr>\n",
       "      <th>460155</th>\n",
       "      <td>510259</td>\n",
       "      <td>Amos Falls</td>\n",
       "      <td>Falls</td>\n",
       "      <td>KY</td>\n",
       "      <td>Whitley</td>\n",
       "      <td>364926N</td>\n",
       "      <td>0841533W</td>\n",
       "      <td>36.823972</td>\n",
       "      <td>-84.259103</td>\n",
       "      <td>1079.0</td>\n",
       "    </tr>\n",
       "    <tr>\n",
       "      <th>2012838</th>\n",
       "      <td>2416573</td>\n",
       "      <td>Falls of Buffalo</td>\n",
       "      <td>Falls</td>\n",
       "      <td>KY</td>\n",
       "      <td>Owsley</td>\n",
       "      <td>372100N</td>\n",
       "      <td>0833248W</td>\n",
       "      <td>37.350050</td>\n",
       "      <td>-83.546623</td>\n",
       "      <td>1145.0</td>\n",
       "    </tr>\n",
       "    <tr>\n",
       "      <th>460173</th>\n",
       "      <td>510277</td>\n",
       "      <td>Anglin Falls</td>\n",
       "      <td>Falls</td>\n",
       "      <td>KY</td>\n",
       "      <td>Rockcastle</td>\n",
       "      <td>372959N</td>\n",
       "      <td>0841302W</td>\n",
       "      <td>37.499807</td>\n",
       "      <td>-84.217155</td>\n",
       "      <td>1529.0</td>\n",
       "    </tr>\n",
       "    <tr>\n",
       "      <th>1929020</th>\n",
       "      <td>2092807</td>\n",
       "      <td>Little Mudlick Falls</td>\n",
       "      <td>Falls</td>\n",
       "      <td>KY</td>\n",
       "      <td>Johnson</td>\n",
       "      <td>Unknown</td>\n",
       "      <td>Unknown</td>\n",
       "      <td>0.000000</td>\n",
       "      <td>0.000000</td>\n",
       "      <td>NaN</td>\n",
       "    </tr>\n",
       "    <tr>\n",
       "      <th>1929021</th>\n",
       "      <td>2092808</td>\n",
       "      <td>Little Mudlick Falls</td>\n",
       "      <td>Falls</td>\n",
       "      <td>KY</td>\n",
       "      <td>Johnson</td>\n",
       "      <td>Unknown</td>\n",
       "      <td>Unknown</td>\n",
       "      <td>0.000000</td>\n",
       "      <td>0.000000</td>\n",
       "      <td>NaN</td>\n",
       "    </tr>\n",
       "    <tr>\n",
       "      <th>1954094</th>\n",
       "      <td>2124557</td>\n",
       "      <td>Wrigley Falls</td>\n",
       "      <td>Falls</td>\n",
       "      <td>KY</td>\n",
       "      <td>Morgan</td>\n",
       "      <td>Unknown</td>\n",
       "      <td>Unknown</td>\n",
       "      <td>0.000000</td>\n",
       "      <td>0.000000</td>\n",
       "      <td>NaN</td>\n",
       "    </tr>\n",
       "    <tr>\n",
       "      <th>2012874</th>\n",
       "      <td>2416630</td>\n",
       "      <td>Bells Falls</td>\n",
       "      <td>Falls</td>\n",
       "      <td>KY</td>\n",
       "      <td>Menifee</td>\n",
       "      <td>Unknown</td>\n",
       "      <td>Unknown</td>\n",
       "      <td>0.000000</td>\n",
       "      <td>0.000000</td>\n",
       "      <td>NaN</td>\n",
       "    </tr>\n",
       "    <tr>\n",
       "      <th>2075294</th>\n",
       "      <td>2504998</td>\n",
       "      <td>Falls of McCammon</td>\n",
       "      <td>Falls</td>\n",
       "      <td>KY</td>\n",
       "      <td>Jackson</td>\n",
       "      <td>Unknown</td>\n",
       "      <td>Unknown</td>\n",
       "      <td>0.000000</td>\n",
       "      <td>0.000000</td>\n",
       "      <td>NaN</td>\n",
       "    </tr>\n",
       "  </tbody>\n",
       "</table>\n",
       "</div>"
      ],
      "text/plain": [
       "         FEATURE_ID          FEATURE_NAME FEATURE_CLASS STATE_ALPHA  \\\n",
       "441986       491963     Falls of the Ohio         Falls          KY   \n",
       "2244250     2742848           Irvine Fall         Falls          KY   \n",
       "2244083     2742597         The Big Falls         Falls          KY   \n",
       "2106878     2568588         Drennon Falls         Falls          KY   \n",
       "446496       496491            Lick Falls         Falls          KY   \n",
       "438896       488850           Caney Falls         Falls          KY   \n",
       "453149       503189     Seventy Six Falls         Falls          KY   \n",
       "461565       511676      Cumberland Falls         Falls          KY   \n",
       "461864       511978           Eagle Falls         Falls          KY   \n",
       "445296       495287            Jock Falls         Falls          KY   \n",
       "466676       516829   Dog Slaughter Falls         Falls          KY   \n",
       "1979313     2364826     Rock Bridge Falls         Falls          KY   \n",
       "457247       507320           Stacy Falls         Falls          KY   \n",
       "466588       516727      Broken Leg Falls         Falls          KY   \n",
       "460155       510259            Amos Falls         Falls          KY   \n",
       "2012838     2416573      Falls of Buffalo         Falls          KY   \n",
       "460173       510277          Anglin Falls         Falls          KY   \n",
       "1929020     2092807  Little Mudlick Falls         Falls          KY   \n",
       "1929021     2092808  Little Mudlick Falls         Falls          KY   \n",
       "1954094     2124557         Wrigley Falls         Falls          KY   \n",
       "2012874     2416630           Bells Falls         Falls          KY   \n",
       "2075294     2504998     Falls of McCammon         Falls          KY   \n",
       "\n",
       "        COUNTY_NAME PRIMARY_LAT_DMS PRIM_LONG_DMS  PRIM_LAT_DEC  \\\n",
       "441986    Jefferson         381617N      0854552W     38.271459   \n",
       "2244250       Allen         365407N      0860812W     36.902070   \n",
       "2244083       Meade         375359N      0860131W     37.899750   \n",
       "2106878       Henry         382620N      0850637W     38.438928   \n",
       "446496       Carter         381152N      0830246W     38.197896   \n",
       "438896     Lawrence         380944N      0825038W     38.162307   \n",
       "453149      Clinton         364648N      0850735W     36.780066   \n",
       "461565     McCreary         365019N      0842042W     36.838730   \n",
       "461864     McCreary         365034N      0842039W     36.842859   \n",
       "445296        Wayne         364850N      0845307W     36.813960   \n",
       "466676      Whitley         365129N      0841841W     36.858138   \n",
       "1979313       Wolfe         374610N      0833342W     37.769459   \n",
       "457247        Casey         372450N      0850207W     37.413960   \n",
       "466588      Menifee         375440N      0832923W     37.911196   \n",
       "460155      Whitley         364926N      0841533W     36.823972   \n",
       "2012838      Owsley         372100N      0833248W     37.350050   \n",
       "460173   Rockcastle         372959N      0841302W     37.499807   \n",
       "1929020     Johnson         Unknown       Unknown      0.000000   \n",
       "1929021     Johnson         Unknown       Unknown      0.000000   \n",
       "1954094      Morgan         Unknown       Unknown      0.000000   \n",
       "2012874     Menifee         Unknown       Unknown      0.000000   \n",
       "2075294     Jackson         Unknown       Unknown      0.000000   \n",
       "\n",
       "         PRIM_LONG_DEC  ELEV_IN_FT  \n",
       "441986      -85.764407       381.0  \n",
       "2244250     -86.136800       469.0  \n",
       "2244083     -86.025220       499.0  \n",
       "2106878     -85.110348       561.0  \n",
       "446496      -83.046111       702.0  \n",
       "438896      -82.843775       728.0  \n",
       "453149      -85.126344       745.0  \n",
       "461565      -84.345030       807.0  \n",
       "461864      -84.344104       833.0  \n",
       "445296      -84.885225       850.0  \n",
       "466676      -84.311325       853.0  \n",
       "1979313     -83.561745       902.0  \n",
       "457247      -85.035235       984.0  \n",
       "466588      -83.489630      1053.0  \n",
       "460155      -84.259103      1079.0  \n",
       "2012838     -83.546623      1145.0  \n",
       "460173      -84.217155      1529.0  \n",
       "1929020       0.000000         NaN  \n",
       "1929021       0.000000         NaN  \n",
       "1954094       0.000000         NaN  \n",
       "2012874       0.000000         NaN  \n",
       "2075294       0.000000         NaN  "
      ]
     },
     "execution_count": 10,
     "metadata": {},
     "output_type": "execute_result"
    }
   ],
   "source": [
    "#pdData[[\"FEATURE_NAME\",\"FEATURE_CLASS\", \"ELEV_IN_FT\"]].sort_values(by=[\"ELEV_IN_FT\"])\n",
    "pdData[(pdData[\"FEATURE_CLASS\"] == \"Falls\") & (pdData[\"STATE_ALPHA\"] == \"KY\")][[\"FEATURE_ID\",\"FEATURE_NAME\",\"FEATURE_CLASS\",\"STATE_ALPHA\",\"COUNTY_NAME\",\"PRIMARY_LAT_DMS\",\"PRIM_LONG_DMS\",\"PRIM_LAT_DEC\",\"PRIM_LONG_DEC\",\"ELEV_IN_FT\"]].sort_values(by=[\"ELEV_IN_FT\"])"
   ]
  },
  {
   "cell_type": "markdown",
   "metadata": {},
   "source": [
    "**Use the to_csv() pandas method to save to CSV**"
   ]
  },
  {
   "cell_type": "code",
   "execution_count": 12,
   "metadata": {
    "nbpresent": {
     "id": "d7bac3f1-4a17-4930-95ff-66252895dbe0"
    }
   },
   "outputs": [],
   "source": [
    "pdData[pdData[\"FEATURE_CLASS\"] == \"Falls\"].to_csv(\"../Data/falls_us.csv\")"
   ]
  },
  {
   "cell_type": "code",
   "execution_count": 11,
   "metadata": {},
   "outputs": [],
   "source": [
    "pdData[(pdData[\"FEATURE_CLASS\"] == \"Falls\") & (pdData[\"STATE_ALPHA\"] == \"KY\")].to_csv(\"../Data/falls_ky.csv\")"
   ]
  },
  {
   "cell_type": "code",
   "execution_count": null,
   "metadata": {
    "nbpresent": {
     "id": "96469ebc-213b-48d4-803d-91bd26f09eba"
    }
   },
   "outputs": [],
   "source": []
  }
 ],
 "metadata": {
  "kernelspec": {
   "display_name": "Python 3",
   "language": "python",
   "name": "python3"
  },
  "language_info": {
   "codemirror_mode": {
    "name": "ipython",
    "version": 3
   },
   "file_extension": ".py",
   "mimetype": "text/x-python",
   "name": "python",
   "nbconvert_exporter": "python",
   "pygments_lexer": "ipython3",
   "version": "3.6.5"
  }
 },
 "nbformat": 4,
 "nbformat_minor": 2
}

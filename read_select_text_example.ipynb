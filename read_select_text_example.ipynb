{
 "cells": [
  {
   "cell_type": "code",
   "execution_count": 1,
   "metadata": {
    "nbpresent": {
     "id": "27360bf3-2cc6-48c0-92fc-546aa5030b82"
    }
   },
   "outputs": [],
   "source": [
    "import csv"
   ]
  },
  {
   "cell_type": "markdown",
   "metadata": {},
   "source": [
    "**open the pipe-delimited text file, select the rows with FEATURE_CLASS \"Falls\" and append FEATURE_NAME, STATE_ALPHA, and COUNTY_NAME to the variable gnisList, then print it**"
   ]
  },
  {
   "cell_type": "code",
   "execution_count": 2,
   "metadata": {
    "nbpresent": {
     "id": "1b29fda0-a047-4d9a-84a6-75f7c1de6631"
    }
   },
   "outputs": [
    {
     "ename": "FileNotFoundError",
     "evalue": "[Errno 2] No such file or directory: 'C:/Users/zina/Documents/school/GIS_GEO409/GIS_work/Data/NationalFile_20181001.txt'",
     "output_type": "error",
     "traceback": [
      "\u001b[1;31m---------------------------------------------------------------------------\u001b[0m",
      "\u001b[1;31mFileNotFoundError\u001b[0m                         Traceback (most recent call last)",
      "\u001b[1;32m<ipython-input-2-73249be0ad7b>\u001b[0m in \u001b[0;36m<module>\u001b[1;34m()\u001b[0m\n\u001b[0;32m      1\u001b[0m \u001b[0mgnisList\u001b[0m \u001b[1;33m=\u001b[0m \u001b[1;33m[\u001b[0m\u001b[1;33m]\u001b[0m\u001b[1;33m\u001b[0m\u001b[0m\n\u001b[1;32m----> 2\u001b[1;33m \u001b[1;32mwith\u001b[0m \u001b[0mopen\u001b[0m\u001b[1;33m(\u001b[0m\u001b[1;34m\"C:/Users/zina/Documents/school/GIS_GEO409/GIS_work/Data/NationalFile_20181001.txt\"\u001b[0m\u001b[1;33m,\u001b[0m \u001b[0mencoding\u001b[0m\u001b[1;33m=\u001b[0m\u001b[1;34m'utf-8'\u001b[0m\u001b[1;33m)\u001b[0m \u001b[1;32mas\u001b[0m \u001b[0mcsvfile\u001b[0m\u001b[1;33m:\u001b[0m\u001b[1;33m\u001b[0m\u001b[0m\n\u001b[0m\u001b[0;32m      3\u001b[0m     \u001b[0mreader\u001b[0m \u001b[1;33m=\u001b[0m \u001b[0mcsv\u001b[0m\u001b[1;33m.\u001b[0m\u001b[0mreader\u001b[0m\u001b[1;33m(\u001b[0m\u001b[0mcsvfile\u001b[0m\u001b[1;33m,\u001b[0m\u001b[0mdelimiter\u001b[0m\u001b[1;33m=\u001b[0m\u001b[1;34m\"|\"\u001b[0m\u001b[1;33m)\u001b[0m\u001b[1;33m\u001b[0m\u001b[0m\n\u001b[0;32m      4\u001b[0m     \u001b[1;32mfor\u001b[0m \u001b[0mrow\u001b[0m \u001b[1;32min\u001b[0m \u001b[0mreader\u001b[0m\u001b[1;33m:\u001b[0m\u001b[1;33m\u001b[0m\u001b[0m\n\u001b[0;32m      5\u001b[0m         \u001b[1;32mif\u001b[0m \u001b[0mrow\u001b[0m\u001b[1;33m[\u001b[0m\u001b[1;36m2\u001b[0m\u001b[1;33m]\u001b[0m \u001b[1;33m==\u001b[0m \u001b[1;34m\"Falls\"\u001b[0m\u001b[1;33m:\u001b[0m\u001b[1;33m\u001b[0m\u001b[0m\n",
      "\u001b[1;31mFileNotFoundError\u001b[0m: [Errno 2] No such file or directory: 'C:/Users/zina/Documents/school/GIS_GEO409/GIS_work/Data/NationalFile_20181001.txt'"
     ]
    }
   ],
   "source": [
    "gnisList = []\n",
    "with open(\"C:/Users/zina/Documents/school/GIS_GEO409/GIS_work/Data/NationalFile_20181001.txt\", encoding='utf-8') as csvfile:\n",
    "    reader = csv.reader(csvfile,delimiter=\"|\")\n",
    "    for row in reader:\n",
    "        if row[2] == \"Falls\":\n",
    "            gnisList.append(row[1])\n",
    "            gnisList.append(row[3])\n",
    "            gnisList.append(row[5])\n",
    "# this is a very long list, may not want to print it\n",
    "# print(gnisList)"
   ]
  },
  {
   "cell_type": "markdown",
   "metadata": {},
   "source": [
    "**open the pipe-delimited file, and read into the variable fallList those rows with FEATURE_CLASS \"Falls\" and STATE_ALPHA \"KY\", then print it**"
   ]
  },
  {
   "cell_type": "code",
   "execution_count": 7,
   "metadata": {
    "nbpresent": {
     "id": "56285114-a4ce-40df-a0d5-af8531bf2098"
    }
   },
   "outputs": [
    {
     "name": "stdout",
     "output_type": "stream",
     "text": [
      "['Caney Falls', '728', 'Falls of the Ohio', '381', 'Jock Falls', '850', 'Lick Falls', '702', 'Seventy Six Falls', '745', 'Stacy Falls', '984', 'Amos Falls', '1079', 'Anglin Falls', '1529', 'Cumberland Falls', '807', 'Eagle Falls', '833', 'Broken Leg Falls', '1053', 'Dog Slaughter Falls', '853', 'Little Mudlick Falls', '', 'Little Mudlick Falls', '', 'Wrigley Falls', '', 'Rock Bridge Falls', '902', 'Falls of Buffalo', '1145', 'Bells Falls', '', 'Falls of McCammon', '', 'Drennon Falls', '561', 'The Big Falls', '499', 'Irvine Fall', '469']\n"
     ]
    }
   ],
   "source": [
    "#import csv\n",
    "fallList = []\n",
    "with open(\"C:/Users/zina/Documents/school/GIS_GEO409/GIS_work/Data/NationalFile_20181001.txt\", encoding='utf-8') as csvfile:\n",
    "     reader = csv.reader(csvfile,delimiter=\"|\")\n",
    "     for row in reader:\n",
    "         if row[2] == \"Falls\" and row[3] == \"KY\":\n",
    "             fallList.append(row[1])\n",
    "             fallList.append(row[-4])\n",
    "\n",
    "print(fallList)\n"
   ]
  },
  {
   "cell_type": "code",
   "execution_count": 7,
   "metadata": {
    "nbpresent": {
     "id": "a0b330cf-bef9-415a-afe5-1f49a59020a2"
    }
   },
   "outputs": [
    {
     "name": "stdout",
     "output_type": "stream",
     "text": [
      "[['488850', 'Caney Falls', 'Falls', 'KY', '21', 'Lawrence', '127', '380944N', '0825038W', '38.1623073', '-82.8437749', '', '', '', '', '222', '728', 'Webbville', '09/20/1979', ''], ['491963', 'Falls of the Ohio', 'Falls', 'KY', '21', 'Jefferson', '111', '381617N', '0854552W', '38.2714592', '-85.7644073', '', '', '', '', '116', '381', 'New Albany', '09/20/1979', ''], ['495287', 'Jock Falls', 'Falls', 'KY', '21', 'Wayne', '231', '364850N', '0845307W', '36.8139596', '-84.8852249', '', '', '', '', '259', '850', 'Parnell', '09/20/1979', ''], ['496491', 'Lick Falls', 'Falls', 'KY', '21', 'Carter', '043', '381152N', '0830246W', '38.1978959', '-83.0461109', '', '', '', '', '214', '702', 'Bruin', '09/20/1979', '03/13/2018'], ['503189', 'Seventy Six Falls', 'Falls', 'KY', '21', 'Clinton', '053', '364648N', '0850735W', '36.7800661', '-85.1263444', '', '', '', '', '227', '745', 'Wolf Creek Dam', '09/20/1979', ''], ['507320', 'Stacy Falls', 'Falls', 'KY', '21', 'Casey', '045', '372450N', '0850207W', '37.4139605', '-85.0352351', '', '', '', '', '300', '984', 'Bradfordsville NE', '01/01/2000', ''], ['510259', 'Amos Falls', 'Falls', 'KY', '21', 'Whitley', '235', '364926N', '0841533W', '36.8239719', '-84.2591028', '', '', '', '', '329', '1079', 'Cumberland Falls', '09/20/1979', ''], ['510277', 'Anglin Falls', 'Falls', 'KY', '21', 'Rockcastle', '203', '372959N', '0841302W', '37.4998068', '-84.2171549', '', '', '', '', '466', '1529', 'Johnetta', '09/20/1979', ''], ['511676', 'Cumberland Falls', 'Falls', 'KY', '21', 'McCreary', '147', '365019N', '0842042W', '36.83873', '-84.34503', '', '', '', '', '246', '807', 'Cumberland Falls', '09/20/1979', '01/12/2012'], ['511978', 'Eagle Falls', 'Falls', 'KY', '21', 'McCreary', '147', '365034N', '0842039W', '36.8428592', '-84.3441037', '', '', '', '', '254', '833', 'Cumberland Falls', '09/20/1979', ''], ['516727', 'Broken Leg Falls', 'Falls', 'KY', '21', 'Menifee', '165', '375440N', '0832923W', '37.9111957', '-83.4896296', '', '', '', '', '321', '1053', 'Ezel', '11/01/1991', ''], ['516829', 'Dog Slaughter Falls', 'Falls', 'KY', '21', 'Whitley', '235', '365129N', '0841841W', '36.8581378', '-84.3113254', '', '', '', '', '260', '853', 'Cumberland Falls', '06/01/1992', ''], ['2092807', 'Little Mudlick Falls', 'Falls', 'KY', '21', 'Johnson', '115', 'Unknown', 'Unknown', '0', '0', '', '', '', '', '', '', 'Paintsville', '09/07/2006', ''], ['2092808', 'Little Mudlick Falls', 'Falls', 'KY', '21', 'Johnson', '115', 'Unknown', 'Unknown', '0', '0', '', '', '', '', '', '', 'Paintsville', '09/07/2006', ''], ['2124557', 'Wrigley Falls', 'Falls', 'KY', '21', 'Morgan', '175', 'Unknown', 'Unknown', '0', '0', '', '', '', '', '', '', 'Lenox', '07/16/2007', ''], ['2364826', 'Rock Bridge Falls', 'Falls', 'KY', '21', 'Wolfe', '237', '374610N', '0833342W', '37.7694595', '-83.5617454', '', '', '', '', '275', '902', 'Pomeroyton', '11/30/2007', '02/08/2018'], ['2416573', 'Falls of Buffalo', 'Falls', 'KY', '21', 'Owsley', '189', '372100N', '0833248W', '37.3500501', '-83.5466235', '', '', '', '', '349', '1145', 'Mistletoe', '03/25/2008', '07/05/2018'], ['2416630', 'Bells Falls', 'Falls', 'KY', '21', 'Menifee', '165', 'Unknown', 'Unknown', '0', '0', '', '', '', '', '', '', 'Scranton', '03/26/2008', ''], ['2504998', 'Falls of McCammon', 'Falls', 'KY', '21', 'Jackson', '109', 'Unknown', 'Unknown', '0', '0', '', '', '', '', '', '', 'McKee', '10/22/2008', ''], ['2568588', 'Drennon Falls', 'Falls', 'KY', '21', 'Henry', '103', '382620N', '0850637W', '38.438928', '-85.1103475', '', '', '', '', '171', '561', 'Franklinton', '08/24/2009', '05/05/2015'], ['2742597', 'The Big Falls', 'Falls', 'KY', '21', 'Meade', '163', '375359N', '0860131W', '37.89975', '-86.02522', '', '', '', '', '152', '499', 'Rock Haven', '11/19/2012', ''], ['2742848', 'Irvine Fall', 'Falls', 'KY', '21', 'Allen', '003', '365407N', '0860812W', '36.90207', '-86.1368', '', '', '', '', '143', '469', 'Meador', '11/29/2012', '']]\n"
     ]
    }
   ],
   "source": [
    "# import csv\n",
    "# fall2List = []\n",
    "# with open(\"C:/Users/zina/Documents/school/GIS_GEO409/GIS_work/Data/NationalFile_20181001.txt\", encoding='utf-8', mode=w) as fallsfile:\n",
    "#      fallswriter = csv.writer(fallsfile,delimiter=\"|\")\n",
    "#      for row in reader:\n",
    "#          if row[2] == \"Falls\" and row[3] == \"KY\":\n",
    "#              fall2List.append(row)\n",
    "# print(fall2List)"
   ]
  },
  {
   "cell_type": "markdown",
   "metadata": {},
   "source": [
    "**using pandas can format file so it is easier to read, using the DataFrame**"
   ]
  },
  {
   "cell_type": "code",
   "execution_count": 8,
   "metadata": {
    "nbpresent": {
     "id": "ae96cd75-8021-4a75-a14e-4fd315a2605f"
    }
   },
   "outputs": [],
   "source": [
    "import pandas as pd\n",
    "import numpy as np"
   ]
  },
  {
   "cell_type": "code",
   "execution_count": 9,
   "metadata": {
    "nbpresent": {
     "id": "02291f9b-c95f-45b1-ac22-ff660dc396d0"
    }
   },
   "outputs": [],
   "source": [
    "with open(\"C:/Users/zina/Documents/school/GIS_GEO409/GIS_work/Data/NationalFile_20181001.txt\", encoding='utf-8') as csvfile:\n",
    "    reader = pd.read_csv(csvfile,delimiter=\"|\")\n",
    "    pdData = pd.DataFrame(reader)"
   ]
  },
  {
   "cell_type": "markdown",
   "metadata": {},
   "source": [
    "**select rows in which FEATURE_CLASS is \"Falls\" and STATE_ALPHA is \"KY\" and only include the listed fields**"
   ]
  },
  {
   "cell_type": "code",
   "execution_count": 10,
   "metadata": {
    "nbpresent": {
     "id": "aaefcbdd-6b3e-4bdb-b729-70a5debffaab"
    },
    "scrolled": true
   },
   "outputs": [
    {
     "data": {
      "text/html": [
       "<div>\n",
       "<style scoped>\n",
       "    .dataframe tbody tr th:only-of-type {\n",
       "        vertical-align: middle;\n",
       "    }\n",
       "\n",
       "    .dataframe tbody tr th {\n",
       "        vertical-align: top;\n",
       "    }\n",
       "\n",
       "    .dataframe thead th {\n",
       "        text-align: right;\n",
       "    }\n",
       "</style>\n",
       "<table border=\"1\" class=\"dataframe\">\n",
       "  <thead>\n",
       "    <tr style=\"text-align: right;\">\n",
       "      <th></th>\n",
       "      <th>FEATURE_ID</th>\n",
       "      <th>FEATURE_NAME</th>\n",
       "      <th>FEATURE_CLASS</th>\n",
       "      <th>STATE_ALPHA</th>\n",
       "      <th>COUNTY_NAME</th>\n",
       "      <th>PRIMARY_LAT_DMS</th>\n",
       "      <th>PRIM_LONG_DMS</th>\n",
       "      <th>PRIM_LAT_DEC</th>\n",
       "      <th>PRIM_LONG_DEC</th>\n",
       "      <th>ELEV_IN_FT</th>\n",
       "    </tr>\n",
       "  </thead>\n",
       "  <tbody>\n",
       "    <tr>\n",
       "      <th>441986</th>\n",
       "      <td>491963</td>\n",
       "      <td>Falls of the Ohio</td>\n",
       "      <td>Falls</td>\n",
       "      <td>KY</td>\n",
       "      <td>Jefferson</td>\n",
       "      <td>381617N</td>\n",
       "      <td>0854552W</td>\n",
       "      <td>38.271459</td>\n",
       "      <td>-85.764407</td>\n",
       "      <td>381.0</td>\n",
       "    </tr>\n",
       "    <tr>\n",
       "      <th>2244250</th>\n",
       "      <td>2742848</td>\n",
       "      <td>Irvine Fall</td>\n",
       "      <td>Falls</td>\n",
       "      <td>KY</td>\n",
       "      <td>Allen</td>\n",
       "      <td>365407N</td>\n",
       "      <td>0860812W</td>\n",
       "      <td>36.902070</td>\n",
       "      <td>-86.136800</td>\n",
       "      <td>469.0</td>\n",
       "    </tr>\n",
       "    <tr>\n",
       "      <th>2244083</th>\n",
       "      <td>2742597</td>\n",
       "      <td>The Big Falls</td>\n",
       "      <td>Falls</td>\n",
       "      <td>KY</td>\n",
       "      <td>Meade</td>\n",
       "      <td>375359N</td>\n",
       "      <td>0860131W</td>\n",
       "      <td>37.899750</td>\n",
       "      <td>-86.025220</td>\n",
       "      <td>499.0</td>\n",
       "    </tr>\n",
       "    <tr>\n",
       "      <th>2106878</th>\n",
       "      <td>2568588</td>\n",
       "      <td>Drennon Falls</td>\n",
       "      <td>Falls</td>\n",
       "      <td>KY</td>\n",
       "      <td>Henry</td>\n",
       "      <td>382620N</td>\n",
       "      <td>0850637W</td>\n",
       "      <td>38.438928</td>\n",
       "      <td>-85.110348</td>\n",
       "      <td>561.0</td>\n",
       "    </tr>\n",
       "    <tr>\n",
       "      <th>446496</th>\n",
       "      <td>496491</td>\n",
       "      <td>Lick Falls</td>\n",
       "      <td>Falls</td>\n",
       "      <td>KY</td>\n",
       "      <td>Carter</td>\n",
       "      <td>381152N</td>\n",
       "      <td>0830246W</td>\n",
       "      <td>38.197896</td>\n",
       "      <td>-83.046111</td>\n",
       "      <td>702.0</td>\n",
       "    </tr>\n",
       "    <tr>\n",
       "      <th>438896</th>\n",
       "      <td>488850</td>\n",
       "      <td>Caney Falls</td>\n",
       "      <td>Falls</td>\n",
       "      <td>KY</td>\n",
       "      <td>Lawrence</td>\n",
       "      <td>380944N</td>\n",
       "      <td>0825038W</td>\n",
       "      <td>38.162307</td>\n",
       "      <td>-82.843775</td>\n",
       "      <td>728.0</td>\n",
       "    </tr>\n",
       "    <tr>\n",
       "      <th>453149</th>\n",
       "      <td>503189</td>\n",
       "      <td>Seventy Six Falls</td>\n",
       "      <td>Falls</td>\n",
       "      <td>KY</td>\n",
       "      <td>Clinton</td>\n",
       "      <td>364648N</td>\n",
       "      <td>0850735W</td>\n",
       "      <td>36.780066</td>\n",
       "      <td>-85.126344</td>\n",
       "      <td>745.0</td>\n",
       "    </tr>\n",
       "    <tr>\n",
       "      <th>461565</th>\n",
       "      <td>511676</td>\n",
       "      <td>Cumberland Falls</td>\n",
       "      <td>Falls</td>\n",
       "      <td>KY</td>\n",
       "      <td>McCreary</td>\n",
       "      <td>365019N</td>\n",
       "      <td>0842042W</td>\n",
       "      <td>36.838730</td>\n",
       "      <td>-84.345030</td>\n",
       "      <td>807.0</td>\n",
       "    </tr>\n",
       "    <tr>\n",
       "      <th>461864</th>\n",
       "      <td>511978</td>\n",
       "      <td>Eagle Falls</td>\n",
       "      <td>Falls</td>\n",
       "      <td>KY</td>\n",
       "      <td>McCreary</td>\n",
       "      <td>365034N</td>\n",
       "      <td>0842039W</td>\n",
       "      <td>36.842859</td>\n",
       "      <td>-84.344104</td>\n",
       "      <td>833.0</td>\n",
       "    </tr>\n",
       "    <tr>\n",
       "      <th>445296</th>\n",
       "      <td>495287</td>\n",
       "      <td>Jock Falls</td>\n",
       "      <td>Falls</td>\n",
       "      <td>KY</td>\n",
       "      <td>Wayne</td>\n",
       "      <td>364850N</td>\n",
       "      <td>0845307W</td>\n",
       "      <td>36.813960</td>\n",
       "      <td>-84.885225</td>\n",
       "      <td>850.0</td>\n",
       "    </tr>\n",
       "    <tr>\n",
       "      <th>466676</th>\n",
       "      <td>516829</td>\n",
       "      <td>Dog Slaughter Falls</td>\n",
       "      <td>Falls</td>\n",
       "      <td>KY</td>\n",
       "      <td>Whitley</td>\n",
       "      <td>365129N</td>\n",
       "      <td>0841841W</td>\n",
       "      <td>36.858138</td>\n",
       "      <td>-84.311325</td>\n",
       "      <td>853.0</td>\n",
       "    </tr>\n",
       "    <tr>\n",
       "      <th>1979313</th>\n",
       "      <td>2364826</td>\n",
       "      <td>Rock Bridge Falls</td>\n",
       "      <td>Falls</td>\n",
       "      <td>KY</td>\n",
       "      <td>Wolfe</td>\n",
       "      <td>374610N</td>\n",
       "      <td>0833342W</td>\n",
       "      <td>37.769459</td>\n",
       "      <td>-83.561745</td>\n",
       "      <td>902.0</td>\n",
       "    </tr>\n",
       "    <tr>\n",
       "      <th>457247</th>\n",
       "      <td>507320</td>\n",
       "      <td>Stacy Falls</td>\n",
       "      <td>Falls</td>\n",
       "      <td>KY</td>\n",
       "      <td>Casey</td>\n",
       "      <td>372450N</td>\n",
       "      <td>0850207W</td>\n",
       "      <td>37.413960</td>\n",
       "      <td>-85.035235</td>\n",
       "      <td>984.0</td>\n",
       "    </tr>\n",
       "    <tr>\n",
       "      <th>466588</th>\n",
       "      <td>516727</td>\n",
       "      <td>Broken Leg Falls</td>\n",
       "      <td>Falls</td>\n",
       "      <td>KY</td>\n",
       "      <td>Menifee</td>\n",
       "      <td>375440N</td>\n",
       "      <td>0832923W</td>\n",
       "      <td>37.911196</td>\n",
       "      <td>-83.489630</td>\n",
       "      <td>1053.0</td>\n",
       "    </tr>\n",
       "    <tr>\n",
       "      <th>460155</th>\n",
       "      <td>510259</td>\n",
       "      <td>Amos Falls</td>\n",
       "      <td>Falls</td>\n",
       "      <td>KY</td>\n",
       "      <td>Whitley</td>\n",
       "      <td>364926N</td>\n",
       "      <td>0841533W</td>\n",
       "      <td>36.823972</td>\n",
       "      <td>-84.259103</td>\n",
       "      <td>1079.0</td>\n",
       "    </tr>\n",
       "    <tr>\n",
       "      <th>2012838</th>\n",
       "      <td>2416573</td>\n",
       "      <td>Falls of Buffalo</td>\n",
       "      <td>Falls</td>\n",
       "      <td>KY</td>\n",
       "      <td>Owsley</td>\n",
       "      <td>372100N</td>\n",
       "      <td>0833248W</td>\n",
       "      <td>37.350050</td>\n",
       "      <td>-83.546623</td>\n",
       "      <td>1145.0</td>\n",
       "    </tr>\n",
       "    <tr>\n",
       "      <th>460173</th>\n",
       "      <td>510277</td>\n",
       "      <td>Anglin Falls</td>\n",
       "      <td>Falls</td>\n",
       "      <td>KY</td>\n",
       "      <td>Rockcastle</td>\n",
       "      <td>372959N</td>\n",
       "      <td>0841302W</td>\n",
       "      <td>37.499807</td>\n",
       "      <td>-84.217155</td>\n",
       "      <td>1529.0</td>\n",
       "    </tr>\n",
       "    <tr>\n",
       "      <th>1929020</th>\n",
       "      <td>2092807</td>\n",
       "      <td>Little Mudlick Falls</td>\n",
       "      <td>Falls</td>\n",
       "      <td>KY</td>\n",
       "      <td>Johnson</td>\n",
       "      <td>Unknown</td>\n",
       "      <td>Unknown</td>\n",
       "      <td>0.000000</td>\n",
       "      <td>0.000000</td>\n",
       "      <td>NaN</td>\n",
       "    </tr>\n",
       "    <tr>\n",
       "      <th>1929021</th>\n",
       "      <td>2092808</td>\n",
       "      <td>Little Mudlick Falls</td>\n",
       "      <td>Falls</td>\n",
       "      <td>KY</td>\n",
       "      <td>Johnson</td>\n",
       "      <td>Unknown</td>\n",
       "      <td>Unknown</td>\n",
       "      <td>0.000000</td>\n",
       "      <td>0.000000</td>\n",
       "      <td>NaN</td>\n",
       "    </tr>\n",
       "    <tr>\n",
       "      <th>1954094</th>\n",
       "      <td>2124557</td>\n",
       "      <td>Wrigley Falls</td>\n",
       "      <td>Falls</td>\n",
       "      <td>KY</td>\n",
       "      <td>Morgan</td>\n",
       "      <td>Unknown</td>\n",
       "      <td>Unknown</td>\n",
       "      <td>0.000000</td>\n",
       "      <td>0.000000</td>\n",
       "      <td>NaN</td>\n",
       "    </tr>\n",
       "    <tr>\n",
       "      <th>2012874</th>\n",
       "      <td>2416630</td>\n",
       "      <td>Bells Falls</td>\n",
       "      <td>Falls</td>\n",
       "      <td>KY</td>\n",
       "      <td>Menifee</td>\n",
       "      <td>Unknown</td>\n",
       "      <td>Unknown</td>\n",
       "      <td>0.000000</td>\n",
       "      <td>0.000000</td>\n",
       "      <td>NaN</td>\n",
       "    </tr>\n",
       "    <tr>\n",
       "      <th>2075294</th>\n",
       "      <td>2504998</td>\n",
       "      <td>Falls of McCammon</td>\n",
       "      <td>Falls</td>\n",
       "      <td>KY</td>\n",
       "      <td>Jackson</td>\n",
       "      <td>Unknown</td>\n",
       "      <td>Unknown</td>\n",
       "      <td>0.000000</td>\n",
       "      <td>0.000000</td>\n",
       "      <td>NaN</td>\n",
       "    </tr>\n",
       "  </tbody>\n",
       "</table>\n",
       "</div>"
      ],
      "text/plain": [
       "         FEATURE_ID          FEATURE_NAME FEATURE_CLASS STATE_ALPHA  \\\n",
       "441986       491963     Falls of the Ohio         Falls          KY   \n",
       "2244250     2742848           Irvine Fall         Falls          KY   \n",
       "2244083     2742597         The Big Falls         Falls          KY   \n",
       "2106878     2568588         Drennon Falls         Falls          KY   \n",
       "446496       496491            Lick Falls         Falls          KY   \n",
       "438896       488850           Caney Falls         Falls          KY   \n",
       "453149       503189     Seventy Six Falls         Falls          KY   \n",
       "461565       511676      Cumberland Falls         Falls          KY   \n",
       "461864       511978           Eagle Falls         Falls          KY   \n",
       "445296       495287            Jock Falls         Falls          KY   \n",
       "466676       516829   Dog Slaughter Falls         Falls          KY   \n",
       "1979313     2364826     Rock Bridge Falls         Falls          KY   \n",
       "457247       507320           Stacy Falls         Falls          KY   \n",
       "466588       516727      Broken Leg Falls         Falls          KY   \n",
       "460155       510259            Amos Falls         Falls          KY   \n",
       "2012838     2416573      Falls of Buffalo         Falls          KY   \n",
       "460173       510277          Anglin Falls         Falls          KY   \n",
       "1929020     2092807  Little Mudlick Falls         Falls          KY   \n",
       "1929021     2092808  Little Mudlick Falls         Falls          KY   \n",
       "1954094     2124557         Wrigley Falls         Falls          KY   \n",
       "2012874     2416630           Bells Falls         Falls          KY   \n",
       "2075294     2504998     Falls of McCammon         Falls          KY   \n",
       "\n",
       "        COUNTY_NAME PRIMARY_LAT_DMS PRIM_LONG_DMS  PRIM_LAT_DEC  \\\n",
       "441986    Jefferson         381617N      0854552W     38.271459   \n",
       "2244250       Allen         365407N      0860812W     36.902070   \n",
       "2244083       Meade         375359N      0860131W     37.899750   \n",
       "2106878       Henry         382620N      0850637W     38.438928   \n",
       "446496       Carter         381152N      0830246W     38.197896   \n",
       "438896     Lawrence         380944N      0825038W     38.162307   \n",
       "453149      Clinton         364648N      0850735W     36.780066   \n",
       "461565     McCreary         365019N      0842042W     36.838730   \n",
       "461864     McCreary         365034N      0842039W     36.842859   \n",
       "445296        Wayne         364850N      0845307W     36.813960   \n",
       "466676      Whitley         365129N      0841841W     36.858138   \n",
       "1979313       Wolfe         374610N      0833342W     37.769459   \n",
       "457247        Casey         372450N      0850207W     37.413960   \n",
       "466588      Menifee         375440N      0832923W     37.911196   \n",
       "460155      Whitley         364926N      0841533W     36.823972   \n",
       "2012838      Owsley         372100N      0833248W     37.350050   \n",
       "460173   Rockcastle         372959N      0841302W     37.499807   \n",
       "1929020     Johnson         Unknown       Unknown      0.000000   \n",
       "1929021     Johnson         Unknown       Unknown      0.000000   \n",
       "1954094      Morgan         Unknown       Unknown      0.000000   \n",
       "2012874     Menifee         Unknown       Unknown      0.000000   \n",
       "2075294     Jackson         Unknown       Unknown      0.000000   \n",
       "\n",
       "         PRIM_LONG_DEC  ELEV_IN_FT  \n",
       "441986      -85.764407       381.0  \n",
       "2244250     -86.136800       469.0  \n",
       "2244083     -86.025220       499.0  \n",
       "2106878     -85.110348       561.0  \n",
       "446496      -83.046111       702.0  \n",
       "438896      -82.843775       728.0  \n",
       "453149      -85.126344       745.0  \n",
       "461565      -84.345030       807.0  \n",
       "461864      -84.344104       833.0  \n",
       "445296      -84.885225       850.0  \n",
       "466676      -84.311325       853.0  \n",
       "1979313     -83.561745       902.0  \n",
       "457247      -85.035235       984.0  \n",
       "466588      -83.489630      1053.0  \n",
       "460155      -84.259103      1079.0  \n",
       "2012838     -83.546623      1145.0  \n",
       "460173      -84.217155      1529.0  \n",
       "1929020       0.000000         NaN  \n",
       "1929021       0.000000         NaN  \n",
       "1954094       0.000000         NaN  \n",
       "2012874       0.000000         NaN  \n",
       "2075294       0.000000         NaN  "
      ]
     },
     "execution_count": 10,
     "metadata": {},
     "output_type": "execute_result"
    }
   ],
   "source": [
    "#pdData[[\"FEATURE_NAME\",\"FEATURE_CLASS\", \"ELEV_IN_FT\"]].sort_values(by=[\"ELEV_IN_FT\"])\n",
    "pdData[(pdData[\"FEATURE_CLASS\"] == \"Falls\") & (pdData[\"STATE_ALPHA\"] == \"KY\")][[\"FEATURE_ID\",\"FEATURE_NAME\",\"FEATURE_CLASS\",\"STATE_ALPHA\",\"COUNTY_NAME\",\"PRIMARY_LAT_DMS\",\"PRIM_LONG_DMS\",\"PRIM_LAT_DEC\",\"PRIM_LONG_DEC\",\"ELEV_IN_FT\"]].sort_values(by=[\"ELEV_IN_FT\"])"
   ]
  },
  {
   "cell_type": "markdown",
   "metadata": {},
   "source": [
    "**Use the to_csv() pandas method to save to CSV**"
   ]
  },
  {
   "cell_type": "code",
   "execution_count": 12,
   "metadata": {
    "nbpresent": {
     "id": "d7bac3f1-4a17-4930-95ff-66252895dbe0"
    }
   },
   "outputs": [],
   "source": [
    "pdData[pdData[\"FEATURE_CLASS\"] == \"Falls\"].to_csv(\"../Data/falls_us.csv\")"
   ]
  },
  {
   "cell_type": "code",
   "execution_count": 11,
   "metadata": {},
   "outputs": [],
   "source": [
    "pdData[(pdData[\"FEATURE_CLASS\"] == \"Falls\") & (pdData[\"STATE_ALPHA\"] == \"KY\")].to_csv(\"../Data/falls_ky.csv\")"
   ]
  },
  {
   "cell_type": "code",
   "execution_count": null,
   "metadata": {
    "nbpresent": {
     "id": "96469ebc-213b-48d4-803d-91bd26f09eba"
    }
   },
   "outputs": [],
   "source": []
  }
 ],
 "metadata": {
  "kernelspec": {
   "display_name": "Python 3",
   "language": "python",
   "name": "python3"
  },
  "language_info": {
   "codemirror_mode": {
    "name": "ipython",
    "version": 3
   },
   "file_extension": ".py",
   "mimetype": "text/x-python",
   "name": "python",
   "nbconvert_exporter": "python",
   "pygments_lexer": "ipython3",
   "version": "3.6.5"
  }
 },
 "nbformat": 4,
 "nbformat_minor": 2
}
